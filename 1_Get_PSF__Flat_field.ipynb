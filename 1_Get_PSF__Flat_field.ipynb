{
 "cells": [
  {
   "cell_type": "code",
   "execution_count": 1,
   "id": "f83b7f71",
   "metadata": {
    "tags": []
   },
   "outputs": [],
   "source": [
    "from ioMicro import *"
   ]
  },
  {
   "cell_type": "code",
   "execution_count": null,
   "id": "160e3e09",
   "metadata": {},
   "outputs": [],
   "source": [
    "fl =r'\\\\192.168.0.100\\bbfish100\\DCBBL1_4week_6_2_2023\\P2_Sox11_Sox2_Dcx__set2\\Conv_zscan__010.zarr'\n",
    "im = read_im(fl)\n",
    "import napari\n",
    "napari.view_image(im);"
   ]
  },
  {
   "cell_type": "markdown",
   "id": "98c80ed0",
   "metadata": {},
   "source": [
    "### Save psf"
   ]
  },
  {
   "cell_type": "code",
   "execution_count": 4,
   "id": "b763c267",
   "metadata": {},
   "outputs": [],
   "source": [
    "psfs = []"
   ]
  },
  {
   "cell_type": "code",
   "execution_count": null,
   "id": "7909f09c",
   "metadata": {},
   "outputs": [],
   "source": [
    "master_folder = r'\\\\192.168.0.100\\bbfish100\\DCBBL1_4week_6_2_2023\\P2_Sox11_Sox2_Dcx__set2'\n",
    "\n",
    "for ifov in tqdm([11,12,13,14,15,16,17,18]):\n",
    "    im = read_im(master_folder+r'\\Conv_zscan__'+str(ifov).zfill(3)+'.zarr')\n",
    "    im_ = np.array(im[0][1:,500:2500,500:2500],dtype=np.float32)\n",
    "    psf = get_psf(im_,th=1000,th_cor = 0.75,delta=3,delta_fit = 7,sxyzP = [15,60,60])\n",
    "    psfs.append(psf)\n",
    "#napari.view_image(im)\n",
    "psff = np.mean([psf for psf in psfs if psf is not None],axis=0)\n",
    "psff_ = np.array([p-np.median(p) for p in psff])\n",
    "from scipy.ndimage import median_filter\n",
    "psff_med = median_filter(psff_, size=15)\n",
    "psfff = (psff_-psff_med)[5:-5,5:-5,5:-5][:-1,:-1,:-1]\n",
    "psfff[psfff<0]=0\n",
    "psfff = psfff/np.max(psfff)\n",
    "np.save('psf_750_Scope3_final.npy',psfff)"
   ]
  },
  {
   "cell_type": "code",
   "execution_count": 16,
   "id": "bd0a3499",
   "metadata": {},
   "outputs": [],
   "source": [
    "if False:\n",
    "    imd = apply_deconv(im_[:,750:-750,750:-750],\n",
    "        psf=psf,\n",
    "        plt_val=True,\n",
    "        parameters={'method': 'wiener', 'beta': 0.0001, 'niter': 50},\n",
    "        gpu=False,\n",
    "        force=True,\n",
    "        pad=None)"
   ]
  },
  {
   "cell_type": "code",
   "execution_count": 22,
   "id": "78532fc0",
   "metadata": {},
   "outputs": [
    {
     "data": {
      "text/plain": [
       "'\\\\\\\\192.168.0.100\\\\bbfish100\\\\DCBBL1_4week_6_2_2023\\\\MERFISH_Analysis\\\\psf_750_Scope3_final.npy'"
      ]
     },
     "execution_count": 22,
     "metadata": {},
     "output_type": "execute_result"
    }
   ],
   "source": [
    "import shutil\n",
    "save_folder = os.path.dirname(master_folder)+os.sep+'MERFISH_Analysis'\n",
    "if not os.path.exists(save_folder): os.makedirs(save_folder)\n",
    "shutil.copy2(os.path.abspath('psf_750_Scope3_final.npy'),save_folder+os.sep+'psf_750_Scope3_final.npy')"
   ]
  },
  {
   "cell_type": "markdown",
   "id": "e50ced4c",
   "metadata": {},
   "source": [
    "### Compute flat field"
   ]
  },
  {
   "cell_type": "code",
   "execution_count": 24,
   "id": "c53fb0d8",
   "metadata": {},
   "outputs": [
    {
     "data": {
      "text/plain": [
       "(300, 300)"
      ]
     },
     "execution_count": 24,
     "metadata": {},
     "output_type": "execute_result"
    }
   ],
   "source": [
    "#np.load(r'\\\\192.168.0.100\\bbfish100\\DCBBL1_1year1wkNJ_ASO_SAL_4_18_2023\\MERFISH_Analysis\\med_col0.npz')['im'].shape"
   ]
  },
  {
   "cell_type": "code",
   "execution_count": 2,
   "id": "e2d8b1b9",
   "metadata": {
    "tags": []
   },
   "outputs": [],
   "source": [
    "data_fld = r'\\\\192.168.0.100\\bbfish100\\DCBBL1_4week_6_2_2023\\P2_Sox11_Sox2_Dcx__set1'\n",
    "save_folder = os.path.dirname(data_fld)+os.sep+'MERFISH_Analysis'\n",
    "if not os.path.exists(save_folder): os.makedirs(save_folder)"
   ]
  },
  {
   "cell_type": "code",
   "execution_count": 3,
   "id": "10dc99ce",
   "metadata": {
    "tags": []
   },
   "outputs": [
    {
     "name": "stderr",
     "output_type": "stream",
     "text": [
      "100%|████████████████████████████████████████████████████████████████████████████████| 698/698 [06:50<00:00,  1.70it/s]\n",
      "100%|████████████████████████████████████████████████████████████████████████████████| 698/698 [06:52<00:00,  1.69it/s]\n",
      "100%|████████████████████████████████████████████████████████████████████████████████| 698/698 [06:39<00:00,  1.75it/s]\n",
      "100%|████████████████████████████████████████████████████████████████████████████████| 698/698 [06:43<00:00,  1.73it/s]\n"
     ]
    }
   ],
   "source": [
    "compute_flat_field_raw(data_fld=data_fld,\n",
    "    save_folder=save_folder,\n",
    "    ncols=4)"
   ]
  },
  {
   "cell_type": "markdown",
   "id": "f796a1a5",
   "metadata": {},
   "source": [
    "### Compute mosaics"
   ]
  },
  {
   "cell_type": "code",
   "execution_count": 1,
   "id": "d4fadd5c",
   "metadata": {
    "tags": []
   },
   "outputs": [
    {
     "name": "stdout",
     "output_type": "stream",
     "text": [
      "\\\\192.168.0.21\\bbfishdc21\\HttHuman_Snonia__06_12_2023\\mosaics\\H0__set1_col-1.png\n"
     ]
    },
    {
     "data": {
      "application/vnd.jupyter.widget-view+json": {
       "model_id": "c4fae23bf9af405baea8fdfd9e582619",
       "version_major": 2,
       "version_minor": 0
      },
      "text/plain": [
       "  0%|          | 0/67 [00:00<?, ?it/s]"
      ]
     },
     "metadata": {},
     "output_type": "display_data"
    },
    {
     "name": "stdout",
     "output_type": "stream",
     "text": [
      "\\\\192.168.0.21\\bbfishdc21\\HttHuman_Snonia__06_12_2023\\mosaics\\H0__set1_col-1_annot.png\n",
      "\\\\192.168.0.21\\bbfishdc21\\HttHuman_Snonia__06_12_2023\\mosaics\\H0__set2_col-1.png\n"
     ]
    },
    {
     "data": {
      "application/vnd.jupyter.widget-view+json": {
       "model_id": "6ecfbf88a7c7458c90fcfe64edff2104",
       "version_major": 2,
       "version_minor": 0
      },
      "text/plain": [
       "  0%|          | 0/27 [00:00<?, ?it/s]"
      ]
     },
     "metadata": {},
     "output_type": "display_data"
    },
    {
     "name": "stdout",
     "output_type": "stream",
     "text": [
      "\\\\192.168.0.21\\bbfishdc21\\HttHuman_Snonia__06_12_2023\\mosaics\\H0__set2_col-1_annot.png\n",
      "\\\\192.168.0.21\\bbfishdc21\\HttHuman_Snonia__06_12_2023\\mosaics\\H0__set3_col-1.png\n"
     ]
    },
    {
     "data": {
      "application/vnd.jupyter.widget-view+json": {
       "model_id": "e5b994e704fc410394cc3c0e3d5a7368",
       "version_major": 2,
       "version_minor": 0
      },
      "text/plain": [
       "  0%|          | 0/74 [00:00<?, ?it/s]"
      ]
     },
     "metadata": {},
     "output_type": "display_data"
    },
    {
     "name": "stdout",
     "output_type": "stream",
     "text": [
      "\\\\192.168.0.21\\bbfishdc21\\HttHuman_Snonia__06_12_2023\\mosaics\\H0__set3_col-1_annot.png\n",
      "\\\\192.168.0.21\\bbfishdc21\\HttHuman_Snonia__06_12_2023\\mosaics\\H0__set4_col-1.png\n"
     ]
    },
    {
     "data": {
      "application/vnd.jupyter.widget-view+json": {
       "model_id": "ac8a4e5758f44c62bb2367ee0673b8e4",
       "version_major": 2,
       "version_minor": 0
      },
      "text/plain": [
       "  0%|          | 0/58 [00:00<?, ?it/s]"
      ]
     },
     "metadata": {},
     "output_type": "display_data"
    },
    {
     "name": "stdout",
     "output_type": "stream",
     "text": [
      "\\\\192.168.0.21\\bbfishdc21\\HttHuman_Snonia__06_12_2023\\mosaics\\H0__set4_col-1_annot.png\n",
      "\\\\192.168.0.21\\bbfishdc21\\HttHuman_Snonia__06_12_2023\\mosaics\\H0__set5_col-1.png\n"
     ]
    },
    {
     "data": {
      "application/vnd.jupyter.widget-view+json": {
       "model_id": "6c47fa7c86d8439e847b99ff5b30294f",
       "version_major": 2,
       "version_minor": 0
      },
      "text/plain": [
       "  0%|          | 0/91 [00:00<?, ?it/s]"
      ]
     },
     "metadata": {},
     "output_type": "display_data"
    },
    {
     "name": "stdout",
     "output_type": "stream",
     "text": [
      "\\\\192.168.0.21\\bbfishdc21\\HttHuman_Snonia__06_12_2023\\mosaics\\H0__set5_col-1_annot.png\n"
     ]
    }
   ],
   "source": [
    "import time\n",
    "import numpy as np,os,sys,glob\n",
    "import matplotlib.pylab as plt\n",
    "from ioMicro import *\n",
    "\n",
    "data_flds = glob.glob(r'\\\\192.168.0.21\\bbfishdc21\\HttHuman_Snonia__06_12_2023\\H0__*')\n",
    "for data_fld in data_flds:\n",
    "    resc = 4\n",
    "    icol = -1\n",
    "    save_folder= os.path.dirname(data_fld)+os.sep+'mosaics'\n",
    "    if not os.path.exists(save_folder): os.makedirs(save_folder)\n",
    "    if os.path.isdir(data_fld):\n",
    "        \n",
    "        fl_save = save_folder+os.sep+os.path.basename(data_fld)+'_col'+str(icol)+'.png'\n",
    "        print(fl_save)\n",
    "        if not os.path.exists(fl_save):\n",
    "            fls_ = np.sort(glob.glob(data_fld+r'\\*.zarr'))\n",
    "            ims,xs_um,ys_um=[],[],[]\n",
    "            from tqdm.notebook import tqdm\n",
    "\n",
    "            for fl in tqdm(fls_[:]):\n",
    "                im,x,y = read_im(fl,return_pos=True)\n",
    "                ims.append(np.array(im[icol][15,::resc,::resc],dtype=np.float32))\n",
    "                xs_um.append(x)\n",
    "                ys_um.append(y)\n",
    "\n",
    "            im_big,xs,ys = compose_mosaic([im.T[::-1,::1] for im in ims],xs_um,ys_um,ims_c=None,\n",
    "                                          um_per_pix=0.1083333*resc,\n",
    "                                          rot = 0,return_coords= True)\n",
    "\n",
    "\n",
    "            resc_ = 3\n",
    "            data_fld = os.path.dirname(fls_[0])\n",
    "            fig = plt.figure(figsize=(30,30))\n",
    "            im__ = im_big[::resc_,::resc_]\n",
    "            vmax = np.percentile(im__[im__>0],99.)\n",
    "            plt.imshow(im_big.T[::resc_,::resc_],vmin=0,vmax=vmax,cmap='gray')\n",
    "\n",
    "\n",
    "            fig.savefig(fl_save)\n",
    "            for x_,y_,fl_ in zip(xs,ys,fls_):\n",
    "                ifov = fl_.split('_')[-1].split('.')[0]\n",
    "                plt.text(x_/resc_,y_/resc_,ifov,color='r')\n",
    "            plt.xticks([])\n",
    "            plt.yticks([])\n",
    "            fl_save = fl_save.replace('.png','_annot.png')\n",
    "            print(fl_save)\n",
    "            fig.savefig(fl_save)\n",
    "            plt.close('all')\n",
    "#     else:\n",
    "#         time.sleep(300)"
   ]
  },
  {
   "cell_type": "markdown",
   "id": "74439a2a",
   "metadata": {},
   "source": [
    "### Compute one fov"
   ]
  },
  {
   "cell_type": "code",
   "execution_count": 1,
   "id": "60bd2aa9",
   "metadata": {},
   "outputs": [
    {
     "name": "stdout",
     "output_type": "stream",
     "text": [
      "Computing fitting on: Conv_zscan__030.zarr\n",
      "19 ['\\\\\\\\192.168.0.100\\\\bbfish100\\\\DCBBL1_4week_6_2_2023\\\\H0__set1', '\\\\\\\\192.168.0.100\\\\bbfish100\\\\DCBBL1_4week_6_2_2023\\\\P1__Igfbp_Aldh1l1_Ptbp1__set1', '\\\\\\\\192.168.0.100\\\\bbfish100\\\\DCBBL1_4week_6_2_2023\\\\H1_MER_set1', '\\\\\\\\192.168.0.100\\\\bbfish100\\\\DCBBL1_4week_6_2_2023\\\\P2_Sox11_Sox2_Dcx__set1', '\\\\\\\\192.168.0.100\\\\bbfish100\\\\DCBBL1_4week_6_2_2023\\\\H2_MER_set1', '\\\\\\\\192.168.0.100\\\\bbfish100\\\\DCBBL1_4week_6_2_2023\\\\H3_MER_set1', '\\\\\\\\192.168.0.100\\\\bbfish100\\\\DCBBL1_4week_6_2_2023\\\\H4_MER_set1', '\\\\\\\\192.168.0.100\\\\bbfish100\\\\DCBBL1_4week_6_2_2023\\\\H5_MER_set1', '\\\\\\\\192.168.0.100\\\\bbfish100\\\\DCBBL1_4week_6_2_2023\\\\H6_MER_set1', '\\\\\\\\192.168.0.100\\\\bbfish100\\\\DCBBL1_4week_6_2_2023\\\\H7_MER_set1', '\\\\\\\\192.168.0.100\\\\bbfish100\\\\DCBBL1_4week_6_2_2023\\\\H8_MER_set1', '\\\\\\\\192.168.0.100\\\\bbfish100\\\\DCBBL1_4week_6_2_2023\\\\H9_MER_set1', '\\\\\\\\192.168.0.100\\\\bbfish100\\\\DCBBL1_4week_6_2_2023\\\\H10_MER_set1', '\\\\\\\\192.168.0.100\\\\bbfish100\\\\DCBBL1_4week_6_2_2023\\\\H11_MER_set1', '\\\\\\\\192.168.0.100\\\\bbfish100\\\\DCBBL1_4week_6_2_2023\\\\H12_MER_set1', '\\\\\\\\192.168.0.100\\\\bbfish100\\\\DCBBL1_4week_6_2_2023\\\\H13_MER_set1', '\\\\\\\\192.168.0.100\\\\bbfish100\\\\DCBBL1_4week_6_2_2023\\\\H14_MER_set1', '\\\\\\\\192.168.0.100\\\\bbfish100\\\\DCBBL1_4week_6_2_2023\\\\H15_MER_set1', '\\\\\\\\192.168.0.100\\\\bbfish100\\\\DCBBL1_4week_6_2_2023\\\\H16_MER_set1']\n"
     ]
    },
    {
     "name": "stderr",
     "output_type": "stream",
     "text": [
      "100%|█████████████████████████████████████████████████████████████████████████████████| 19/19 [48:05<00:00, 151.87s/it]\n"
     ]
    },
    {
     "name": "stdout",
     "output_type": "stream",
     "text": [
      "Computing drift on: Conv_zscan__030.zarr\n",
      "Computing drift...\n"
     ]
    },
    {
     "name": "stderr",
     "output_type": "stream",
     "text": [
      "100%|██████████████████████████████████████████████████████████████████████████████████| 19/19 [04:25<00:00, 13.96s/it]\n"
     ]
    },
    {
     "name": "stdout",
     "output_type": "stream",
     "text": [
      "Not completed\n"
     ]
    },
    {
     "name": "stderr",
     "output_type": "stream",
     "text": [
      "100%|██████████████████████████████████████████████████████████████████████████████████| 19/19 [00:38<00:00,  2.01s/it]\n",
      "100%|███████████████████████████████████████████████████████████████████████████████████| 3/3 [05:34<00:00, 111.34s/it]\n"
     ]
    },
    {
     "name": "stdout",
     "output_type": "stream",
     "text": [
      "Unfolded molecules: 132.8494153022766\n",
      "Computed the decoding: 160.5524594783783\n"
     ]
    },
    {
     "name": "stderr",
     "output_type": "stream",
     "text": [
      "100%|███████████████████████████████████████████████████████████████████| 16172708/16172708 [02:51<00:00, 94427.83it/s]\n"
     ]
    },
    {
     "name": "stdout",
     "output_type": "stream",
     "text": [
      "Computed best unique assigment: 174.56177759170532\n"
     ]
    },
    {
     "data": {
      "text/plain": [
       "['_set1', 30]"
      ]
     },
     "execution_count": 1,
     "metadata": {},
     "output_type": "execute_result"
    }
   ],
   "source": [
    "from ioMicro import *\n",
    "from workerScope3New import *\n",
    "#get_files(['_set1',30])\n",
    "\n",
    "main_f(['_set1',30],redo_fits = False,redo_drift=False,redo_decoding=False,try_mode=False)"
   ]
  },
  {
   "cell_type": "code",
   "execution_count": 6,
   "id": "ad22b79f",
   "metadata": {},
   "outputs": [
    {
     "name": "stdout",
     "output_type": "stream",
     "text": [
      "Loaded decoded: -4.9082701206207275\n"
     ]
    }
   ],
   "source": [
    "from ioMicro import *\n",
    "\n",
    "save_folder = r'\\\\192.168.0.100\\bbfish100\\DCBBL1_4week_6_2_2023\\MERFISH_Analysis'\n",
    "fov,set_ = 'Conv_zscan__030','_set1'\n",
    "dec = decoder_simple(save_folder,fov,set_)\n",
    "dec.load_decoded()"
   ]
  },
  {
   "cell_type": "code",
   "execution_count": 9,
   "id": "19569238",
   "metadata": {},
   "outputs": [
    {
     "name": "stderr",
     "output_type": "stream",
     "text": [
      "100%|██████████████████████████████████████████████████████████████████████████████████| 48/48 [00:09<00:00,  5.22it/s]\n"
     ]
    },
    {
     "data": {
      "image/png": "[encoded data removed]",
      "text/plain": [
       "<Figure size 640x480 with 1 Axes>"
      ]
     },
     "metadata": {},
     "output_type": "display_data"
    }
   ],
   "source": [
    "apply_fine_drift(dec,plt_val=True)"
   ]
  },
  {
   "cell_type": "code",
   "execution_count": 10,
   "id": "bf7716e7",
   "metadata": {},
   "outputs": [],
   "source": []
  },
  {
   "cell_type": "code",
   "execution_count": 11,
   "id": "41bcbdd8",
   "metadata": {},
   "outputs": [
    {
     "data": {
      "image/png": "[encoded data removed]",
      "text/plain": [
       "<Figure size 640x480 with 1 Axes>"
      ]
     },
     "metadata": {},
     "output_type": "display_data"
    }
   ],
   "source": [
    "dec.ncols=3\n",
    "scoresRef = get_score_per_color(dec)\n",
    "get_score_withRef(dec,scoresRef,plt_val=True,gene=None,iSs = None)\n",
    "dec.th=-1.5\n",
    "plot_statistics(dec)"
   ]
  },
  {
   "cell_type": "code",
   "execution_count": 12,
   "id": "9a15eb46",
   "metadata": {},
   "outputs": [
    {
     "data": {
      "image/png": "[encoded data removed]",
      "text/plain": [
       "<Figure size 640x480 with 1 Axes>"
      ]
     },
     "metadata": {},
     "output_type": "display_data"
    }
   ],
   "source": [
    "dec.th=-1.5\n",
    "plot_statistics(dec)"
   ]
  },
  {
   "cell_type": "code",
   "execution_count": null,
   "id": "b9a2b861",
   "metadata": {},
   "outputs": [],
   "source": []
  },
  {
   "cell_type": "code",
   "execution_count": 31,
   "id": "deffd461",
   "metadata": {},
   "outputs": [],
   "source": [
    "viewer = plot_multigenes(dec,genes=['Vim'],colors=['r','g','b','m','c','y','w'],viewer = None,\n",
    "                         smin=2,smax=10)"
   ]
  },
  {
   "cell_type": "code",
   "execution_count": 18,
   "id": "88ccd258",
   "metadata": {},
   "outputs": [
    {
     "data": {
      "text/plain": [
       "array(['blank0251', 'blank0252', 'blank0253', 'blank0254', 'blank0255',\n",
       "       'blank0256', 'blank0257', 'blank0258', 'blank0259', 'blank0260',\n",
       "       'blank0261', 'blank0262', 'blank0263', 'blank0264', 'blank0265',\n",
       "       'blank0266', 'blank0267', 'blank0268', 'blank0269', 'blank0270',\n",
       "       'blank0271', 'blank0272', 'blank0273', 'blank0274', 'blank0275',\n",
       "       'blank0276', 'blank0277', 'blank0278', 'blank0279', 'blank0280',\n",
       "       'blank0281', 'blank0282', 'blank0283', 'blank0284', 'blank0285',\n",
       "       'blank0286', 'blank0287', 'blank0288', 'blank0289', 'blank0290',\n",
       "       'blank0291', 'blank0292', 'blank0293', 'blank0294', 'blank0295',\n",
       "       'blank0296', 'blank0297', 'blank0298', 'blank0299', 'blank0300',\n",
       "       'Acer3', 'Actg1', 'Adcy2', 'Ahcyl2', 'Aldoc', 'Ascl1', 'Auts2',\n",
       "       'Bhlhe22', 'Bmp2', 'Bsg', 'C1qa', 'Calb1', 'Cck', 'Cdh12', 'Cdk4',\n",
       "       'Chrdl1', 'Cnr1', 'Csmd1', 'Cst3', 'Dgat2', 'Dlx1', 'Dsp',\n",
       "       'Eif4a2', 'Emx2', 'Eomes', 'Fam107a', 'Flt1', 'Foxa2', 'Foxg1',\n",
       "       'Gabbr1', 'Gad1', 'Gja1', 'Gpc4', 'Grb14', 'Grin2c', 'Hapln2',\n",
       "       'Hmgn3', 'Id3', 'Igfbpl1', 'Kcnd2', 'Lhx3', 'Lockd', 'Lrp1b',\n",
       "       'Mal', 'Mapk4', 'Mbp', 'Mgat4c', 'Mrc1', 'Myc', 'Nckap5',\n",
       "       'Neurod1', 'Neurod6', 'Nfia', 'Nkain4', 'Nog', 'Npy2r', 'Nrgn',\n",
       "       'Ntng1', 'Ogt', 'Olr1', 'Padi2', 'Pam', 'Pde1a', 'Plekha1', 'Pnoc',\n",
       "       'Prox1', 'Ptbp2', 'Rasl10a', 'Reln', 'Riiad1', 'Rpl38', 'S1pr3',\n",
       "       'Serping1', 'Sgk1', 'Slc1a3', 'Slco1c1', 'Sox11', 'Sox4', 'Spag5',\n",
       "       'Steap4', 'Tardbp', 'Tgfb1', 'Thrsp', 'Tmsb10', 'Tpt1', 'Tshz2',\n",
       "       'Unc13c', 'Vip', 'Wfs1', 'Zfp36l1', 'Acta2', 'Adarb2', 'Adgrl3',\n",
       "       'Aif1l', 'Aqp4', 'Atp1a2', 'Bcl2', 'Bmp4', 'Bsn', 'C1ql1', 'Calb2',\n",
       "       'Casp3', 'Cd14', 'Cdh13', 'Clasp1', 'Cntnap5b', 'Cspg4', 'Dcc',\n",
       "       'Dgkb', 'Dlx2', 'Efna5', 'Elavl2', 'Elavl3', 'Erbb4', 'Etv4',\n",
       "       'Fam214a', 'Fos', 'Frmd4a', 'Fxyd6', 'Fxyd7', 'Gabra1', 'Gda',\n",
       "       'Gli1', 'Gpm6a', 'Grp', 'Hdac8', 'Hopx', 'Hs6st3', 'Inpp4b',\n",
       "       'Insm1', 'Kif4', 'Lhx6', 'Lpar1', 'Lrrtm4', 'Marcks', 'Mcm2',\n",
       "       'Mertk', 'Mgl2', 'Mt2', 'Myf5', 'Ndst4', 'Nell1', 'Neurod2',\n",
       "       'Neurog1', 'Ngef', 'Nmb', 'Notch3', 'Nr3c2', 'Ntrk2', 'Olig1',\n",
       "       'Opalin', 'Pax6', 'Pdgfra', 'Pou3f2', 'Prom1', 'Psap', 'Ptgds',\n",
       "       'Rbfox3', 'Rest', 'Rtn4', 'Sall3', 'Scd2', 'Sema3a', 'Sgcd',\n",
       "       'Sin3a', 'Slc2a1', 'Slit2', 'Sorcs1', 'Sox2', 'Spink8', 'Stox2',\n",
       "       'Tac2', 'Tbr1', 'Thy1', 'Trim2', 'Unc13a', 'Unc5c', 'Vnn1',\n",
       "       'Vps13c', 'Wipf3', 'Abhd2', 'Actb', 'Adcy1', 'Agt', 'Aldh1a1',\n",
       "       'Arx', 'Atp1b1', 'Bdnf', 'Brinp3', 'Btg2', 'C1ql3', 'Casp9',\n",
       "       'Cd74', 'Cdh18', 'Cdk1', 'Cldn5', 'Cox6a1', 'Cspg5', 'Dcx', 'Dgkh',\n",
       "       'Dpysl3', 'Egfem1', 'Elavl4', 'Emx1', 'F3', 'Fam210b', 'Fbll1',\n",
       "       'Foxa1', 'Frzb', 'Fyn', 'Gabra2', 'Gal', 'Gfap', 'Gm10076', 'Gnb1',\n",
       "       'Gpr17', 'H2afz', 'Hes5', 'Htra1', 'Htt', 'Junb', 'Kcng4',\n",
       "       'Laptm5', 'Llgl1', 'Map3k15', 'Mast4', 'Mcu', 'Mfge8', 'Mki67',\n",
       "       'Mtrf1', 'Mxd3', 'Myod1', 'Necab3', 'Nes', 'Neurod4', 'Neurog2',\n",
       "       'Nkain2', 'Nnat', 'Npas3', 'Nrg3', 'Ntf3', 'Nxph1', 'Olig2',\n",
       "       'Opcml', 'Pde10a', 'Pex5l', 'Plxna1', 'Prkg1', 'Ptbp1', 'Pvalb',\n",
       "       'Rbms3', 'Rhcg', 'Robo1', 'S100b', 'Sdk1', 'Serpinf1', 'Sgcz',\n",
       "       'Slc17a6', 'Slc1a2', 'Slc5a7', 'Smarca4', 'Sox10', 'Sox9', 'Sst',\n",
       "       'Synpr', 'Tenm2', 'Tfap2c', 'Tmem108', 'Top2a', 'Trps1', 'Unc13b',\n",
       "       'Vim', 'Wdr17', 'Wnt8b', 'Zbtb20'], dtype='<U9')"
      ]
     },
     "execution_count": 18,
     "metadata": {},
     "output_type": "execute_result"
    }
   ],
   "source": [
    "dec.gns_names[250:]"
   ]
  },
  {
   "cell_type": "markdown",
   "id": "11fac0ec",
   "metadata": {},
   "source": [
    "### Check progress"
   ]
  },
  {
   "cell_type": "code",
   "execution_count": 3,
   "id": "bb88cf73",
   "metadata": {},
   "outputs": [],
   "source": [
    "#save_folder =r'\\\\192.168.0.6\\bbfishjoy4\\CGBB_embryo_4_28_2023\\MERFISH_Analysis3'\n",
    "import os,glob,numpy as np\n",
    "data_fld = r'\\\\192.168.0.100\\bbfish100\\DCBBL1_4week_6_2_2023\\P2_Sox11_Sox2_Dcx__set1'\n",
    "save_folder = os.path.dirname(data_fld)+os.sep+'MERFISH_Analysis'\n",
    "fls = glob.glob(save_folder+os.sep+'decoded*')"
   ]
  },
  {
   "cell_type": "code",
   "execution_count": 4,
   "id": "99c7d7bc",
   "metadata": {},
   "outputs": [
    {
     "data": {
      "text/plain": [
       "504"
      ]
     },
     "execution_count": 4,
     "metadata": {},
     "output_type": "execute_result"
    }
   ],
   "source": [
    "len(fls)"
   ]
  },
  {
   "cell_type": "code",
   "execution_count": 7,
   "id": "257e1177",
   "metadata": {},
   "outputs": [
    {
     "name": "stdout",
     "output_type": "stream",
     "text": [
      "813\n"
     ]
    }
   ],
   "source": [
    "fov_fls = glob.glob(save_folder+os.sep+'*fov*')\n",
    "fov_all = [(fl_,os.path.basename(fl).split('__')[-1].split('.')[0]) for fl in fov_fls for fl_ in np.load(fl)]\n",
    "\n",
    "print(len(fov_all))\n",
    "\n",
    "fov_completed = [tuple(os.path.basename(fl).replace('decoded_','').replace('.npz','').replace('--','.zarr--').split('--'))for fl in fls]\n",
    "#[e for e in fov_all if e not in fov_completed]"
   ]
  },
  {
   "cell_type": "code",
   "execution_count": null,
   "id": "c17bf5cc",
   "metadata": {},
   "outputs": [],
   "source": []
  },
  {
   "cell_type": "code",
   "execution_count": 15,
   "id": "8466ccd5",
   "metadata": {},
   "outputs": [
    {
     "data": {
      "text/plain": [
       "(483.5, 881.32)"
      ]
     },
     "execution_count": 15,
     "metadata": {},
     "output_type": "execute_result"
    }
   ],
   "source": [
    "times = [os.path.getctime(fl) for fl in fls]\n",
    "diffT = np.diff(np.sort(times)).astype(int)\n",
    "np.median(diffT),np.mean(diffT[-50:])"
   ]
  },
  {
   "cell_type": "code",
   "execution_count": 12,
   "id": "c366cd21",
   "metadata": {},
   "outputs": [
    {
     "data": {
      "text/plain": [
       "829.08"
      ]
     },
     "execution_count": 12,
     "metadata": {},
     "output_type": "execute_result"
    }
   ],
   "source": []
  },
  {
   "cell_type": "code",
   "execution_count": 10,
   "id": "6df0946a",
   "metadata": {},
   "outputs": [
    {
     "data": {
      "text/plain": [
       "array([25353,   533,   146,     4,    93,  1036,  3370,   456,     0,\n",
       "         166,   223,  1089,  3286,    79,   365,   219,   129,  3295,\n",
       "         271,   585,   276,   295,  2234,   928,   841,   187,   490,\n",
       "         952,  1112,  1780,   144,   668,   353,   902,  2561,   131,\n",
       "         630,   123,   922,  2110,    13,  1430,   104,   139,  2419,\n",
       "         111,  2044,    26,   339,   696,   280,  3123,   230,    83,\n",
       "         122,   731,  1762])"
      ]
     },
     "execution_count": 10,
     "metadata": {},
     "output_type": "execute_result"
    }
   ],
   "source": [
    "diffT"
   ]
  },
  {
   "cell_type": "code",
   "execution_count": null,
   "id": "1b6d0786",
   "metadata": {},
   "outputs": [],
   "source": []
  }
 ],
 "metadata": {
  "kernelspec": {
   "display_name": "Python 3 (ipykernel)",
   "language": "python",
   "name": "python3"
  },
  "language_info": {
   "codemirror_mode": {
    "name": "ipython",
    "version": 3
   },
   "file_extension": ".py",
   "mimetype": "text/x-python",
   "name": "python",
   "nbconvert_exporter": "python",
   "pygments_lexer": "ipython3",
   "version": "3.8.16"
  }
 },
 "nbformat": 4,
 "nbformat_minor": 5
}
