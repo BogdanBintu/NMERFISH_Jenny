{
 "cells": [
  {
   "cell_type": "code",
   "execution_count": 1,
   "id": "af341869",
   "metadata": {
    "tags": []
   },
   "outputs": [],
   "source": [
    "from ioMicro import *"
   ]
  },
  {
   "cell_type": "code",
   "execution_count": null,
   "id": "4925bb97-4a85-44ff-bc16-1cd984679f50",
   "metadata": {},
   "outputs": [],
   "source": []
  },
  {
   "cell_type": "code",
   "execution_count": 10,
   "id": "2934a430",
   "metadata": {
    "tags": []
   },
   "outputs": [],
   "source": [
    "fl =r'\\\\192.168.0.100\\bbfish100\\DCBBL1_1year1wkNJ_ASO_SAL_4_18_2023\\H1_MER_set1\\Conv_zscan__030.zarr'\n",
    "im = read_im(fl)\n",
    "import napari\n",
    "napari.view_image(im);"
   ]
  },
  {
   "cell_type": "code",
   "execution_count": 1,
   "id": "515183b3-1ab5-49fb-b65f-4a73376a8851",
   "metadata": {
    "tags": []
   },
   "outputs": [],
   "source": [
    "from ioMicro import *\n",
    "fls_all = glob.glob(r'\\\\192.168.0.100\\bbfish100\\DCBBL1_1year1wkNJ_ASO_SAL_4_18_2023\\H1_MER_set*\\*.zarr')"
   ]
  },
  {
   "cell_type": "code",
   "execution_count": 13,
   "id": "9b2bc717-8f47-4c86-a35f-2571c5517e80",
   "metadata": {
    "tags": []
   },
   "outputs": [],
   "source": [
    "#len(fls_all)"
   ]
  },
  {
   "cell_type": "code",
   "execution_count": 42,
   "id": "9291425a-f872-48e5-983e-61aa6deb7734",
   "metadata": {
    "tags": []
   },
   "outputs": [
    {
     "name": "stderr",
     "output_type": "stream",
     "text": [
      "100%|██████████████████████████████████████████████████████████████████████████████████| 36/36 [00:04<00:00,  7.99it/s]\n"
     ]
    }
   ],
   "source": [
    "save_folder =r'\\\\192.168.0.100\\bbfish100\\DCBBL1_1year1wkNJ_ASO_SAL_4_18_2023\\MERFISH_Analysis'\n",
    "if True:\n",
    "    fl = r'\\\\192.168.0.100\\bbfish100\\DCBBL1_1year1wkNJ_ASO_SAL_4_18_2023\\H1_MER_set1\\Conv_zscan__145.zarr'\n",
    "    new_segmentation(fl =fl,\n",
    "                             psf_file = r'C:\\Scripts\\NMERFISH\\psfs\\psf_750_Scope3_final.npy',\n",
    "                             p1=-500,p99=1500,mean_dapi = None,sdapi = 100,\n",
    "                            save_folder = save_folder,redo=True,plt_val=True)"
   ]
  },
  {
   "cell_type": "code",
   "execution_count": 8,
   "id": "4eac7cdf-16da-4d7d-ac17-c1791c5e80c6",
   "metadata": {
    "tags": []
   },
   "outputs": [],
   "source": [
    "save_folder =r'\\\\192.168.0.100\\bbfish100\\DCBBL1_1year1wkNJ_ASO_SAL_4_18_2023\\MERFISH_Analysis'\n",
    "for fl in tqdm(fls_all):\n",
    "    try:\n",
    "        new_segmentation(fl =fl,\n",
    "                              psf_file = r'C:\\Scripts\\NMERFISH\\psfs\\psf_750_Scope3_final.npy',\n",
    "                             p1=-500,p99=1500,mean_dapi = None,sdapi = 100,\n",
    "                            save_folder = save_folder,redo=True,plt_val=False)\n",
    "    except:\n",
    "        print(\"Failed\",fl)"
   ]
  },
  {
   "cell_type": "code",
   "execution_count": null,
   "id": "275c04eb-2313-4db3-b82e-9bfd32f25407",
   "metadata": {
    "tags": []
   },
   "outputs": [],
   "source": []
  },
  {
   "cell_type": "code",
   "execution_count": null,
   "id": "5f033114-4211-44fd-a802-35dbc5934c53",
   "metadata": {},
   "outputs": [],
   "source": []
  },
  {
   "cell_type": "code",
   "execution_count": null,
   "id": "680e96b3-d828-4e0f-8684-84aee84a6609",
   "metadata": {},
   "outputs": [],
   "source": []
  },
  {
   "cell_type": "code",
   "execution_count": null,
   "id": "9bb18f4d-ee85-4439-9e9d-74b9d1c653e7",
   "metadata": {},
   "outputs": [],
   "source": []
  },
  {
   "cell_type": "code",
   "execution_count": 47,
   "id": "d530821e-7e4f-4148-8b3e-e4ada5b3598a",
   "metadata": {
    "tags": []
   },
   "outputs": [],
   "source": []
  },
  {
   "cell_type": "code",
   "execution_count": 9,
   "id": "1cc71fd7-36bd-4953-8865-a9031601700b",
   "metadata": {
    "tags": []
   },
   "outputs": [],
   "source": [
    "from cellpose import models, io,utils\n",
    "from scipy import ndimage\n",
    "model = models.Cellpose(gpu=True, model_type='nuclei')\n",
    "\n",
    "p1,p99=0,np.percentile(imd[::3,::4,::4],97)#8000\n",
    "img = np.array(np.clip((imd[::3,::4,::4]-p1)/(p99-p1),0,1),dtype=np.float32)\n",
    "masks, flows, styles, diams = model.eval(img,z_axis=0, diameter=15, channels=[0,0],\n",
    "                                         flow_threshold=-10,cellprob_threshold=-10,normalize=False,\n",
    "                                         do_3D=False,stitch_threshold=0.5,\n",
    "                                         progress=True)"
   ]
  },
  {
   "cell_type": "code",
   "execution_count": 29,
   "id": "225d0de4-7296-42a9-b531-33106ca73b00",
   "metadata": {
    "tags": []
   },
   "outputs": [],
   "source": []
  },
  {
   "cell_type": "code",
   "execution_count": 33,
   "id": "e808dbca-d509-49d9-9057-1c0039ce2fbe",
   "metadata": {
    "tags": []
   },
   "outputs": [],
   "source": []
  },
  {
   "cell_type": "code",
   "execution_count": 39,
   "id": "63584852-e0b8-4235-886d-ffa81fff55eb",
   "metadata": {
    "tags": []
   },
   "outputs": [],
   "source": []
  },
  {
   "cell_type": "code",
   "execution_count": 40,
   "id": "21e42c56-3e3b-4e76-9cb1-bc360ab7acd0",
   "metadata": {
    "tags": []
   },
   "outputs": [
    {
     "data": {
      "text/plain": [
       "<Labels layer 'masks' at 0x1a9ebcddc70>"
      ]
     },
     "execution_count": 40,
     "metadata": {},
     "output_type": "execute_result"
    }
   ],
   "source": [
    "v = napari.view_image(img)\n",
    "v.add_labels(masks)"
   ]
  },
  {
   "cell_type": "code",
   "execution_count": null,
   "id": "b9d18a00-1f44-4580-8afb-5e5f268b9bd6",
   "metadata": {},
   "outputs": [],
   "source": []
  },
  {
   "cell_type": "code",
   "execution_count": 14,
   "id": "c7042f84-5306-4e61-a4ed-a785f1af78ef",
   "metadata": {
    "tags": []
   },
   "outputs": [
    {
     "data": {
      "text/plain": [
       "2423.224697265623"
      ]
     },
     "execution_count": 14,
     "metadata": {},
     "output_type": "execute_result"
    }
   ],
   "source": [
    "np.percentile(im_dapi_[::3,::4,::4],99)"
   ]
  },
  {
   "cell_type": "code",
   "execution_count": 10,
   "id": "3c61897b-5782-405f-8ddd-435979b7d003",
   "metadata": {
    "tags": []
   },
   "outputs": [
    {
     "data": {
      "text/plain": [
       "Viewer(axes=Axes(visible=False, labels=True, colored=True, dashed=False, arrows=True), camera=Camera(center=(0.0, 1499.5, 1499.5), zoom=0.17575000000000002, angles=(0.0, 0.0, 90.0), perspective=0.0, interactive=True), cursor=Cursor(position=(18.0, 1.0, 0.0), scaled=True, size=1, style=<CursorStyle.STANDARD: 'standard'>), dims=Dims(ndim=3, ndisplay=2, last_used=0, range=((0.0, 37.0, 1.0), (0.0, 3000.0, 1.0), (0.0, 3000.0, 1.0)), current_step=(18, 1500, 1500), order=(0, 1, 2), axis_labels=('0', '1', '2')), grid=GridCanvas(stride=1, shape=(-1, -1), enabled=False), layers=[<Image layer 'im_dapi_' at 0x1a6beb58bb0>], scale_bar=ScaleBar(visible=False, colored=False, color=array([1., 0., 1., 1.], dtype=float32), ticks=True, position=<Position.BOTTOM_RIGHT: 'bottom_right'>, font_size=10.0, box=False, box_color=array([0. , 0. , 0. , 0.6], dtype=float32), unit=None), text_overlay=TextOverlay(visible=False, color=array([0.5, 0.5, 0.5, 1. ], dtype=float32), font_size=10.0, position=<TextOverlayPosition.TOP_LEFT: 'top_left'>, text=''), overlays=Overlays(interaction_box=InteractionBox(points=None, show=False, show_handle=False, show_vertices=False, selection_box_drag=None, selection_box_final=None, transform_start=<napari.utils.transforms.transforms.Affine object at 0x000001A66089EF10>, transform_drag=<napari.utils.transforms.transforms.Affine object at 0x000001A66089EF70>, transform_final=<napari.utils.transforms.transforms.Affine object at 0x000001A66089EFD0>, transform=<napari.utils.transforms.transforms.Affine object at 0x000001A660CAB070>, allow_new_selection=True, selected_vertex=None)), help='', status='Ready', tooltip=Tooltip(visible=False, text=''), theme='dark', title='napari', mouse_over_canvas=False, mouse_move_callbacks=[<function InteractionBoxMouseBindings.initialize_mouse_events.<locals>.mouse_move at 0x000001A6BB0DE670>], mouse_drag_callbacks=[<function InteractionBoxMouseBindings.initialize_mouse_events.<locals>.mouse_drag at 0x000001A6BB0CC790>], mouse_double_click_callbacks=[], mouse_wheel_callbacks=[<function dims_scroll at 0x000001A65626B940>], _persisted_mouse_event={}, _mouse_drag_gen={}, _mouse_wheel_gen={}, keymap={'Shift': <function InteractionBoxMouseBindings.initialize_key_events.<locals>.hold_to_lock_aspect_ratio at 0x000001A6BB0CC700>, 'Control-Shift-R': <function InteractionBoxMouseBindings._reset_active_layer_affine at 0x000001A6BB0CCAF0>, 'Control-Shift-A': <function InteractionBoxMouseBindings._transform_active_layer at 0x000001A6BB0CC8B0>})"
      ]
     },
     "execution_count": 10,
     "metadata": {},
     "output_type": "execute_result"
    }
   ],
   "source": [
    "napari.view_image(im_dapi_)"
   ]
  },
  {
   "cell_type": "code",
   "execution_count": 4,
   "id": "7868c6e6",
   "metadata": {},
   "outputs": [],
   "source": [
    "psf = np.load('\\\\\\\\192.168.0.100\\\\bbfish100\\\\DCBBL1_4week_6_2_2023\\\\MERFISH_Analysis\\\\psf_750_Scope3_final.npy')"
   ]
  },
  {
   "cell_type": "code",
   "execution_count": 39,
   "id": "33aa2d08",
   "metadata": {},
   "outputs": [
    {
     "name": "stderr",
     "output_type": "stream",
     "text": [
      "100%|██████████████████████████████████████████████████████████████████████████████████| 36/36 [00:04<00:00,  8.07it/s]\n"
     ]
    }
   ],
   "source": [
    "imd = full_deconv(im_dapi,s_=500,pad=100,psf=psf,parameters={'method': 'wiener', 'beta': 0.01},gpu=True,force=False)"
   ]
  },
  {
   "cell_type": "code",
   "execution_count": 40,
   "id": "1d337b8b",
   "metadata": {},
   "outputs": [],
   "source": [
    "from cellpose import models, io,utils\n",
    "from scipy import ndimage\n",
    "model = models.Cellpose(gpu=True, model_type='nuclei')\n"
   ]
  },
  {
   "cell_type": "code",
   "execution_count": 46,
   "id": "820e889c",
   "metadata": {},
   "outputs": [
    {
     "data": {
      "text/plain": [
       "12677.7783203125"
      ]
     },
     "execution_count": 46,
     "metadata": {},
     "output_type": "execute_result"
    }
   ],
   "source": [
    "np.percentile(imd,97)"
   ]
  },
  {
   "cell_type": "code",
   "execution_count": 48,
   "id": "2a9c4a95",
   "metadata": {},
   "outputs": [],
   "source": []
  },
  {
   "cell_type": "code",
   "execution_count": 49,
   "id": "19e22d1c",
   "metadata": {},
   "outputs": [
    {
     "data": {
      "text/plain": [
       "<Labels layer 'masks' at 0x1e619b98790>"
      ]
     },
     "execution_count": 49,
     "metadata": {},
     "output_type": "execute_result"
    }
   ],
   "source": [
    "v = napari.view_image(img)\n",
    "v.add_labels(masks)"
   ]
  },
  {
   "cell_type": "code",
   "execution_count": 111,
   "id": "e2d96e47",
   "metadata": {},
   "outputs": [
    {
     "name": "stderr",
     "output_type": "stream",
     "text": [
      "100%|██████████████████████████████████████████████████████████████████████████████████| 13/13 [01:34<00:00,  7.23s/it]\n"
     ]
    }
   ],
   "source": [
    "from cellpose import models, io,utils\n",
    "from scipy import ndimage\n",
    "model = models.Cellpose(gpu=True, model_type='nuclei')\n",
    "masksA = []\n",
    "for img in tqdm(imd[::3,::4,::4]):\n",
    "    p1 = 0#np.percentile(img,1)\n",
    "    #if p99 is None:\n",
    "    p99 = 23000#np.percentile(img,99.)\n",
    "    img = np.array(np.clip((img-p1)/(p99-p1),0,1),dtype=np.float32)\n",
    "    masks, flows, styles, diams = model.eval(img, diameter=15, channels=[0,0],\n",
    "                                         flow_threshold=1,cellprob_threshold=-10,normalize=False)\n",
    "    masksA.append(masks)"
   ]
  },
  {
   "cell_type": "code",
   "execution_count": 112,
   "id": "1af690e6",
   "metadata": {},
   "outputs": [],
   "source": [
    "masksA = np.array(masksA)"
   ]
  },
  {
   "cell_type": "code",
   "execution_count": 113,
   "id": "42602dbb",
   "metadata": {},
   "outputs": [
    {
     "data": {
      "text/plain": [
       "<Labels layer 'masksA' at 0x240c553ac70>"
      ]
     },
     "execution_count": 113,
     "metadata": {},
     "output_type": "execute_result"
    }
   ],
   "source": [
    "v = napari.view_image(imd[::3,::4,::4],contrast_limits=[p1,p99])\n",
    "v.add_labels(masksA)"
   ]
  },
  {
   "cell_type": "code",
   "execution_count": 28,
   "id": "84c55a66",
   "metadata": {},
   "outputs": [
    {
     "data": {
      "text/plain": [
       "<Image layer 'im_dapi' at 0x23e3486bfd0>"
      ]
     },
     "execution_count": 28,
     "metadata": {},
     "output_type": "execute_result"
    }
   ],
   "source": [
    "import napari\n",
    "v = napari.view_image(imd)\n",
    "v.add_image(im_dapi)"
   ]
  },
  {
   "cell_type": "code",
   "execution_count": 17,
   "id": "700dbd31",
   "metadata": {},
   "outputs": [],
   "source": [
    "napari.view_image(im_dapi);"
   ]
  },
  {
   "cell_type": "code",
   "execution_count": null,
   "id": "2fd352ff",
   "metadata": {},
   "outputs": [],
   "source": [
    "psf=None,\n",
    "    plt_val=False,\n",
    "    parameters={'method': 'wiener', 'beta': 0.001, 'niter': 50},\n",
    "    gpu=False,\n",
    "    force=False,\n",
    "    pad=None,"
   ]
  },
  {
   "cell_type": "code",
   "execution_count": 22,
   "id": "eff31170",
   "metadata": {},
   "outputs": [],
   "source": [
    "def full_deconv(im_,s_=500,pad=100,psf=None,parameters={'method': 'wiener', 'beta': 0.001, 'niter': 50},gpu=True,force=False):\n",
    "    im0=np.zeros_like(im_)\n",
    "    sx,sy = im_.shape[1:]\n",
    "    ixys = []\n",
    "    for ix in np.arange(0,sx,s_):\n",
    "        for iy in np.arange(0,sy,s_):\n",
    "            ixys.append([ix,iy])\n",
    "    \n",
    "    for ix,iy in tqdm(ixys):#ixys:#tqdm(ixys):\n",
    "        imsm = im_[:,ix:ix+pad+s_,iy:iy+pad+s_]\n",
    "        imt = apply_deconv(imsm,psf=psf,parameters=parameters,gpu=gpu,plt_val=False,force=force)\n",
    "        start_x = ix+pad//2 if ix>0 else 0\n",
    "        end_x = ix+pad//2+s_\n",
    "        start_y = iy+pad//2 if iy>0 else 0\n",
    "        end_y = iy+pad//2+s_\n",
    "        #print(start_x,end_x,start_y,end_y)\n",
    "        im0[:,start_x:end_x,start_y:end_y] = imt[:,(start_x-ix):(end_x-ix),(start_y-iy):(end_y-iy)]\n",
    "    return im0"
   ]
  },
  {
   "cell_type": "code",
   "execution_count": 14,
   "id": "5c4f5033",
   "metadata": {},
   "outputs": [],
   "source": [
    "#[ln for ln in open(r'\\\\192.168.0.100\\bbfish100\\DCBBL1_4week_6_2_2023\\H1_MER_set2\\Conv_zscan__010.power','r')]"
   ]
  },
  {
   "cell_type": "code",
   "execution_count": 15,
   "id": "1067afbe",
   "metadata": {},
   "outputs": [],
   "source": [
    "#np.array(im[9])"
   ]
  },
  {
   "cell_type": "code",
   "execution_count": null,
   "id": "e464a8d8",
   "metadata": {},
   "outputs": [],
   "source": [
    "\"\"\"Using cellpose with nuclei mode\"\"\"\n",
    "from cellpose import models, io,utils\n",
    "from scipy import ndimage\n",
    "model = models.Cellpose(gpu=use_gpu, model_type=model)\n",
    "#decided that resampling to the 4-2-2 will make it faster\n",
    "#im_dapi_3d = im_dapi[::rescz,::resc,::resc].astype(np.float32)\n",
    "chan = [0,0]\n",
    "masks_all = []\n",
    "flows_all = []\n",
    "from tqdm import tqdm\n",
    "for im in tqdm(im_dapi):\n",
    "    im_ = np.array(im,dtype=np.float32)\n",
    "    img = (cv2.blur(im_,(2,2))-cv2.blur(im_,(150,150)))[::resc,::resc]\n",
    "    p1 = np.percentile(img,1)\n",
    "    if p99 is None:\n",
    "        p99 = np.percentile(img,99.9)\n",
    "    img = np.array(np.clip((img-p1)/(p99-p1),0,1),dtype=np.float32)\n",
    "    masks, flows, styles, diams = model.eval(img, diameter=sz_cell, channels=chan,\n",
    "                                         flow_threshold=0.85,cellprob_threshold=-2,min_size=sz_min_2d,normalize=False)"
   ]
  },
  {
   "cell_type": "markdown",
   "id": "9c670385",
   "metadata": {},
   "source": [
    "### Save psf"
   ]
  },
  {
   "cell_type": "code",
   "execution_count": 4,
   "id": "c4498ecd",
   "metadata": {},
   "outputs": [],
   "source": [
    "psfs = []"
   ]
  },
  {
   "cell_type": "code",
   "execution_count": null,
   "id": "d3851643",
   "metadata": {},
   "outputs": [],
   "source": [
    "master_folder = r'\\\\192.168.0.100\\bbfish100\\DCBBL1_4week_6_2_2023\\P2_Sox11_Sox2_Dcx__set2'\n",
    "\n",
    "for ifov in tqdm([11,12,13,14,15,16,17,18]):\n",
    "    im = read_im(master_folder+r'\\Conv_zscan__'+str(ifov).zfill(3)+'.zarr')\n",
    "    im_ = np.array(im[0][1:,500:2500,500:2500],dtype=np.float32)\n",
    "    psf = get_psf(im_,th=1000,th_cor = 0.75,delta=3,delta_fit = 7,sxyzP = [15,60,60])\n",
    "    psfs.append(psf)\n",
    "#napari.view_image(im)\n",
    "psff = np.mean([psf for psf in psfs if psf is not None],axis=0)\n",
    "psff_ = np.array([p-np.median(p) for p in psff])\n",
    "from scipy.ndimage import median_filter\n",
    "psff_med = median_filter(psff_, size=15)\n",
    "psfff = (psff_-psff_med)[5:-5,5:-5,5:-5][:-1,:-1,:-1]\n",
    "psfff[psfff<0]=0\n",
    "psfff = psfff/np.max(psfff)\n",
    "np.save('psf_750_Scope3_final.npy',psfff)"
   ]
  },
  {
   "cell_type": "code",
   "execution_count": 16,
   "id": "769531fe",
   "metadata": {},
   "outputs": [],
   "source": [
    "if False:\n",
    "    imd = apply_deconv(im_[:,750:-750,750:-750],\n",
    "        psf=psf,\n",
    "        plt_val=True,\n",
    "        parameters={'method': 'wiener', 'beta': 0.0001, 'niter': 50},\n",
    "        gpu=False,\n",
    "        force=True,\n",
    "        pad=None)"
   ]
  },
  {
   "cell_type": "code",
   "execution_count": 22,
   "id": "dba727e6",
   "metadata": {},
   "outputs": [
    {
     "data": {
      "text/plain": [
       "'\\\\\\\\192.168.0.100\\\\bbfish100\\\\DCBBL1_4week_6_2_2023\\\\MERFISH_Analysis\\\\psf_750_Scope3_final.npy'"
      ]
     },
     "execution_count": 22,
     "metadata": {},
     "output_type": "execute_result"
    }
   ],
   "source": [
    "import shutil\n",
    "save_folder = os.path.dirname(master_folder)+os.sep+'MERFISH_Analysis'\n",
    "if not os.path.exists(save_folder): os.makedirs(save_folder)\n",
    "shutil.copy2(os.path.abspath('psf_750_Scope3_final.npy'),save_folder+os.sep+'psf_750_Scope3_final.npy')"
   ]
  },
  {
   "cell_type": "markdown",
   "id": "9a485de7",
   "metadata": {},
   "source": [
    "### Save flat field"
   ]
  },
  {
   "cell_type": "code",
   "execution_count": 24,
   "id": "1376eb96",
   "metadata": {},
   "outputs": [
    {
     "data": {
      "text/plain": [
       "(300, 300)"
      ]
     },
     "execution_count": 24,
     "metadata": {},
     "output_type": "execute_result"
    }
   ],
   "source": [
    "#np.load(r'\\\\192.168.0.100\\bbfish100\\DCBBL1_1year1wkNJ_ASO_SAL_4_18_2023\\MERFISH_Analysis\\med_col0.npz')['im'].shape"
   ]
  },
  {
   "cell_type": "code",
   "execution_count": 27,
   "id": "1b2ceeb2",
   "metadata": {},
   "outputs": [],
   "source": [
    "data_fld = r'\\\\192.168.0.100\\bbfish100\\DCBBL1_4week_6_2_2023\\P2_Sox11_Sox2_Dcx__set1'\n",
    "save_folder = os.path.dirname(master_folder)+os.sep+'MERFISH_Analysis'\n",
    "if not os.path.exists(save_folder): os.makedirs(save_folder)"
   ]
  },
  {
   "cell_type": "code",
   "execution_count": null,
   "id": "e600712d",
   "metadata": {},
   "outputs": [
    {
     "name": "stderr",
     "output_type": "stream",
     "text": [
      " 94%|███████████████████████████████████████████████████████████████████████████▏    | 656/698 [04:16<00:19,  2.20it/s]"
     ]
    }
   ],
   "source": [
    "compute_flat_field_raw(data_fld=data_fld,\n",
    "    save_folder=save_folder,\n",
    "    ncols=4)"
   ]
  },
  {
   "cell_type": "code",
   "execution_count": 6,
   "id": "343fa6d3",
   "metadata": {},
   "outputs": [],
   "source": []
  },
  {
   "cell_type": "code",
   "execution_count": null,
   "id": "79891cda",
   "metadata": {},
   "outputs": [],
   "source": []
  }
 ],
 "metadata": {
  "kernelspec": {
   "display_name": "Python 3 (ipykernel)",
   "language": "python",
   "name": "python3"
  },
  "language_info": {
   "codemirror_mode": {
    "name": "ipython",
    "version": 3
   },
   "file_extension": ".py",
   "mimetype": "text/x-python",
   "name": "python",
   "nbconvert_exporter": "python",
   "pygments_lexer": "ipython3",
   "version": "3.8.16"
  }
 },
 "nbformat": 4,
 "nbformat_minor": 5
}
