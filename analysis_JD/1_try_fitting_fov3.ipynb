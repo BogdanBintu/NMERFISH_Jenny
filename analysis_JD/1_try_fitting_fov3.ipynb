{
 "cells": [
  {
   "cell_type": "markdown",
   "id": "41a91053",
   "metadata": {},
   "source": [
    "03/29/24 JD\n",
    "\n",
    "Goal: `workerScope4A_WGL.py` is the parallel version of running the entire dataset. In this jupyter notebook, we will explore generating fits data for `FOV=3` for three rounds of imaging (`H1`, `H10`, `H60`). \n",
    "\n",
    "H1 (comb) and H10 (seq), H60 (ctrl).\n",
    "\n",
    "Note: control only has spots in Cy5 and Cy3\n",
    "\n",
    "\n",
    "Reference file: `/mnt/tscc/wed009/WholeGenome/fits_scripts/NMERFISH_Jenny/workers/workerScope4A_WGL.py`"
   ]
  },
  {
   "cell_type": "code",
   "execution_count": 1,
   "id": "4e39b04d",
   "metadata": {},
   "outputs": [],
   "source": [
    "from ioMicro import *"
   ]
  },
  {
   "cell_type": "code",
   "execution_count": 2,
   "id": "d08d60e1",
   "metadata": {},
   "outputs": [],
   "source": [
    "import time,sys\n",
    "import os,sys,numpy as np"
   ]
  },
  {
   "cell_type": "markdown",
   "id": "6e2da1a3",
   "metadata": {},
   "source": [
    "This is the main worker function #L150:\n",
    "\n",
    "```def compute_main_f(save_folder,all_flds,fov,ifov,redo_fits,redo_drift,try_mode,old_method):\n",
    "    print(\"Computing fitting on: \"+str(fov))\n",
    "    print(len(all_flds),all_flds)\n",
    "    compute_fits(save_folder,fov,all_flds,redo=redo_fits,try_mode=try_mode,old_method=old_method)\n",
    "    print(\"Computing drift on: \"+str(fov))\n",
    "    compute_drift_features(save_folder,fov,all_flds,redo=False,gpu=True)\n",
    "    compute_drift_V2(save_folder,fov,all_flds,redo=redo_drift,gpu=True)```"
   ]
  },
  {
   "cell_type": "code",
   "execution_count": 3,
   "id": "ba7cfe2f",
   "metadata": {},
   "outputs": [],
   "source": [
    "master_analysis_folder = '/mnt/tscc/wed009/WholeGenome'\n",
    "\n",
    "### Did you compute PSF and median flat field images?\n",
    "psf_file = '/mnt/tscc/wed009/WholeGenome/fits_scripts/NMERFISH/psfs/psf_750_Scope4_final.npy'\n",
    "flat_field_tag = '/mnt/tscc/wed009/WholeGenome/fits_scripts/NMERFISH/flat_field/Scope4_'#med_col_rawXXX.npz\n",
    "\n",
    "master_data_folder = ['/projects/ps-renlab2/wed009/031524_v1_acry_37C_pilot/']\n",
    "save_folder ='/projects/ps-renlab2/wed009/analysis_031524_v1_acry_37C_pilot/'"
   ]
  },
  {
   "cell_type": "markdown",
   "id": "35fd3a9b",
   "metadata": {},
   "source": [
    "# Get Files"
   ]
  },
  {
   "cell_type": "code",
   "execution_count": 4,
   "id": "daad7854",
   "metadata": {},
   "outputs": [],
   "source": [
    "def get_iH(fld): \n",
    "    \"\"\"\n",
    "    #L64\n",
    "    Given a folder <fld> of type \n",
    "    /projects/ps-renlab2/wed009/H1_P1_A1_2_3/\n",
    "    this extracts the hybe index (i.e. 2 in this case)\n",
    "    \"\"\"\n",
    "    try:\n",
    "        return int(os.path.basename(fld).split('_')[0][1:]) #TODO: modified for WGL\n",
    "    except:\n",
    "        return np.inf\n",
    "\n",
    "def get_files(ifov):\n",
    "    '''\n",
    "    #L73\n",
    "    '''\n",
    "    if not os.path.exists(save_folder): os.makedirs(save_folder)\n",
    "    all_flds = []\n",
    "    for master_folder in master_data_folder:\n",
    "        all_flds += glob.glob(master_folder+r'/H*') # TODO: modified for WGL\n",
    "        \n",
    "    ### reorder based on hybe index\n",
    "    all_flds = np.array(all_flds)[np.argsort([get_iH(fld)for fld in all_flds])] \n",
    "    \n",
    "    ### find all the fovs\n",
    "    fovs_fl = save_folder+os.sep+'fovs__.npy'\n",
    "    \n",
    "    if not os.path.exists(fovs_fl):\n",
    "        folder_map_fovs = all_flds[-1]\n",
    "        fls = glob.glob(folder_map_fovs+os.sep+'*.zarr')\n",
    "        fovs = np.sort([os.path.basename(fl) for fl in fls])\n",
    "        np.save(fovs_fl,fovs)\n",
    "    else:\n",
    "        fovs = np.sort(np.load(fovs_fl))\n",
    "    fov=None\n",
    "    if ifov<len(fovs):\n",
    "        fov = fovs[ifov]\n",
    "        all_flds = [fld for fld in all_flds if os.path.exists(fld+os.sep+fov)]\n",
    "    # but only return the ifov (with formatted filename)   \n",
    "    return save_folder,all_flds,fov"
   ]
  },
  {
   "cell_type": "code",
   "execution_count": 5,
   "id": "6cd58ec3",
   "metadata": {},
   "outputs": [],
   "source": [
    "save_folder,all_flds,fov = get_files(ifov = 3)"
   ]
  },
  {
   "cell_type": "code",
   "execution_count": 6,
   "id": "0f952716",
   "metadata": {},
   "outputs": [
    {
     "data": {
      "text/plain": [
       "68"
      ]
     },
     "execution_count": 6,
     "metadata": {},
     "output_type": "execute_result"
    }
   ],
   "source": [
    "all_flds\n",
    "len(all_flds) # total should be 68 rounds of imaging"
   ]
  },
  {
   "cell_type": "code",
   "execution_count": 8,
   "id": "5b17950c",
   "metadata": {},
   "outputs": [
    {
     "data": {
      "text/plain": [
       "['/projects/ps-renlab2/wed009/031524_v1_acry_37C_pilot/H65_P2_F10_11_12',\n",
       " '/projects/ps-renlab2/wed009/031524_v1_acry_37C_pilot/H66_P2_F10_11_12_750',\n",
       " '/projects/ps-renlab2/wed009/031524_v1_acry_37C_pilot/H67_P2_F10_11_12_cy5']"
      ]
     },
     "execution_count": 8,
     "metadata": {},
     "output_type": "execute_result"
    }
   ],
   "source": [
    "chrom_abb_rounds = ['H65', 'H66', 'H67']\n",
    "chrom_abb_flds = [s for s in all_flds if any(sub in s for sub in chrom_abb_rounds)]\n",
    "chrom_abb_flds"
   ]
  },
  {
   "cell_type": "code",
   "execution_count": 15,
   "id": "0d93d257",
   "metadata": {},
   "outputs": [
    {
     "data": {
      "text/plain": [
       "['/projects/ps-renlab2/wed009/031524_v1_acry_37C_pilot/H1_P1_A1_2_3',\n",
       " '/projects/ps-renlab2/wed009/031524_v1_acry_37C_pilot/H10_P1_C4_5_6',\n",
       " '/projects/ps-renlab2/wed009/031524_v1_acry_37C_pilot/H60_P3_C4_5_6']"
      ]
     },
     "execution_count": 15,
     "metadata": {},
     "output_type": "execute_result"
    }
   ],
   "source": [
    "# test_flds only has H1 (comb) and H10 (seq), H60 (ctrl)\n",
    "test_flds = [all_flds[i] for i in [0,9,59] if i < len(all_flds)]\n",
    "test_flds"
   ]
  },
  {
   "cell_type": "code",
   "execution_count": 16,
   "id": "043f2261",
   "metadata": {},
   "outputs": [
    {
     "data": {
      "text/plain": [
       "'Conv_zscan__03.zarr'"
      ]
     },
     "execution_count": 16,
     "metadata": {},
     "output_type": "execute_result"
    }
   ],
   "source": [
    "fov"
   ]
  },
  {
   "cell_type": "code",
   "execution_count": 10,
   "id": "d223ffa7",
   "metadata": {},
   "outputs": [
    {
     "name": "stdout",
     "output_type": "stream",
     "text": [
      "1\n",
      "2\n",
      "3\n",
      "4\n",
      "5\n",
      "6\n",
      "7\n",
      "8\n",
      "9\n",
      "10\n",
      "11\n",
      "12\n",
      "13\n",
      "14\n",
      "15\n",
      "16\n",
      "17\n",
      "18\n",
      "19\n",
      "20\n",
      "21\n",
      "22\n",
      "23\n",
      "24\n",
      "25\n",
      "26\n",
      "27\n",
      "28\n",
      "29\n",
      "30\n",
      "31\n",
      "32\n",
      "33\n",
      "34\n",
      "35\n",
      "36\n",
      "37\n",
      "38\n",
      "39\n",
      "40\n",
      "41\n",
      "42\n",
      "43\n",
      "44\n",
      "45\n",
      "46\n",
      "47\n",
      "48\n",
      "49\n",
      "50\n",
      "51\n",
      "52\n",
      "53\n",
      "54\n",
      "55\n",
      "56\n",
      "57\n",
      "58\n",
      "59\n",
      "60\n",
      "61\n",
      "62\n",
      "63\n",
      "64\n",
      "65\n",
      "66\n",
      "67\n"
     ]
    }
   ],
   "source": [
    "for i in range(1, 68):\n",
    "    print(i)"
   ]
  },
  {
   "cell_type": "markdown",
   "id": "09702972",
   "metadata": {},
   "source": [
    "# Compute Fits"
   ]
  },
  {
   "cell_type": "code",
   "execution_count": 19,
   "id": "d05e8f93",
   "metadata": {},
   "outputs": [],
   "source": [
    "def compute_fits(save_folder,fov,all_flds,redo=False,ncols=4,\n",
    "                psf_file = psf_file,try_mode=True,old_method=False):\n",
    "    \"\"\"This wraps main_do_compute_fits to allow for try_mode\"\"\"\n",
    "    psf = np.load(psf_file)\n",
    "    \n",
    "    for fld in tqdm(all_flds):\n",
    "        for icol in range(ncols-1):\n",
    "            tag = os.path.basename(fld)\n",
    "            save_fl = save_folder+os.sep+fov.split('.')[0]+'--'+tag+'--col'+str(icol)+'__Xhfits.npz'\n",
    "            try:\n",
    "                np.load(save_fl)['Xh']\n",
    "                redo2 = False\n",
    "            except:\n",
    "                redo2 = True\n",
    "            if not os.path.exists(save_fl) or redo or redo2:\n",
    "                if try_mode:\n",
    "                    try:\n",
    "                        main_do_compute_fits(save_folder,fld,fov,icol,save_fl,psf,old_method)\n",
    "                    except:\n",
    "                        print(\"Failed\",fld,fov,icol)\n",
    "                else:\n",
    "                    main_do_compute_fits(save_folder,fld,fov,icol,save_fl,psf,old_method)            \n",
    "\n",
    "def main_do_compute_fits(save_folder,fld,fov,icol,save_fl,psf,old_method):\n",
    "    im_ = read_im(fld+os.sep+fov)\n",
    "    im__ = np.array(im_[icol],dtype=np.float32)\n",
    "    \n",
    "    if old_method:\n",
    "        ### previous method - no deconvolution\n",
    "        im_n = norm_slice(im__,s=30)\n",
    "        Xh = get_local_maxfast_tensor(im_n,th_fit=500,im_raw=im__,dic_psf=None,delta=1,delta_fit=3,sigmaZ=1,sigmaXY=1.5,gpu=False)\n",
    "    else:\n",
    "        ### new method - using deconvolution\n",
    "        fl_med = flat_field_tag+'med_col_raw'+str(icol)+'.npz'\n",
    "\n",
    "        im_med = np.array(np.load(fl_med)['im'],dtype=np.float32)\n",
    "        im_med = cv2.blur(im_med,(20,20))\n",
    "        im__ = im__/im_med*np.median(im_med)\n",
    "\n",
    "\n",
    "        Xh = get_local_max_tile(im__,th=3600,s_ = 500,pad=100,psf=psf,plt_val=None,snorm=30,gpu=True,\n",
    "                                deconv={'method':'wiener','beta':1e-4}, #TODO: original beta = 0.0001 (1e-4)\n",
    "                                delta=1,delta_fit=3,sigmaZ=1,sigmaXY=1.5)\n",
    "    np.savez_compressed(save_fl,Xh=Xh)"
   ]
  },
  {
   "cell_type": "code",
   "execution_count": 20,
   "id": "f25f4852",
   "metadata": {},
   "outputs": [
    {
     "name": "stderr",
     "output_type": "stream",
     "text": [
      "100%|█████████████████████████████████████████████████████████████████████████████████████████████████████████████████████████████| 3/3 [02:45<00:00, 55.26s/it]\n"
     ]
    }
   ],
   "source": [
    "# first 3 params calculated by get_files(ifov = 3)\n",
    "# only do it on test_flds\n",
    "compute_fits(save_folder = save_folder,\n",
    "             fov = fov,\n",
    "             all_flds = test_flds,\n",
    "             redo=True,ncols=4,psf_file = psf_file,try_mode=True,old_method=False)"
   ]
  },
  {
   "cell_type": "markdown",
   "id": "f1e195d4",
   "metadata": {},
   "source": [
    "`norm_slice` back ground subtraction\n",
    "\n",
    "change `th = 1000`"
   ]
  },
  {
   "cell_type": "markdown",
   "id": "c5cf0b43",
   "metadata": {},
   "source": [
    "## load fits result"
   ]
  },
  {
   "cell_type": "code",
   "execution_count": 25,
   "id": "9f59d8c9",
   "metadata": {},
   "outputs": [
    {
     "name": "stdout",
     "output_type": "stream",
     "text": [
      "H1, comb\n",
      "A750: 150867\n",
      "Cy5: 175648\n",
      "Cy3: 11666\n"
     ]
    }
   ],
   "source": [
    "print('H1, comb')\n",
    "print(f\"A750: {len(np.load(os.path.join(save_folder, 'Conv_zscan__03--H1_P1_A1_2_3--col0__Xhfits.npz'))['Xh'])}\")\n",
    "print(f\"Cy5: {len(np.load(os.path.join(save_folder, 'Conv_zscan__03--H1_P1_A1_2_3--col1__Xhfits.npz'))['Xh'])}\")\n",
    "print(f\"Cy3: {len(np.load(os.path.join(save_folder, 'Conv_zscan__03--H1_P1_A1_2_3--col2__Xhfits.npz'))['Xh'])}\")"
   ]
  },
  {
   "cell_type": "code",
   "execution_count": 26,
   "id": "020c308c",
   "metadata": {},
   "outputs": [
    {
     "name": "stdout",
     "output_type": "stream",
     "text": [
      "H10, seq\n",
      "A750: 214817\n",
      "Cy5: 167375\n",
      "Cy3: 9458\n"
     ]
    }
   ],
   "source": [
    "print('H10, seq')\n",
    "print(f\"A750: {len(np.load(os.path.join(save_folder, 'Conv_zscan__03--H10_P1_C4_5_6--col0__Xhfits.npz'))['Xh'])}\")\n",
    "print(f\"Cy5: {len(np.load(os.path.join(save_folder, 'Conv_zscan__03--H10_P1_C4_5_6--col1__Xhfits.npz'))['Xh'])}\")\n",
    "print(f\"Cy3: {len(np.load(os.path.join(save_folder, 'Conv_zscan__03--H10_P1_C4_5_6--col2__Xhfits.npz'))['Xh'])}\")"
   ]
  },
  {
   "cell_type": "code",
   "execution_count": 27,
   "id": "7c6728cd",
   "metadata": {},
   "outputs": [
    {
     "name": "stdout",
     "output_type": "stream",
     "text": [
      "H60, ctrl\n",
      "A750: 34240\n",
      "Cy5: 100380\n",
      "Cy3: 17395\n"
     ]
    }
   ],
   "source": [
    "print('H60, ctrl') # ctrl should only have colors in Cy5 and Cy3\n",
    "print(f\"A750: {len(np.load(os.path.join(save_folder, 'Conv_zscan__03--H60_P3_C4_5_6--col0__Xhfits.npz'))['Xh'])}\")\n",
    "print(f\"Cy5: {len(np.load(os.path.join(save_folder, 'Conv_zscan__03--H60_P3_C4_5_6--col1__Xhfits.npz'))['Xh'])}\")\n",
    "print(f\"Cy3: {len(np.load(os.path.join(save_folder, 'Conv_zscan__03--H60_P3_C4_5_6--col2__Xhfits.npz'))['Xh'])}\")"
   ]
  },
  {
   "cell_type": "markdown",
   "id": "cc008958",
   "metadata": {},
   "source": [
    "# Compute drift features"
   ]
  },
  {
   "cell_type": "markdown",
   "id": "7dbddf13",
   "metadata": {},
   "source": [
    "compute_drift_features(save_folder,fov,all_flds,redo=False,gpu=True) # L155"
   ]
  },
  {
   "cell_type": "code",
   "execution_count": 28,
   "id": "44664515",
   "metadata": {},
   "outputs": [],
   "source": [
    "def compute_drift_features(save_folder,fov,all_flds,redo=False,gpu=True):\n",
    "    '''\n",
    "    L102\n",
    "    '''\n",
    "    fls = [fld+os.sep+fov for fld in all_flds]\n",
    "    set_ = ''\n",
    "    for fl in fls:\n",
    "        get_dapi_features(fl,save_folder,set_,gpu=gpu,im_med_fl = flat_field_tag+r'med_col_raw3.npz',\n",
    "                    psf_fl = psf_file) ### devonvolve the dapi image and fit local minima and maxima (dapi features)"
   ]
  },
  {
   "cell_type": "code",
   "execution_count": 29,
   "id": "d7d408f4",
   "metadata": {},
   "outputs": [
    {
     "name": "stderr",
     "output_type": "stream",
     "text": [
      "100%|███████████████████████████████████████████████████████████████████████████████████████████████████████████████████████████| 36/36 [00:06<00:00,  5.80it/s]\n",
      "100%|███████████████████████████████████████████████████████████████████████████████████████████████████████████████████████████| 36/36 [00:06<00:00,  5.74it/s]\n",
      "100%|███████████████████████████████████████████████████████████████████████████████████████████████████████████████████████████| 36/36 [00:06<00:00,  5.70it/s]\n"
     ]
    }
   ],
   "source": [
    "# first 3 param computed by get_files()\n",
    "# do it for all FOV\n",
    "compute_drift_features(save_folder = save_folder,\n",
    "                       fov = fov,\n",
    "                       all_flds = test_flds,\n",
    "                       redo=False,gpu=True)"
   ]
  },
  {
   "cell_type": "code",
   "execution_count": 32,
   "id": "25373596",
   "metadata": {},
   "outputs": [
    {
     "name": "stdout",
     "output_type": "stream",
     "text": [
      "H1: 24041\n",
      "H1: 25265\n",
      "H60: 28194\n"
     ]
    }
   ],
   "source": [
    "print(f\"H1: {len(np.load(os.path.join(save_folder, 'Conv_zscan__03--H1_P1_A1_2_3--dapiFeatures.npz'))['Xh_plus'])}\")\n",
    "print(f\"H1: {len(np.load(os.path.join(save_folder, 'Conv_zscan__03--H10_P1_C4_5_6--dapiFeatures.npz'))['Xh_plus'])}\")\n",
    "print(f\"H60: {len(np.load(os.path.join(save_folder, 'Conv_zscan__03--H60_P3_C4_5_6--dapiFeatures.npz'))['Xh_plus'])}\")"
   ]
  },
  {
   "cell_type": "code",
   "execution_count": 36,
   "id": "480047f9",
   "metadata": {},
   "outputs": [
    {
     "name": "stderr",
     "output_type": "stream",
     "text": [
      "100%|███████████████████████████████████████████████████████████████████████████████████████████████████████████████████████████| 36/36 [00:06<00:00,  5.58it/s]\n",
      "100%|███████████████████████████████████████████████████████████████████████████████████████████████████████████████████████████| 36/36 [00:06<00:00,  5.64it/s]\n",
      "100%|███████████████████████████████████████████████████████████████████████████████████████████████████████████████████████████| 36/36 [00:06<00:00,  5.75it/s]\n",
      "100%|███████████████████████████████████████████████████████████████████████████████████████████████████████████████████████████| 36/36 [00:06<00:00,  5.66it/s]\n",
      "100%|███████████████████████████████████████████████████████████████████████████████████████████████████████████████████████████| 36/36 [00:06<00:00,  5.89it/s]\n",
      "100%|███████████████████████████████████████████████████████████████████████████████████████████████████████████████████████████| 36/36 [00:06<00:00,  5.77it/s]\n",
      "100%|███████████████████████████████████████████████████████████████████████████████████████████████████████████████████████████| 36/36 [00:06<00:00,  5.69it/s]\n",
      "100%|███████████████████████████████████████████████████████████████████████████████████████████████████████████████████████████| 36/36 [00:06<00:00,  5.76it/s]\n",
      "100%|███████████████████████████████████████████████████████████████████████████████████████████████████████████████████████████| 36/36 [00:06<00:00,  5.82it/s]\n",
      "100%|███████████████████████████████████████████████████████████████████████████████████████████████████████████████████████████| 36/36 [00:06<00:00,  5.84it/s]\n",
      "100%|███████████████████████████████████████████████████████████████████████████████████████████████████████████████████████████| 36/36 [00:06<00:00,  5.90it/s]\n",
      "100%|███████████████████████████████████████████████████████████████████████████████████████████████████████████████████████████| 36/36 [00:06<00:00,  5.66it/s]\n",
      "100%|███████████████████████████████████████████████████████████████████████████████████████████████████████████████████████████| 36/36 [00:06<00:00,  5.97it/s]\n",
      "100%|███████████████████████████████████████████████████████████████████████████████████████████████████████████████████████████| 36/36 [00:06<00:00,  5.69it/s]\n",
      "100%|███████████████████████████████████████████████████████████████████████████████████████████████████████████████████████████| 36/36 [00:06<00:00,  5.79it/s]\n",
      "100%|███████████████████████████████████████████████████████████████████████████████████████████████████████████████████████████| 36/36 [00:06<00:00,  5.73it/s]\n",
      "100%|███████████████████████████████████████████████████████████████████████████████████████████████████████████████████████████| 36/36 [00:06<00:00,  5.70it/s]\n",
      "100%|███████████████████████████████████████████████████████████████████████████████████████████████████████████████████████████| 36/36 [00:06<00:00,  5.86it/s]\n",
      "100%|███████████████████████████████████████████████████████████████████████████████████████████████████████████████████████████| 36/36 [00:06<00:00,  5.93it/s]\n",
      "100%|███████████████████████████████████████████████████████████████████████████████████████████████████████████████████████████| 36/36 [00:06<00:00,  5.85it/s]\n",
      "100%|███████████████████████████████████████████████████████████████████████████████████████████████████████████████████████████| 36/36 [00:05<00:00,  6.03it/s]\n",
      "100%|███████████████████████████████████████████████████████████████████████████████████████████████████████████████████████████| 36/36 [00:06<00:00,  5.75it/s]\n",
      "100%|███████████████████████████████████████████████████████████████████████████████████████████████████████████████████████████| 36/36 [00:06<00:00,  5.84it/s]\n",
      "100%|███████████████████████████████████████████████████████████████████████████████████████████████████████████████████████████| 36/36 [00:06<00:00,  5.99it/s]\n",
      "100%|███████████████████████████████████████████████████████████████████████████████████████████████████████████████████████████| 36/36 [00:06<00:00,  5.73it/s]\n",
      "100%|███████████████████████████████████████████████████████████████████████████████████████████████████████████████████████████| 36/36 [00:06<00:00,  5.64it/s]\n",
      "100%|███████████████████████████████████████████████████████████████████████████████████████████████████████████████████████████| 36/36 [00:06<00:00,  5.90it/s]\n",
      "100%|███████████████████████████████████████████████████████████████████████████████████████████████████████████████████████████| 36/36 [00:06<00:00,  5.89it/s]\n",
      "100%|███████████████████████████████████████████████████████████████████████████████████████████████████████████████████████████| 36/36 [00:05<00:00,  6.09it/s]\n",
      "100%|███████████████████████████████████████████████████████████████████████████████████████████████████████████████████████████| 36/36 [00:06<00:00,  5.94it/s]\n",
      "100%|███████████████████████████████████████████████████████████████████████████████████████████████████████████████████████████| 36/36 [00:06<00:00,  5.88it/s]\n",
      "100%|███████████████████████████████████████████████████████████████████████████████████████████████████████████████████████████| 36/36 [00:06<00:00,  5.84it/s]\n",
      "100%|███████████████████████████████████████████████████████████████████████████████████████████████████████████████████████████| 36/36 [00:06<00:00,  5.83it/s]\n",
      "100%|███████████████████████████████████████████████████████████████████████████████████████████████████████████████████████████| 36/36 [00:06<00:00,  5.46it/s]\n",
      "100%|███████████████████████████████████████████████████████████████████████████████████████████████████████████████████████████| 36/36 [00:06<00:00,  5.22it/s]\n",
      "100%|███████████████████████████████████████████████████████████████████████████████████████████████████████████████████████████| 36/36 [00:06<00:00,  5.17it/s]\n",
      "100%|███████████████████████████████████████████████████████████████████████████████████████████████████████████████████████████| 36/36 [00:05<00:00,  6.19it/s]\n",
      "100%|███████████████████████████████████████████████████████████████████████████████████████████████████████████████████████████| 36/36 [00:06<00:00,  5.87it/s]\n",
      "100%|███████████████████████████████████████████████████████████████████████████████████████████████████████████████████████████| 36/36 [00:06<00:00,  5.78it/s]\n",
      "100%|███████████████████████████████████████████████████████████████████████████████████████████████████████████████████████████| 36/36 [00:06<00:00,  5.51it/s]\n",
      "100%|███████████████████████████████████████████████████████████████████████████████████████████████████████████████████████████| 36/36 [00:06<00:00,  5.26it/s]\n",
      "100%|███████████████████████████████████████████████████████████████████████████████████████████████████████████████████████████| 36/36 [00:06<00:00,  5.61it/s]\n",
      "100%|███████████████████████████████████████████████████████████████████████████████████████████████████████████████████████████| 36/36 [00:06<00:00,  5.77it/s]\n",
      "100%|███████████████████████████████████████████████████████████████████████████████████████████████████████████████████████████| 36/36 [00:06<00:00,  5.69it/s]\n",
      "100%|███████████████████████████████████████████████████████████████████████████████████████████████████████████████████████████| 36/36 [00:06<00:00,  5.66it/s]\n",
      "100%|███████████████████████████████████████████████████████████████████████████████████████████████████████████████████████████| 36/36 [00:06<00:00,  5.95it/s]\n",
      "100%|███████████████████████████████████████████████████████████████████████████████████████████████████████████████████████████| 36/36 [00:05<00:00,  6.03it/s]\n",
      "100%|███████████████████████████████████████████████████████████████████████████████████████████████████████████████████████████| 36/36 [00:05<00:00,  6.11it/s]\n",
      "100%|███████████████████████████████████████████████████████████████████████████████████████████████████████████████████████████| 36/36 [00:05<00:00,  6.16it/s]\n",
      "100%|███████████████████████████████████████████████████████████████████████████████████████████████████████████████████████████| 36/36 [00:05<00:00,  6.09it/s]\n",
      "100%|███████████████████████████████████████████████████████████████████████████████████████████████████████████████████████████| 36/36 [00:05<00:00,  6.26it/s]\n",
      "100%|███████████████████████████████████████████████████████████████████████████████████████████████████████████████████████████| 36/36 [00:05<00:00,  6.31it/s]\n",
      "100%|███████████████████████████████████████████████████████████████████████████████████████████████████████████████████████████| 36/36 [00:05<00:00,  6.23it/s]\n",
      "100%|███████████████████████████████████████████████████████████████████████████████████████████████████████████████████████████| 36/36 [00:05<00:00,  6.15it/s]\n",
      "100%|███████████████████████████████████████████████████████████████████████████████████████████████████████████████████████████| 36/36 [00:05<00:00,  6.19it/s]\n",
      "100%|███████████████████████████████████████████████████████████████████████████████████████████████████████████████████████████| 36/36 [00:06<00:00,  5.82it/s]\n",
      "100%|███████████████████████████████████████████████████████████████████████████████████████████████████████████████████████████| 36/36 [00:05<00:00,  6.20it/s]\n",
      "100%|███████████████████████████████████████████████████████████████████████████████████████████████████████████████████████████| 36/36 [00:05<00:00,  6.36it/s]\n",
      "100%|███████████████████████████████████████████████████████████████████████████████████████████████████████████████████████████| 36/36 [00:06<00:00,  5.86it/s]\n",
      "100%|███████████████████████████████████████████████████████████████████████████████████████████████████████████████████████████| 36/36 [00:05<00:00,  6.08it/s]\n",
      "100%|███████████████████████████████████████████████████████████████████████████████████████████████████████████████████████████| 36/36 [00:05<00:00,  6.28it/s]\n",
      "100%|███████████████████████████████████████████████████████████████████████████████████████████████████████████████████████████| 36/36 [00:05<00:00,  6.21it/s]\n",
      "100%|███████████████████████████████████████████████████████████████████████████████████████████████████████████████████████████| 36/36 [00:05<00:00,  6.11it/s]\n",
      "100%|███████████████████████████████████████████████████████████████████████████████████████████████████████████████████████████| 36/36 [00:05<00:00,  6.27it/s]\n",
      "100%|███████████████████████████████████████████████████████████████████████████████████████████████████████████████████████████| 36/36 [00:05<00:00,  6.16it/s]\n"
     ]
    }
   ],
   "source": [
    "# first 3 param computed by get_files()\n",
    "# do it for all FOV\n",
    "compute_drift_features(save_folder = save_folder,\n",
    "                       fov = fov,\n",
    "                       all_flds = all_flds,\n",
    "                       redo=False,gpu=True)"
   ]
  },
  {
   "cell_type": "markdown",
   "id": "3c374246",
   "metadata": {},
   "source": [
    "# Get drift corrected points"
   ]
  },
  {
   "cell_type": "code",
   "execution_count": 34,
   "id": "74173690",
   "metadata": {},
   "outputs": [],
   "source": [
    "def compute_drift_V2(save_folder,fov,all_flds,redo=False,gpu=True):\n",
    "    '''\n",
    "    L134\n",
    "    '''\n",
    "    set_ = ''\n",
    "    drift_fl = save_folder+os.sep+'driftNew_'+fov.split('.')[0]+'--'+set_+'.pkl'\n",
    "    try:\n",
    "        np.load(drift_fl,allow_pickle=True)\n",
    "    except:\n",
    "        redo=True\n",
    "    if not os.path.exists(drift_fl) or redo:\n",
    "        fls = [fld+os.sep+fov for fld in all_flds]\n",
    "        fl_ref = fls[len(fls)//2]\n",
    "        newdrifts = []\n",
    "        for fl in fls:\n",
    "            drft = get_best_translation_pointsV2(fl,fl_ref,save_folder,resc=5)\n",
    "            print(drft)\n",
    "            newdrifts.append(drft)\n",
    "        pickle.dump([newdrifts,all_flds,fov,fl_ref],open(drift_fl,'wb'))\n",
    "        \n",
    "def get_best_translation_pointsV2(fl,fl_ref,save_folder,resc=5,th=4):\n",
    "    '''\n",
    "    L109\n",
    "    '''\n",
    "    ### THis loads the dapi features and registers the images for files fl and fl_ref\n",
    "    set_ = ''\n",
    "    obj = get_dapi_features(fl,save_folder,set_)\n",
    "    obj_ref = get_dapi_features(fl_ref,save_folder,set_)\n",
    "    tzxyf,tzxy_plus,tzxy_minus,N_plus,N_minus = np.array([0,0,0]),np.array([0,0,0]),np.array([0,0,0]),0,0\n",
    "    if (len(obj.Xh_plus)>0) and (len(obj_ref.Xh_plus)>0):\n",
    "        X = obj.Xh_plus#[:,:3]\n",
    "        X_ref = obj_ref.Xh_plus#[:,:3]\n",
    "        X = X[X[:,-1]>th][:,:3]\n",
    "        X_ref = X_ref[X_ref[:,-1]>th][:,:3]\n",
    "        tzxy_plus,N_plus = get_best_translation_points(X,X_ref,resc=resc,return_counts=True)\n",
    "    if (len(obj.Xh_minus)>0) and (len(obj_ref.Xh_minus)>0):\n",
    "        X = obj.Xh_minus#[:,:3]\n",
    "        X_ref = obj_ref.Xh_minus#[:,:3]\n",
    "        X = X[X[:,-1]>th][:,:3]\n",
    "        X_ref = X_ref[X_ref[:,-1]>th][:,:3]\n",
    "        tzxy_minus,N_minus = get_best_translation_points(X,X_ref,resc=resc,return_counts=True)\n",
    "    if np.max(np.abs(tzxy_minus-tzxy_plus))<=2:\n",
    "        tzxyf = -(tzxy_plus*N_plus+tzxy_minus*N_minus)/(N_plus+N_minus)\n",
    "    else:\n",
    "        tzxyf = -[tzxy_plus,tzxy_minus][np.argmax([N_plus,N_minus])]\n",
    "    \n",
    "\n",
    "    return [tzxyf,tzxy_plus,tzxy_minus,N_plus,N_minus]"
   ]
  },
  {
   "cell_type": "code",
   "execution_count": 35,
   "id": "117b2c2c",
   "metadata": {},
   "outputs": [
    {
     "name": "stdout",
     "output_type": "stream",
     "text": [
      "[array([ 0.01697627, 11.263697  , -4.0265684 ], dtype=float32), array([ -0.0233192, -11.249808 ,   4.0549564], dtype=float32), array([-5.6384420e-03, -1.1288523e+01,  3.9758267e+00], dtype=float32), 11245, 6291]\n",
      "[array([-0., -0., -0.], dtype=float32), array([0., 0., 0.], dtype=float32), array([0., 0., 0.], dtype=float32), 15202, 8879]\n",
      "[array([-1.0073842e-01, -1.0555382e+02,  6.3297066e+01], dtype=float32), array([  0.1180039, 105.53165  , -63.288513 ], dtype=float32), array([ 6.8208709e-02,  1.0559557e+02, -6.3313179e+01], dtype=float32), 10728, 5694]\n"
     ]
    }
   ],
   "source": [
    "compute_drift_V2(save_folder = save_folder,\n",
    "                       fov = fov,\n",
    "                       all_flds = test_flds,\n",
    "                     redo=False,gpu=True)"
   ]
  },
  {
   "cell_type": "markdown",
   "id": "b3e2e0fa",
   "metadata": {},
   "source": [
    "# napari"
   ]
  },
  {
   "cell_type": "code",
   "execution_count": null,
   "id": "1744ac25",
   "metadata": {},
   "outputs": [
    {
     "name": "stderr",
     "output_type": "stream",
     "text": [
      "WARNING: QObject::moveToThread: Current thread (0x556d64afa960) is not the object's thread (0x556d64affba0).\n",
      "Cannot move to target thread (0x556d64afa960)\n",
      "\n",
      "WARNING: Could not load the Qt platform plugin \"xcb\" in \"/home/wed009/miniconda3/envs/cellpose/lib/python3.8/site-packages/cv2/qt/plugins\" even though it was found.\n"
     ]
    }
   ],
   "source": [
    "import napari\n",
    "napari.view_image(np.load(psf_file))"
   ]
  },
  {
   "cell_type": "markdown",
   "id": "7ea2f913",
   "metadata": {},
   "source": [
    "Can't use napari on mediator :( A100 GPU doesnt support that"
   ]
  },
  {
   "cell_type": "markdown",
   "id": "1ddee0d5",
   "metadata": {},
   "source": [
    "In the end, switched to FOV = 05 because fov3 has a bright light source on the lower left corner. "
   ]
  }
 ],
 "metadata": {
  "kernelspec": {
   "display_name": "Python 3 (ipykernel)",
   "language": "python",
   "name": "python3"
  },
  "language_info": {
   "codemirror_mode": {
    "name": "ipython",
    "version": 3
   },
   "file_extension": ".py",
   "mimetype": "text/x-python",
   "name": "python",
   "nbconvert_exporter": "python",
   "pygments_lexer": "ipython3",
   "version": "3.8.19"
  }
 },
 "nbformat": 4,
 "nbformat_minor": 5
}
