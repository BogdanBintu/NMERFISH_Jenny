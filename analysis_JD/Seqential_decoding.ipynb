{
 "cells": [
  {
   "cell_type": "markdown",
   "id": "37f95597",
   "metadata": {},
   "source": [
    "050624 Given that we have the best 2 decoded spots per cell per comb region, now attempt to find the seqential spots. \n",
    "\n",
    "Test on `fov = 05`\n",
    "\n",
    "Idea:\n",
    "- For each seq round (total 60):\n",
    "    - for each decoded comb index (total 595):\n",
    "        - for each cell (total 223):\n",
    "            - get all fitted spots in the seq round (len M)\n",
    "            - compute score based on 1) distance to decoded spots 2) brightness similar to ioMicro::get_score_per_colorV2()\n",
    "            - find nbest spots similar to ioMicroPostfits::keep_best_per_cell_fast()\n",
    "            - store it?\n",
    "            "
   ]
  },
  {
   "cell_type": "code",
   "execution_count": 1,
   "id": "18244c72",
   "metadata": {},
   "outputs": [],
   "source": [
    "analysis_folder = '/mnt/tscc/wed009/WholeGenome/NMERFISH_Jenny/'\n",
    "import sys\n",
    "sys.path.append(analysis_folder)\n",
    "from ioMicro import *"
   ]
  },
  {
   "cell_type": "code",
   "execution_count": 2,
   "id": "d47aca88",
   "metadata": {},
   "outputs": [],
   "source": [
    "#### mediator version ###\n",
    "save_folder =r'/projects/ps-renlab2/wed009/analysis_031524_v1_acry_37C_pilot'\n",
    "fov='Conv_zscan__05'\n",
    "set_=''\n",
    "\n",
    "# load seq round dic\n",
    "meta_folder = '/mnt/tscc/wed009/WholeGenome/data/FromBlair/V1_pilot_seq'\n",
    "dic_seq_round = pickle.load(open(os.path.join(meta_folder, 'dic_seq_round.pkl'), 'rb'))\n",
    "\n",
    "# load chrom abb dic\n",
    "chrom_fl = os.path.join(analysis_folder, 'dic_chromatic_abberation_Jenny_Scope4_4_17_2024.pkl')\n",
    "chrom_fl"
   ]
  },
  {
   "cell_type": "markdown",
   "id": "1d02e334",
   "metadata": {},
   "source": [
    "# begin code insert here\n",
    "functions pasted from ioMicroPostfits.py"
   ]
  },
  {
   "cell_type": "code",
   "execution_count": 79,
   "id": "be67e075",
   "metadata": {},
   "outputs": [],
   "source": [
    "def load_segmentation(fl_ref, save_folder = save_folder):\n",
    "    H = os.path.basename(os.path.dirname(fl_ref))\n",
    "    seg_fl = os.path.join(save_folder, 'Segmentation', fov + '--' + H + '--dapi_segm.npz')\n",
    "    seg = np.load(seg_fl)\n",
    "    segm = seg['segm']\n",
    "    shape = seg['shape']\n",
    "    resc = shape/segm.shape\n",
    "    return segm, resc"
   ]
  },
  {
   "cell_type": "code",
   "execution_count": 84,
   "id": "db024b72",
   "metadata": {},
   "outputs": [],
   "source": [
    "# load the control or seqential fits\n",
    "# seq R goes from 0-59\n",
    "def load_seq_fits(seq_bit, \n",
    "                  set_ = set_,\n",
    "                  save_folder = save_folder,\n",
    "                  fov = fov,\n",
    "                chrom_fl = r'C:\\Scripts\\NMERFISH_Jenny\\dic_chromatic_abberation_Jenny_Scope4_4_17_2024.pkl'):\n",
    "#     set_ = self.set_\n",
    "#     fov = self.fov\n",
    "#     save_folder = self.save_folder\n",
    "    drift_fl = save_folder+os.sep+'driftNew_'+fov.split('.')[0]+'--'+set_+'.pkl'\n",
    "    drifts,all_flds,fov,fl_ref = pickle.load(open(drift_fl,'rb'))\n",
    "    #self.drifts,self.all_flds,self.fov,self.fl_ref = drifts,all_flds,fov,fl_ref\n",
    "\n",
    "    XH = []\n",
    "    # reconstruct tag\n",
    "    icol = (int(seq_bit[4:])-1) % 3\n",
    "    irepeat = np.ceil(int(seq_bit[4:]) / 3)\n",
    "    plate_well_1 = seq_bit[:4] #P2_F\n",
    "    plate_well_2 = '_'.join([str(int(irepeat*3-i)) for i in range(2,-1, -1)])#7_8_9\n",
    "    plate_well = plate_well_1  + plate_well_2\n",
    "\n",
    "    # get H\n",
    "    iH = [all_flds.index(fld) for fld in all_flds if plate_well in fld][0] + 1 # take only first one; H is 1-indexed\n",
    "    tag = 'H' + str(iH) + '_' + plate_well\n",
    "    print(f'Loading tag :{tag}')\n",
    "\n",
    "    save_fl = save_folder+os.sep+fov.split('.')[0]+'--'+tag+'--col'+str(icol)+'__Xhfits.npz'\n",
    "\n",
    "    # load fits\n",
    "    Xh = np.load(save_fl,allow_pickle=True)['Xh']### load the fits\n",
    "    x3d = Xh[:,:3]\n",
    "    # chromatic abb\n",
    "    if chrom_fl is not None:\n",
    "        dic_chrom = pickle.load(open(chrom_fl,'rb'))\n",
    "        m = dic_chrom.get('m'+str(icol),None)\n",
    "        hfactor = dic_chrom.get('hfactor'+str(icol),1)\n",
    "        x3dT = apply_colorcor(x3d,m=m)\n",
    "        Xh[:,:3] = x3dT\n",
    "        Xh[:,-1] = Xh[:,-1]*hfactor\n",
    "    print(Xh.shape)\n",
    "    if len(Xh.shape):\n",
    "        #Xh = Xh[Xh[:,-1]>th_h]\n",
    "        if len(Xh):\n",
    "            tzxy = drifts[iH-1][0] # fetching the correct drift files\n",
    "            Xh[:,:3]+=tzxy# drift correction\n",
    "            \n",
    "    # load segmentation\n",
    "    segm, resc = load_segmentation(fl_ref)\n",
    "    return Xh, (segm, resc)   "
   ]
  },
  {
   "cell_type": "code",
   "execution_count": 118,
   "id": "e8c69007",
   "metadata": {},
   "outputs": [],
   "source": [
    "def get_seq_Xhfc(seq_bit, gene_names = gene_names, \n",
    "                 h_th = 2000, dic_seq_round = dic_seq_round):\n",
    "    Xh_seq, (segm,resc) = load_seq_fits(seq_bit, chrom_fl = chrom_fl)\n",
    "    # filter based on brightness\n",
    "    Xh_seq = Xh_seq[Xh_seq[:,-3]>h_th]\n",
    "    # get comb region index\n",
    "    R = dic_seq_round[seq_bit]\n",
    "    print(f'seq R: {R}')\n",
    "    # add two dummy columns\n",
    "    # in the decoded version, this corresponds to icol(color) and R (bit number)\n",
    "    Xh_seq = np.concatenate((Xh_seq, np.full((Xh_seq.shape[0], 1), -1)), axis=1) # add icol\n",
    "    Xh_seq = np.concatenate((Xh_seq, np.full((Xh_seq.shape[0], 1), R)), axis=1) # add seq gene name: round 0-59\n",
    "    \n",
    "    # assign to cell\n",
    "    # should be in the same cell space as the comb\n",
    "    Xh_seq_red = np.round(Xh_seq[:,:3]/resc).astype(int) # resacle to seg space\n",
    "    in_image = np.all((Xh_seq_red>0)&(Xh_seq_red<segm.shape),axis=-1)\n",
    "    cell_ids = np.zeros(len(in_image))\n",
    "    cell_ids[in_image]=segm[tuple(Xh_seq_red[in_image].T)]\n",
    "    XHfc_seq = np.concatenate([Xh_seq,cell_ids[:,np.newaxis]],axis=-1)\n",
    "    # remove any spots in background\n",
    "    XHfc_seq = XHfc_seq[XHfc_seq[:, -1] > 0]\n",
    "    \n",
    "    return XHfc_seq, R"
   ]
  },
  {
   "cell_type": "markdown",
   "id": "887e33cb",
   "metadata": {},
   "source": [
    "# load filter decoded"
   ]
  },
  {
   "cell_type": "code",
   "execution_count": 3,
   "id": "285bf6ca",
   "metadata": {},
   "outputs": [
    {
     "data": {
      "text/plain": [
       "'/projects/ps-renlab2/wed009/analysis_031524_v1_acry_37C_pilot/FilterDecoded_Conv_zscan__05.npz'"
      ]
     },
     "execution_count": 3,
     "metadata": {},
     "output_type": "execute_result"
    }
   ],
   "source": [
    "filter_decoded_fl = os.path.join(save_folder, f'FilterDecoded_{fov}.npz')\n",
    "filter_decoded_fl"
   ]
  },
  {
   "cell_type": "code",
   "execution_count": 38,
   "id": "263c0ad3",
   "metadata": {},
   "outputs": [],
   "source": [
    "fd = np.load(filter_decoded_fl)\n",
    "XHfc = fd['XHfc']\n",
    "XHfc_best = fd['XHfc_best']\n",
    "gene_names = fd['gene_names']\n",
    "gene_indices = fd['gene_indices']"
   ]
  },
  {
   "cell_type": "code",
   "execution_count": 12,
   "id": "4de21f23",
   "metadata": {},
   "outputs": [
    {
     "data": {
      "text/plain": [
       "(327798, 11)"
      ]
     },
     "execution_count": 12,
     "metadata": {},
     "output_type": "execute_result"
    }
   ],
   "source": [
    "XHfc_best.shape"
   ]
  },
  {
   "cell_type": "code",
   "execution_count": 16,
   "id": "7b708348",
   "metadata": {},
   "outputs": [
    {
     "data": {
      "text/plain": [
       "array([4314.33056641, 4782.37272135, 5288.46940104, ..., 6973.93066406,\n",
       "       4957.27742513, 6648.24869792])"
      ]
     },
     "execution_count": 16,
     "metadata": {},
     "output_type": "execute_result"
    }
   ],
   "source": [
    "# metadata\n",
    "XHfc_best[:, -1] # -1: cell id\n",
    "XHfc_best[:, -2] # -2: gene indices (need to exclude non blank genes) in gene_names\n",
    "XHfc_best[:, -3] # -3: score_A\n",
    "XHfc_best[:, -4] # -4: normalized intensity"
   ]
  },
  {
   "cell_type": "code",
   "execution_count": 46,
   "id": "c4b93c61",
   "metadata": {},
   "outputs": [
    {
     "data": {
      "text/plain": [
       "array([ 127.,  128.,  129., ..., 1188., 1188., 1189.])"
      ]
     },
     "execution_count": 46,
     "metadata": {},
     "output_type": "execute_result"
    }
   ],
   "source": [
    "XHfc_best[:, -2]"
   ]
  },
  {
   "cell_type": "code",
   "execution_count": 49,
   "id": "78df73cb",
   "metadata": {},
   "outputs": [
    {
     "data": {
      "text/plain": [
       "(215790, 11)"
      ]
     },
     "execution_count": 49,
     "metadata": {},
     "output_type": "execute_result"
    }
   ],
   "source": [
    "# filter only genes non-blank\n",
    "is_blank = np.array(['blank' in e for e in gene_names[XHfc_best[:, -2].astype(int)]])\n",
    "XHfc_best_valid = XHfc_best[~is_blank]\n",
    "XHfc_best_valid.shape"
   ]
  },
  {
   "cell_type": "markdown",
   "id": "8025d022",
   "metadata": {},
   "source": [
    "# load seqential"
   ]
  },
  {
   "cell_type": "code",
   "execution_count": 119,
   "id": "d936cf49",
   "metadata": {},
   "outputs": [
    {
     "name": "stdout",
     "output_type": "stream",
     "text": [
      "Loading tag :H13_P1_D1_2_3\n",
      "(896534, 8)\n",
      "seq R: 16\n"
     ]
    }
   ],
   "source": [
    "XHfc_seq, R = get_seq_Xhfc(seq_bit = 'P1_D1', h_th = 0)"
   ]
  },
  {
   "cell_type": "code",
   "execution_count": 120,
   "id": "1df333a3",
   "metadata": {},
   "outputs": [
    {
     "data": {
      "text/plain": [
       "(327443, 11)"
      ]
     },
     "execution_count": 120,
     "metadata": {},
     "output_type": "execute_result"
    }
   ],
   "source": [
    "XHfc_seq.shape"
   ]
  },
  {
   "cell_type": "markdown",
   "id": "b66b94f5",
   "metadata": {},
   "source": [
    "# get score"
   ]
  },
  {
   "cell_type": "markdown",
   "id": "5782906e",
   "metadata": {},
   "source": [
    "## get distance"
   ]
  },
  {
   "cell_type": "code",
   "execution_count": 174,
   "id": "a299d0a8",
   "metadata": {},
   "outputs": [],
   "source": [
    "def compute_seq_score(score, scoresRef, iSs = None, plt_val = False):\n",
    "    from scipy.spatial import KDTree\n",
    "    scoreA_ = np.zeros(len(score))\n",
    "    if iSs is None: iSs = np.arange(scoresRef.shape[-1])\n",
    "    for iS in iSs:\n",
    "        dist_,inds_ = KDTree(scoresRef[:,[iS]]).query(score[:,[iS]])\n",
    "        scoreA_+=np.log((inds_+1))-np.log(len(scoresRef))\n",
    "        \n",
    "    # plot distr\n",
    "    if plt_val:\n",
    "        scoreA = scoreA_\n",
    "        #bad_igns = [ign for ign,gn in enumerate(dec.gns_names) if 'blank' in gn.lower()]\n",
    "        #good_igns = [ign for ign,gn in enumerate(dec.gns_names) if 'blank' not in gn.lower()]\n",
    "        #is_good_gn = np.in1d(dec.icodesN,good_igns)\n",
    "        \n",
    "        plt.figure()\n",
    "#        kp = scoreA>th_min\n",
    "        plt.hist(scoreA, bins = 30)\n",
    "#         plt.hist(scoreA[(is_good_gn)&kp],density=True,bins=100,alpha=0.5,label='all genes')\n",
    "#         if gene is not None:\n",
    "#             is_gn = dec.icodesN==(list(dec.gns_names).index(gene))\n",
    "#             plt.hist(scoreA[(is_gn)&kp],density=True,bins=100,alpha=0.5,label=gene)\n",
    "#         plt.hist(scoreA[(~is_good_gn)&kp],density=True,bins=100,alpha=0.5,label='blanks');\n",
    "#         plt.legend()\n",
    "    return scoreA_"
   ]
  },
  {
   "cell_type": "code",
   "execution_count": 209,
   "id": "8ee44912",
   "metadata": {},
   "outputs": [],
   "source": [
    "import numpy as np\n",
    "from scipy.spatial import KDTree\n",
    "from collections import defaultdict\n",
    "\n",
    "def compute_min_distances_and_ranks(XComb, XSeq, scoresRef = None, plt_val = False):\n",
    "    # Group by cell ID, skipping entries where cell ID is 0\n",
    "    def group_by_cell(X):\n",
    "        groups = defaultdict(list)\n",
    "        for row in X:\n",
    "            if row[-1] != 0:  # Skip cell ID 0\n",
    "                groups[row[-1]].append(row)\n",
    "        return groups\n",
    "\n",
    "    groups_XComb = group_by_cell(XComb)\n",
    "    groups_XSeq = group_by_cell(XSeq)\n",
    "\n",
    "    # Create an expanded XSeq to store additional information\n",
    "    XSeq_ = []#np.zeros((len(XSeq), len(XSeq[0]) + 2))\n",
    "\n",
    "    # Process each cell\n",
    "    for cell_id, spots_XSeq in groups_XSeq.items():\n",
    "        if True:\n",
    "            spots_XSeq = np.array(spots_XSeq)\n",
    "            coords_XSeq = spots_XSeq[:, :3]  # Extract only coordinate columns\n",
    "\n",
    "            if cell_id in groups_XComb:\n",
    "                spots_XComb = np.array(groups_XComb[cell_id])\n",
    "                coords_XComb = spots_XComb[:, :3]\n",
    "                tree = KDTree(coords_XComb)\n",
    "                D = tree.query(coords_XSeq, k=1)[0]  # Query the minimum distance\n",
    "            else:\n",
    "                # No matching cell in XComb, all distances are infinity\n",
    "                D = np.full(len(coords_XSeq), np.nan)\n",
    "\n",
    "            H = spots_XSeq[:, -4]#[:, :-1][:, -4]\n",
    "            \n",
    "            score = np.array([H,-D]).T\n",
    "            \n",
    "            if scoresRef is None: \n",
    "                scoresRef = score\n",
    "            \n",
    "            # compute rank sum score\n",
    "            scoreA = compute_seq_score(score, scoresRef, plt_val = plt_val)\n",
    "            \n",
    "            # add score to output\n",
    "            #print(f'XSeq current shape: {spots_XSeq.shape}')\n",
    "            spots_XSeq_ = spots_XSeq.copy()\n",
    "            spots_XSeq_[:, -3] = scoreA # -3 stores the score, originally set to -1\n",
    "            XSeq_.append(spots_XSeq_)\n",
    "            '''\n",
    "            # Rank distances within the cell\n",
    "            sorted_indices = np.argsort(distances)\n",
    "            ranks = np.argsort(sorted_indices) + 1  # Ranks start from 1\n",
    "\n",
    "            # Store the original rows from XSeq with additional distance and rank\n",
    "            for i, spot in enumerate(spots_XSeq):\n",
    "                expanded_XSeq[spot[0].astype(int)] = np.concatenate((spot, [distances[i], ranks[i]]))\n",
    "            '''\n",
    "\n",
    "    return np.vstack(XSeq_)"
   ]
  },
  {
   "cell_type": "code",
   "execution_count": 210,
   "id": "aaef7f0f",
   "metadata": {},
   "outputs": [
    {
     "name": "stdout",
     "output_type": "stream",
     "text": [
      "(412, 11)\n",
      "(327443, 11)\n"
     ]
    }
   ],
   "source": [
    "XComb = XHfc_best_valid[XHfc_best_valid[:, -2] == 700]\n",
    "print(XComb.shape)\n",
    "XSeq = XHfc_seq.copy()\n",
    "print(XSeq.shape)\n",
    "res = compute_min_distances_and_ranks(XComb, XSeq, plt_val = False)"
   ]
  },
  {
   "cell_type": "code",
   "execution_count": 220,
   "id": "4a9c4dd0",
   "metadata": {},
   "outputs": [
    {
     "data": {
      "text/plain": [
       "(327443, 11)"
      ]
     },
     "execution_count": 220,
     "metadata": {},
     "output_type": "execute_result"
    }
   ],
   "source": [
    "res.shape"
   ]
  },
  {
   "cell_type": "code",
   "execution_count": 218,
   "id": "be547490",
   "metadata": {},
   "outputs": [],
   "source": [
    "def keep_best_seq_per_cell_fast(XH_f,nbest=20):\n",
    "    '''\n",
    "    modified based on ioMicroPostFits::keep_best_per_cell_fast\n",
    "    '''\n",
    "    ###sort molecules by score and keep only within cells (CELLs>0)\n",
    "    XH_f_ = XH_f.copy()\n",
    "    S = XH_f_[:,-3] #score\n",
    "    XH_f_ = XH_f[np.argsort(S)]\n",
    "    CELLs = XH_f_[:,-1].astype(int) #cell index\n",
    "    keep = CELLs>0\n",
    "    XH_f_ = XH_f_[keep]\n",
    "    \n",
    "    \n",
    "    #################################\n",
    "    CELLs = XH_f_[:,-1].astype(int) #cell index\n",
    "    S = XH_f_[:,-3] #score\n",
    "    ### find index combining cell id an redout id\n",
    "    Rs = XH_f_[:,-2].astype(int) #seq readout\n",
    "     \n",
    "    cellsu = np.unique(CELLs)\n",
    "    Rsu = np.unique(Rs)\n",
    "    MR = np.max(Rsu)+1\n",
    "    mix_index = CELLs*MR+Rs ### unique index combining cell and readout info\n",
    "    \n",
    "    #### find the inverse and prealocate space that you fill cyclically\n",
    "    miu,rinv = np.unique(mix_index,return_inverse=True)\n",
    "    miu_,cts_ = np.unique(mix_index,return_counts=True)\n",
    "    XH_f_pruned = np.zeros([len(miu),nbest,XH_f.shape[1]],dtype=XH_f.dtype)+np.nan\n",
    "    ind_best = np.argsort(np.argsort(rinv))%nbest\n",
    "    XH_f_pruned[rinv,ind_best,:]=XH_f_######\n",
    "    XH_f_pruned = XH_f_pruned.reshape([-1,XH_f_pruned.shape[-1]])\n",
    "    good = ~np.isnan(XH_f_pruned)[:,0]\n",
    "    XH_f_pruned = XH_f_pruned[good]\n",
    "    return XH_f_pruned"
   ]
  },
  {
   "cell_type": "code",
   "execution_count": 219,
   "id": "893170ae",
   "metadata": {},
   "outputs": [],
   "source": [
    "res_best = keep_best_seq_per_cell_fast(res,nbest=5)"
   ]
  },
  {
   "cell_type": "code",
   "execution_count": 221,
   "id": "9e73d9a0",
   "metadata": {},
   "outputs": [
    {
     "data": {
      "text/plain": [
       "(1075, 11)"
      ]
     },
     "execution_count": 221,
     "metadata": {},
     "output_type": "execute_result"
    }
   ],
   "source": [
    "res_best.shape"
   ]
  },
  {
   "cell_type": "code",
   "execution_count": null,
   "id": "012cd448",
   "metadata": {},
   "outputs": [],
   "source": []
  }
 ],
 "metadata": {
  "kernelspec": {
   "display_name": "Python 3 (ipykernel)",
   "language": "python",
   "name": "python3"
  },
  "language_info": {
   "codemirror_mode": {
    "name": "ipython",
    "version": 3
   },
   "file_extension": ".py",
   "mimetype": "text/x-python",
   "name": "python",
   "nbconvert_exporter": "python",
   "pygments_lexer": "ipython3",
   "version": "3.8.19"
  }
 },
 "nbformat": 4,
 "nbformat_minor": 5
}
