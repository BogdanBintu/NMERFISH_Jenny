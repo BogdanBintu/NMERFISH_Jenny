{
 "cells": [
  {
   "cell_type": "code",
   "execution_count": 21,
   "id": "36ee02e2-6aa8-4655-a79f-73d84b85cf6e",
   "metadata": {},
   "outputs": [],
   "source": [
    "from ioMicro import *"
   ]
  },
  {
   "cell_type": "code",
   "execution_count": 2,
   "id": "1010f3ee-0cf3-4149-a8c1-7886e84f99b2",
   "metadata": {},
   "outputs": [],
   "source": [
    "def get_intersV2(self,nmin_bits=3,dinstance_th=2,enforce_color=True,enforce_set=None,redo=False):\n",
    "    \"\"\"Get an initial intersection of points and save in self.res\"\"\"\n",
    "    self.res_fl = self.decoded_fl.replace('decoded','res')\n",
    "    if not os.path.exists(self.res_fl) or redo:\n",
    "        \n",
    "        res =[]\n",
    "        if enforce_color and (enforce_set is None):\n",
    "            icols = self.XH[:,-2].astype(int)\n",
    "            XH = self.XH\n",
    "            for icol in tqdm(np.unique(icols)):\n",
    "                inds = np.where(icols==icol)[0]\n",
    "                Xs = XH[inds,:3]\n",
    "                Ts = cKDTree(Xs)\n",
    "                res_ = Ts.query_ball_tree(Ts,dinstance_th)\n",
    "                res += [inds[r] for r in res_]\n",
    "        elif enforce_color and (enforce_set is not None):\n",
    "            ibits = self.XH[:,-1].astype(int)\n",
    "            isets = ibits//enforce_set\n",
    "            icols = self.XH[:,-2].astype(int)\n",
    "            XH = self.XH\n",
    "            for icol in np.unique(icols):\n",
    "                for iset in tqdm(np.unique(isets)):\n",
    "                    inds = np.where((icols==icol)&(isets==iset))[0]\n",
    "                    Xs = XH[inds,:3]\n",
    "                    Ts = cKDTree(Xs)\n",
    "                    res_ = Ts.query_ball_tree(Ts,dinstance_th)\n",
    "                    res += [inds[r] for r in res_]\n",
    "        else:\n",
    "            XH = self.XH\n",
    "            Xs = XH[:,:3] # only base on z,x,y\n",
    "            Ts = cKDTree(Xs)\n",
    "            res = Ts.query_ball_tree(Ts,dinstance_th) # find all pairs where distance is at most distance_th\n",
    "        print(\"Calculating lengths of clusters...\")\n",
    "        lens = np.array(list(map(len,res))) #an array where each element is the count of points within the distance_th from each respective point in Xs.\n",
    "        Mlen = np.max(lens)\n",
    "        print(\"Unfolding indexes...\")\n",
    "        res_unfolder = np.concatenate(res) #res is a list of list, storing indicies in XH\n",
    "        print(\"Saving to file:\",self.res_fl)\n",
    "        self.res_unfolder=res_unfolder\n",
    "        self.lens=lens\n",
    "        \n",
    "        #np.savez(self.res_fl,res_unfolder=res_unfolder,lens=lens)\n",
    "    else:\n",
    "        dic = np.load(self.res_fl)\n",
    "        self.res_unfolder=dic['res_unfolder']\n",
    "        self.lens=dic['lens']\n",
    "        #self.res = res\n",
    "    lens =self.lens\n",
    "    self.res_unfolder = self.res_unfolder[np.repeat(lens, lens)>=nmin_bits]\n",
    "    self.lens = self.lens[lens>=nmin_bits]\n",
    "    \n",
    "def get_icodesV3(dec,nmin_bits=3,iH=-3):\n",
    "    import time\n",
    "    start = time.time()\n",
    "    lens = dec.lens\n",
    "    res_unfolder = dec.res_unfolder\n",
    "    Mlen = np.max(lens)\n",
    "    print(\"Calculating indexes within cluster...\")\n",
    "    res_is = np.tile(np.arange(Mlen), len(lens))\n",
    "    res_is = res_is[res_is < np.repeat(lens, Mlen)] # res_is is an array holder. the indices within each cluster up to the maximum number of members in that cluster, but only including as many members as each specific cluster actually has.\n",
    "    print(\"Calculating index of molecule...\")\n",
    "    ires = np.repeat(np.arange(len(lens)), lens) # an array of original point indices\n",
    "    #r0 = np.array([r[0] for r in res for r_ in r])\n",
    "    print(\"Calculating index of first molecule...\")\n",
    "    r0i = np.concatenate([[0],np.cumsum(lens)])[:-1] # a list of indices where each point's cluster data starts but flattened\n",
    "    r0 = res_unfolder[np.repeat(r0i, lens)] # a list that selects the starting element of each cluster for each member\n",
    "    print(\"Total time unfolded molecules:\",time.time()-start)\n",
    "    \n",
    "    ### torch\n",
    "    ires = torch.from_numpy(ires.astype(np.int64))\n",
    "    res_unfolder = torch.from_numpy(res_unfolder.astype(np.int64))\n",
    "    res_is = torch.from_numpy(res_is.astype(np.int64))\n",
    "    \n",
    "    import time\n",
    "    start = time.time()\n",
    "    print(\"Computing score...\")\n",
    "    scoreF = torch.from_numpy(dec.XH[:,iH])[res_unfolder]\n",
    "    print(\"Total time computing score:\",time.time()-start)\n",
    "    \n",
    "    \n",
    "    ### organize molecules in blocks for each cluster\n",
    "    def get_asort_scores():\n",
    "        val = torch.max(scoreF)+2\n",
    "        scoreClu = torch.zeros([len(lens),Mlen],dtype=torch.float64)+val\n",
    "        scoreClu[ires,res_is]=scoreF\n",
    "        asort = scoreClu.argsort(-1)\n",
    "        scoreClu = torch.gather(scoreClu,dim=-1,index=asort)\n",
    "        scoresF2 = scoreClu[scoreClu<val-1]\n",
    "        return asort,scoresF2\n",
    "    def get_reorder(x,val=-1):\n",
    "        if type(x) is not torch.Tensor:\n",
    "            x = torch.from_numpy(np.array(x))\n",
    "        xClu = torch.zeros([len(lens),Mlen],dtype=x.dtype)+val\n",
    "        xClu[ires,res_is] = x\n",
    "        xClu = torch.gather(xClu,dim=-1,index=asort)\n",
    "        xf = xClu[xClu>val]\n",
    "        return xf\n",
    "    \n",
    "    \n",
    "    import time\n",
    "    start = time.time()\n",
    "    print(\"Computing sorting...\")\n",
    "    asort,scoresF2 = get_asort_scores()\n",
    "    res_unfolder2 = get_reorder(res_unfolder,val=-1)\n",
    "    del asort\n",
    "    del scoreF\n",
    "    print(\"Total time sorting molecules by score:\",time.time()-start)\n",
    "    \n",
    "    \n",
    "    \n",
    "    import time\n",
    "    start = time.time()\n",
    "    print(\"Finding best bits per molecules...\")\n",
    "    \n",
    "    Rs = dec.XH[:,-1].astype(np.int64) # rounds\n",
    "    Rs = torch.from_numpy(Rs)\n",
    "    Rs_U = Rs[res_unfolder2]\n",
    "    nregs,nbits = dec.codes_01.shape # codebook_blank shape\n",
    "    score_bits = torch.zeros([len(lens),nbits],dtype=scoresF2.dtype)-1\n",
    "    score_bits[ires,Rs_U]=scoresF2\n",
    "    \n",
    "    \n",
    "    codes_lib = torch.from_numpy(np.array(dec.codes__)) # loci x 4 on-bit \n",
    "    \n",
    "    \n",
    "    codes_lib_01 = torch.zeros([len(codes_lib),nbits],dtype=score_bits.dtype)\n",
    "    for icd,cd in enumerate(codes_lib):\n",
    "        codes_lib_01[icd,cd]=1\n",
    "    codes_lib_01 = codes_lib_01/torch.norm(codes_lib_01,dim=-1)[:,np.newaxis] # normalized codebook\n",
    "    print(\"Finding best code...\")\n",
    "    batch = 10000\n",
    "    icodes_best = torch.zeros(len(score_bits),dtype=torch.int64)\n",
    "    dists_best = torch.zeros(len(score_bits),dtype=torch.float32)\n",
    "    from tqdm import tqdm\n",
    "    for i in tqdm(range((len(score_bits)//batch)+1)):\n",
    "        score_bits_ = score_bits[i*batch:(i+1)*batch]\n",
    "        if len(score_bits_)>0:\n",
    "            score_bits__ = score_bits_.clone()\n",
    "            score_bits__[score_bits__==-1]=0\n",
    "            score_bits__ = score_bits__/torch.norm(score_bits__,dim=-1)[:,np.newaxis]\n",
    "            Mul = torch.matmul(score_bits__,codes_lib_01.T)\n",
    "            max_ = torch.max(Mul,dim=-1)\n",
    "            icodes_best[i*batch:(i+1)*batch] = max_.indices\n",
    "            dists_best[i*batch:(i+1)*batch] = 2-2*max_.values\n",
    "    \n",
    "    \n",
    "    keep_all_bits = torch.sum(score_bits.gather(1,codes_lib[icodes_best])>=0,-1)>=nmin_bits\n",
    "    dists_best_ = dists_best[keep_all_bits]\n",
    "    score_bits = score_bits[keep_all_bits]\n",
    "    icodes_best_ = icodes_best[keep_all_bits]\n",
    "    icodesN=icodes_best_\n",
    "    \n",
    "    indexMols_ = torch.zeros([len(lens),nbits],dtype=res_unfolder2.dtype)-1\n",
    "    indexMols_[ires,Rs_U]=res_unfolder2\n",
    "    indexMols_ = indexMols_[keep_all_bits]\n",
    "    indexMols_ = indexMols_.gather(1,codes_lib[icodes_best_])\n",
    "    \n",
    "    # make unique\n",
    "    indexMols_,rinvMols = get_unique_ordered(indexMols_)\n",
    "    icodesN = icodesN[rinvMols]\n",
    "    \n",
    "    XH = torch.from_numpy(dec.XH)\n",
    "    XH_pruned = XH[indexMols_]\n",
    "    XH_pruned[indexMols_==-1]=np.nan\n",
    "    \n",
    "    dec.dist_best = dists_best_[rinvMols].numpy()\n",
    "    dec.XH_pruned=XH_pruned.numpy()\n",
    "    dec.icodesN=icodesN.numpy()\n",
    "    np.savez_compressed(dec.decoded_fl,XH_pruned=dec.XH_pruned,icodesN=dec.icodesN,gns_names = np.array(dec.gns_names),dist_best=dec.dist_best)\n",
    "    print(\"Total time best bits per molecule:\",time.time()-start)\n",
    "\n",
    "\n",
    "def get_XH(self,ncols=3,th_h=0,bits = ['P1_A1', 'P1_A2', 'P1_A3', 'P1_A4', 'P1_A5', 'P1_A6', 'P1_A7', 'P1_A8', 'P1_A9', 'P1_A10', 'P1_A11', 'P1_A12', 'P1_B1', 'P1_B2', 'P1_B3', 'P1_B4', 'P1_B5', 'P1_B6', 'P1_B7', 'P1_B8', 'P1_G9', 'P1_G10', 'P1_G11', 'P1_G12', 'P1_H1', 'P1_H2', 'P1_H3', 'P1_H4', 'P1_H5', 'P1_H6', 'P1_H7', 'P1_H8', 'P1_H9', 'P1_H10', 'P1_H11', 'P1_H12', 'P2_A1', 'P2_A2', 'P2_A3', 'P2_A4', 'P2_A5', 'P2_A6', 'P2_A7', 'P2_A8', 'P2_A9', 'P2_A10', 'P2_A11', 'P2_A12', 'P2_B1', 'P2_B2', 'P2_B3', 'P2_B4', 'P2_B5', 'P2_B6', 'P2_B7', 'P2_B8', 'P2_B9', 'P2_B10', 'P2_B11', 'P2_B12', 'P2_C1', 'P2_C2', 'P2_C3', 'P2_C4', 'P2_C5', 'P2_C6', 'P2_C7', 'P2_C8', 'P2_C9', 'P2_C10', 'P2_C11', 'P2_C12', 'P2_D1', 'P2_D2', 'P2_D3', 'P2_D4', 'P2_D5', 'P2_D6', 'P2_D7', 'P2_D8', 'P2_D9', 'P2_D10', 'P2_D11', 'P2_D12', 'P2_E1', 'P2_E2', 'P2_E3', 'P2_E4', 'P2_E5', 'P2_E6', 'P2_E7', 'P2_E8', 'P2_E9', 'P2_E10', 'P2_E11', 'P2_E12', 'P2_F1', 'P2_F2', 'P2_F3', 'P2_F4'],\n",
    "          chrom_fl=r'C:\\Scripts\\NMERFISH_Jenny\\dic_chromatic_abberation_Jenny_Scope4_4_17_2024.pkl'):\n",
    "    set_ = self.set_\n",
    "    fov = self.fov\n",
    "    save_folder = self.save_folder\n",
    "    drift_fl = save_folder+os.sep+'driftNew_'+fov.split('.')[0]+'--'+set_+'.pkl'\n",
    "\n",
    "    drifts,all_flds,fov,fl_ref = pickle.load(open(drift_fl,'rb'))\n",
    "    self.drifts,self.all_flds,self.fov,self.fl_ref = drifts,all_flds,fov,fl_ref\n",
    "\n",
    "    XH = []\n",
    "    for iH in tqdm(np.arange(len(all_flds))):\n",
    "        fld = all_flds[iH]\n",
    "        #if 'MER' in os.path.basename(fld):\n",
    "        for icol in range(ncols):\n",
    "            tag = os.path.basename(fld)\n",
    "            save_fl = save_folder+os.sep+fov.split('.')[0]+'--'+tag+'--col'+str(icol)+'__Xhfits.npz'\n",
    "            letter = tag.split('_')[2][0]\n",
    "            plate = 'P'+tag.split('_P')[-1].split('_')[0]+'_'\n",
    "            wells = tag.replace(letter,'').split('_')[-ncols:]\n",
    "            well = wells[icol]\n",
    "            \n",
    "            bit_name = plate+letter+well#;H8_P1_B10_11_12\n",
    "            print(bit_name)\n",
    "            \n",
    "            if bit_name in bits:\n",
    "                bit = bits.index(bit_name)\n",
    "                Xh = np.load(save_fl,allow_pickle=True)['Xh']### load the fits\n",
    "                x3d = Xh[:,:3]\n",
    "                if chrom_fl is not None:\n",
    "                    dic_chrom = pickle.load(open(chrom_fl,'rb'))\n",
    "                    m = dic_chrom.get('m'+str(icol),None)\n",
    "                    hfactor = dic_chrom.get('hfactor'+str(icol),1)\n",
    "                    x3dT = apply_colorcor(x3d,m=m)\n",
    "                    Xh[:,:3] = x3dT\n",
    "                    Xh[:,-1] = Xh[:,-1]*hfactor\n",
    "                print(Xh.shape)\n",
    "                if len(Xh.shape):\n",
    "                    Xh = Xh[Xh[:,-1]>th_h]\n",
    "                    if len(Xh):\n",
    "                        tzxy = drifts[iH][0]\n",
    "                        Xh[:,:3]+=tzxy# drift correction\n",
    "                        \n",
    "                        icolR = np.array([[icol,bit]]*len(Xh))\n",
    "                        XH_ = np.concatenate([Xh,icolR],axis=-1)\n",
    "                        XH.extend(XH_)\n",
    "    self.XH = np.array(XH)"
   ]
  },
  {
   "cell_type": "code",
   "execution_count": 3,
   "id": "d9880615-e09e-429a-8213-28e54493f7bf",
   "metadata": {
    "scrolled": true
   },
   "outputs": [
    {
     "name": "stderr",
     "output_type": "stream",
     "text": [
      "  0%|                                                                                                                                                                                                                                                                                                                                                                                                            | 0/68 [00:00<?, ?it/s]"
     ]
    },
    {
     "name": "stdout",
     "output_type": "stream",
     "text": [
      "P1_A1\n",
      "(1185229, 8)\n",
      "P1_A2\n",
      "(1581887, 8)\n",
      "P1_A3\n",
      "(540592, 8)\n"
     ]
    },
    {
     "name": "stderr",
     "output_type": "stream",
     "text": [
      "  1%|█████▋                                                                                                                                                                                                                                                                                                                                                                                              | 1/68 [00:02<02:34,  2.31s/it]"
     ]
    },
    {
     "name": "stdout",
     "output_type": "stream",
     "text": [
      "P1_A4\n",
      "(1226412, 8)\n",
      "P1_A5\n",
      "(1485967, 8)\n",
      "P1_A6\n",
      "(573201, 8)\n"
     ]
    },
    {
     "name": "stderr",
     "output_type": "stream",
     "text": [
      "  3%|███████████▍                                                                                                                                                                                                                                                                                                                                                                                        | 2/68 [00:04<02:30,  2.28s/it]"
     ]
    },
    {
     "name": "stdout",
     "output_type": "stream",
     "text": [
      "P1_A7\n",
      "(1217556, 8)\n",
      "P1_A8\n",
      "(1370725, 8)\n",
      "P1_A9\n",
      "(471840, 8)\n"
     ]
    },
    {
     "name": "stderr",
     "output_type": "stream",
     "text": [
      "  4%|█████████████████                                                                                                                                                                                                                                                                                                                                                                                   | 3/68 [00:06<02:23,  2.21s/it]"
     ]
    },
    {
     "name": "stdout",
     "output_type": "stream",
     "text": [
      "P1_A10\n",
      "(1409493, 8)\n",
      "P1_A11\n",
      "(1645388, 8)\n",
      "P1_A12\n",
      "(714310, 8)\n"
     ]
    },
    {
     "name": "stderr",
     "output_type": "stream",
     "text": [
      "  6%|██████████████████████▊                                                                                                                                                                                                                                                                                                                                                                             | 4/68 [00:09<02:32,  2.38s/it]"
     ]
    },
    {
     "name": "stdout",
     "output_type": "stream",
     "text": [
      "P1_B1\n",
      "(1119296, 8)\n",
      "P1_B2\n",
      "(1331428, 8)\n",
      "P1_B3\n",
      "(556881, 8)\n"
     ]
    },
    {
     "name": "stderr",
     "output_type": "stream",
     "text": [
      "  7%|████████████████████████████▌                                                                                                                                                                                                                                                                                                                                                                       | 5/68 [00:11<02:23,  2.28s/it]"
     ]
    },
    {
     "name": "stdout",
     "output_type": "stream",
     "text": [
      "P1_B4\n",
      "(1220665, 8)\n",
      "P1_B5\n",
      "(1245687, 8)\n",
      "P1_B6\n",
      "(610596, 8)\n"
     ]
    },
    {
     "name": "stderr",
     "output_type": "stream",
     "text": [
      "  9%|██████████████████████████████████▏                                                                                                                                                                                                                                                                                                                                                                 | 6/68 [00:13<02:18,  2.23s/it]"
     ]
    },
    {
     "name": "stdout",
     "output_type": "stream",
     "text": [
      "P1_B7\n",
      "(1062197, 8)\n",
      "P1_B8\n",
      "(1448374, 8)\n"
     ]
    },
    {
     "name": "stderr",
     "output_type": "stream",
     "text": [
      " 10%|███████████████████████████████████████▉                                                                                                                                                                                                                                                                                                                                                            | 7/68 [00:15<02:05,  2.05s/it]"
     ]
    },
    {
     "name": "stdout",
     "output_type": "stream",
     "text": [
      "P1_B9\n",
      "P1_B10\n",
      "P1_B11\n",
      "P1_B12\n",
      "P1_C1\n",
      "P1_C2\n",
      "P1_C3\n",
      "P1_C4\n",
      "P1_C5\n",
      "P1_C6\n",
      "P1_C7\n",
      "P1_C8\n",
      "P1_C9\n",
      "P1_C10\n",
      "P1_C11\n",
      "P1_C12\n",
      "P1_D1\n",
      "P1_D2\n",
      "P1_D3\n",
      "P1_D4\n",
      "P1_D5\n",
      "P1_D6\n",
      "P1_D7\n",
      "P1_D8\n",
      "P1_D9\n",
      "P1_D10\n",
      "P1_D11\n",
      "P1_D12\n",
      "P1_E1\n",
      "P1_E2\n",
      "P1_E3\n",
      "P1_E4\n",
      "P1_E5\n",
      "P1_E6\n",
      "P1_E7\n",
      "P1_E8\n",
      "P1_E9\n",
      "P1_E10\n",
      "P1_E11\n",
      "P1_E12\n",
      "P1_F1\n",
      "P1_F2\n",
      "P1_F3\n",
      "P1_F4\n",
      "P1_F5\n",
      "P1_F6\n",
      "P1_F7\n",
      "P1_F8\n",
      "P1_F9\n",
      "P1_F10\n",
      "P1_F11\n",
      "P1_F12\n",
      "P1_G1\n",
      "P1_G2\n",
      "P1_G3\n",
      "P1_G4\n",
      "P1_G5\n",
      "P1_G6\n",
      "P1_G7\n",
      "P1_G8\n",
      "P1_G9\n",
      "(411598, 8)\n"
     ]
    },
    {
     "name": "stderr",
     "output_type": "stream",
     "text": [
      " 40%|█████████████████████████████████████████████████████████████████████████████████████████████████████████████████████████████████████████████████████████▋                                                                                                                                                                                                                                         | 27/68 [00:15<00:08,  4.69it/s]"
     ]
    },
    {
     "name": "stdout",
     "output_type": "stream",
     "text": [
      "P1_G10\n",
      "(1328802, 8)\n",
      "P1_G11\n",
      "(1155778, 8)\n",
      "P1_G12\n",
      "(526003, 8)\n",
      "P1_H1\n",
      "(1208513, 8)\n",
      "P1_H2\n",
      "(1241805, 8)\n",
      "P1_H3\n",
      "(425590, 8)\n"
     ]
    },
    {
     "name": "stderr",
     "output_type": "stream",
     "text": [
      " 43%|█████████████████████████████████████████████████████████████████████████████████████████████████████████████████████████████████████████████████████████████████████                                                                                                                                                                                                                              | 29/68 [00:19<00:16,  2.35it/s]"
     ]
    },
    {
     "name": "stdout",
     "output_type": "stream",
     "text": [
      "P1_H4\n",
      "(1135423, 8)\n",
      "P1_H5\n",
      "(1085052, 8)\n",
      "P1_H6\n",
      "(529323, 8)\n",
      "P1_H7\n",
      "(1131299, 8)\n",
      "P1_H8\n",
      "(1198753, 8)\n",
      "P1_H9\n",
      "(407445, 8)\n"
     ]
    },
    {
     "name": "stderr",
     "output_type": "stream",
     "text": [
      " 46%|████████████████████████████████████████████████████████████████████████████████████████████████████████████████████████████████████████████████████████████████████████████████▍                                                                                                                                                                                                                  | 31/68 [00:23<00:23,  1.58it/s]"
     ]
    },
    {
     "name": "stdout",
     "output_type": "stream",
     "text": [
      "P1_H10\n",
      "(1194559, 8)\n",
      "P1_H11\n",
      "(1200878, 8)\n",
      "P1_H12\n",
      "(425917, 8)\n"
     ]
    },
    {
     "name": "stderr",
     "output_type": "stream",
     "text": [
      " 47%|██████████████████████████████████████████████████████████████████████████████████████████████████████████████████████████████████████████████████████████████████████████████████████                                                                                                                                                                                                             | 32/68 [00:25<00:27,  1.32it/s]"
     ]
    },
    {
     "name": "stdout",
     "output_type": "stream",
     "text": [
      "P2_A1\n",
      "(1353292, 8)\n",
      "P2_A2\n",
      "(1258693, 8)\n",
      "P2_A3\n",
      "(372616, 8)\n"
     ]
    },
    {
     "name": "stderr",
     "output_type": "stream",
     "text": [
      " 49%|███████████████████████████████████████████████████████████████████████████████████████████████████████████████████████████████████████████████████████████████████████████████████████████▊                                                                                                                                                                                                       | 33/68 [00:27<00:31,  1.10it/s]"
     ]
    },
    {
     "name": "stdout",
     "output_type": "stream",
     "text": [
      "P2_A4\n",
      "(1226530, 8)\n",
      "P2_A5\n",
      "(1111942, 8)\n",
      "P2_A6\n",
      "(431786, 8)\n"
     ]
    },
    {
     "name": "stderr",
     "output_type": "stream",
     "text": [
      " 50%|█████████████████████████████████████████████████████████████████████████████████████████████████████████████████████████████████████████████████████████████████████████████████████████████████▌                                                                                                                                                                                                 | 34/68 [00:29<00:36,  1.06s/it]"
     ]
    },
    {
     "name": "stdout",
     "output_type": "stream",
     "text": [
      "P2_A7\n",
      "(1133709, 8)\n",
      "P2_A8\n",
      "(1227824, 8)\n",
      "P2_A9\n",
      "(339040, 8)\n"
     ]
    },
    {
     "name": "stderr",
     "output_type": "stream",
     "text": [
      " 51%|███████████████████████████████████████████████████████████████████████████████████████████████████████████████████████████████████████████████████████████████████████████████████████████████████████▏                                                                                                                                                                                           | 35/68 [00:31<00:39,  1.19s/it]"
     ]
    },
    {
     "name": "stdout",
     "output_type": "stream",
     "text": [
      "P2_A10\n",
      "(1157514, 8)\n",
      "P2_A11\n",
      "(1012477, 8)\n",
      "P2_A12\n",
      "(348041, 8)\n"
     ]
    },
    {
     "name": "stderr",
     "output_type": "stream",
     "text": [
      " 53%|████████████████████████████████████████████████████████████████████████████████████████████████████████████████████████████████████████████████████████████████████████████████████████████████████████████▉                                                                                                                                                                                      | 36/68 [00:33<00:41,  1.30s/it]"
     ]
    },
    {
     "name": "stdout",
     "output_type": "stream",
     "text": [
      "P2_B1\n",
      "(1052682, 8)\n",
      "P2_B2\n",
      "(1214262, 8)\n",
      "P2_B3\n",
      "(474858, 8)\n"
     ]
    },
    {
     "name": "stderr",
     "output_type": "stream",
     "text": [
      " 54%|██████████████████████████████████████████████████████████████████████████████████████████████████████████████████████████████████████████████████████████████████████████████████████████████████████████████████▌                                                                                                                                                                                | 37/68 [00:35<00:44,  1.42s/it]"
     ]
    },
    {
     "name": "stdout",
     "output_type": "stream",
     "text": [
      "P2_B4\n",
      "(1242139, 8)\n",
      "P2_B5\n",
      "(1124256, 8)\n",
      "P2_B6\n",
      "(422637, 8)\n"
     ]
    },
    {
     "name": "stderr",
     "output_type": "stream",
     "text": [
      " 56%|████████████████████████████████████████████████████████████████████████████████████████████████████████████████████████████████████████████████████████████████████████████████████████████████████████████████████████▎                                                                                                                                                                          | 38/68 [00:36<00:46,  1.54s/it]"
     ]
    },
    {
     "name": "stdout",
     "output_type": "stream",
     "text": [
      "P2_B7\n",
      "(1152759, 8)\n",
      "P2_B8\n",
      "(1195939, 8)\n",
      "P2_B9\n",
      "(395994, 8)\n"
     ]
    },
    {
     "name": "stderr",
     "output_type": "stream",
     "text": [
      " 57%|█████████████████████████████████████████████████████████████████████████████████████████████████████████████████████████████████████████████████████████████████████████████████████████████████████████████████████████████▉                                                                                                                                                                     | 39/68 [00:38<00:47,  1.64s/it]"
     ]
    },
    {
     "name": "stdout",
     "output_type": "stream",
     "text": [
      "P2_B10\n",
      "(1192641, 8)\n",
      "P2_B11\n",
      "(805036, 8)\n",
      "P2_B12\n",
      "(365429, 8)\n"
     ]
    },
    {
     "name": "stderr",
     "output_type": "stream",
     "text": [
      " 59%|███████████████████████████████████████████████████████████████████████████████████████████████████████████████████████████████████████████████████████████████████████████████████████████████████████████████████████████████████▋                                                                                                                                                               | 40/68 [00:40<00:46,  1.64s/it]"
     ]
    },
    {
     "name": "stdout",
     "output_type": "stream",
     "text": [
      "P2_C1\n",
      "(1106172, 8)\n",
      "P2_C2\n",
      "(1234922, 8)\n",
      "P2_C3\n",
      "(373096, 8)\n"
     ]
    },
    {
     "name": "stderr",
     "output_type": "stream",
     "text": [
      " 60%|█████████████████████████████████████████████████████████████████████████████████████████████████████████████████████████████████████████████████████████████████████████████████████████████████████████████████████████████████████████▎                                                                                                                                                         | 41/68 [00:42<00:45,  1.69s/it]"
     ]
    },
    {
     "name": "stdout",
     "output_type": "stream",
     "text": [
      "P2_C4\n",
      "(1252732, 8)\n",
      "P2_C5\n",
      "(1098438, 8)\n",
      "P2_C6\n",
      "(398923, 8)\n"
     ]
    },
    {
     "name": "stderr",
     "output_type": "stream",
     "text": [
      " 62%|███████████████████████████████████████████████████████████████████████████████████████████████████████████████████████████████████████████████████████████████████████████████████████████████████████████████████████████████████████████████                                                                                                                                                    | 42/68 [00:44<00:46,  1.77s/it]"
     ]
    },
    {
     "name": "stdout",
     "output_type": "stream",
     "text": [
      "P2_C7\n",
      "(1030217, 8)\n",
      "P2_C8\n",
      "(1170922, 8)\n",
      "P2_C9\n",
      "(377063, 8)\n"
     ]
    },
    {
     "name": "stderr",
     "output_type": "stream",
     "text": [
      " 63%|████████████████████████████████████████████████████████████████████████████████████████████████████████████████████████████████████████████████████████████████████████████████████████████████████████████████████████████████████████████████████▋                                                                                                                                              | 43/68 [00:46<00:44,  1.76s/it]"
     ]
    },
    {
     "name": "stdout",
     "output_type": "stream",
     "text": [
      "P2_C10\n",
      "(1042763, 8)\n",
      "P2_C11\n",
      "(1134428, 8)\n",
      "P2_C12\n",
      "(460003, 8)\n"
     ]
    },
    {
     "name": "stderr",
     "output_type": "stream",
     "text": [
      " 65%|██████████████████████████████████████████████████████████████████████████████████████████████████████████████████████████████████████████████████████████████████████████████████████████████████████████████████████████████████████████████████████████▍                                                                                                                                        | 44/68 [00:47<00:42,  1.78s/it]"
     ]
    },
    {
     "name": "stdout",
     "output_type": "stream",
     "text": [
      "P2_D1\n",
      "(1039212, 8)\n",
      "P2_D2\n",
      "(1173490, 8)\n",
      "P2_D3\n",
      "(298538, 8)\n"
     ]
    },
    {
     "name": "stderr",
     "output_type": "stream",
     "text": [
      " 66%|████████████████████████████████████████████████████████████████████████████████████████████████████████████████████████████████████████████████████████████████████████████████████████████████████████████████████████████████████████████████████████████████                                                                                                                                   | 45/68 [00:49<00:41,  1.78s/it]"
     ]
    },
    {
     "name": "stdout",
     "output_type": "stream",
     "text": [
      "P2_D4\n",
      "(1158495, 8)\n",
      "P2_D5\n",
      "(1193049, 8)\n",
      "P2_D6\n",
      "(371052, 8)\n"
     ]
    },
    {
     "name": "stderr",
     "output_type": "stream",
     "text": [
      " 68%|█████████████████████████████████████████████████████████████████████████████████████████████████████████████████████████████████████████████████████████████████████████████████████████████████████████████████████████████████████████████████████████████████████▊                                                                                                                             | 46/68 [00:51<00:39,  1.81s/it]"
     ]
    },
    {
     "name": "stdout",
     "output_type": "stream",
     "text": [
      "P2_D7\n",
      "(763495, 8)\n",
      "P2_D8\n",
      "(1038138, 8)\n",
      "P2_D9\n",
      "(428108, 8)\n"
     ]
    },
    {
     "name": "stderr",
     "output_type": "stream",
     "text": [
      " 69%|███████████████████████████████████████████████████████████████████████████████████████████████████████████████████████████████████████████████████████████████████████████████████████████████████████████████████████████████████████████████████████████████████████████▍                                                                                                                       | 47/68 [00:53<00:36,  1.72s/it]"
     ]
    },
    {
     "name": "stdout",
     "output_type": "stream",
     "text": [
      "P2_D10\n",
      "(1245517, 8)\n",
      "P2_D11\n",
      "(1079920, 8)\n",
      "P2_D12\n",
      "(398448, 8)\n"
     ]
    },
    {
     "name": "stderr",
     "output_type": "stream",
     "text": [
      " 71%|█████████████████████████████████████████████████████████████████████████████████████████████████████████████████████████████████████████████████████████████████████████████████████████████████████████████████████████████████████████████████████████████████████████████████▏                                                                                                                 | 48/68 [00:54<00:35,  1.77s/it]"
     ]
    },
    {
     "name": "stdout",
     "output_type": "stream",
     "text": [
      "P2_E1\n",
      "(1022125, 8)\n",
      "P2_E2\n",
      "(1041838, 8)\n",
      "P2_E3\n",
      "(246189, 8)\n"
     ]
    },
    {
     "name": "stderr",
     "output_type": "stream",
     "text": [
      " 72%|██████████████████████████████████████████████████████████████████████████████████████████████████████████████████████████████████████████████████████████████████████████████████████████████████████████████████████████████████████████████████████████████████████████████████████▊                                                                                                            | 49/68 [00:56<00:33,  1.75s/it]"
     ]
    },
    {
     "name": "stdout",
     "output_type": "stream",
     "text": [
      "P2_E4\n",
      "(984359, 8)\n",
      "P2_E5\n",
      "(1246957, 8)\n",
      "P2_E6\n",
      "(440584, 8)\n"
     ]
    },
    {
     "name": "stderr",
     "output_type": "stream",
     "text": [
      " 74%|████████████████████████████████████████████████████████████████████████████████████████████████████████████████████████████████████████████████████████████████████████████████████████████████████████████████████████████████████████████████████████████████████████████████████████████▌                                                                                                      | 50/68 [00:58<00:31,  1.76s/it]"
     ]
    },
    {
     "name": "stdout",
     "output_type": "stream",
     "text": [
      "P2_E7\n",
      "(1256087, 8)\n",
      "P2_E8\n",
      "(1257986, 8)\n",
      "P2_E9\n",
      "(399099, 8)\n"
     ]
    },
    {
     "name": "stderr",
     "output_type": "stream",
     "text": [
      " 75%|██████████████████████████████████████████████████████████████████████████████████████████████████████████████████████████████████████████████████████████████████████████████████████████████████████████████████████████████████████████████████████████████████████████████████████████████████▎                                                                                                | 51/68 [01:00<00:31,  1.83s/it]"
     ]
    },
    {
     "name": "stdout",
     "output_type": "stream",
     "text": [
      "P2_E10\n",
      "(936530, 8)\n",
      "P2_E11\n",
      "(992288, 8)\n",
      "P2_E12\n",
      "(350027, 8)\n"
     ]
    },
    {
     "name": "stderr",
     "output_type": "stream",
     "text": [
      " 76%|███████████████████████████████████████████████████████████████████████████████████████████████████████████████████████████████████████████████████████████████████████████████████████████████████████████████████████████████████████████████████████████████████████████████████████████████████████▉                                                                                           | 52/68 [01:02<00:27,  1.75s/it]"
     ]
    },
    {
     "name": "stdout",
     "output_type": "stream",
     "text": [
      "P2_F1\n",
      "(1119894, 8)\n",
      "P2_F2\n",
      "(1083489, 8)\n",
      "P2_F3\n",
      "(276148, 8)\n"
     ]
    },
    {
     "name": "stderr",
     "output_type": "stream",
     "text": [
      " 78%|█████████████████████████████████████████████████████████████████████████████████████████████████████████████████████████████████████████████████████████████████████████████████████████████████████████████████████████████████████████████████████████████████████████████████████████████████████████████▋                                                                                     | 53/68 [01:03<00:26,  1.77s/it]"
     ]
    },
    {
     "name": "stdout",
     "output_type": "stream",
     "text": [
      "P2_F4\n",
      "(1134275, 8)\n"
     ]
    },
    {
     "name": "stderr",
     "output_type": "stream",
     "text": [
      " 79%|███████████████████████████████████████████████████████████████████████████████████████████████████████████████████████████████████████████████████████████████████████████████████████████████████████████████████████████████████████████████████████████████████████████████████████████████████████████████████▎                                                                               | 54/68 [01:04<00:20,  1.50s/it]"
     ]
    },
    {
     "name": "stdout",
     "output_type": "stream",
     "text": [
      "P2_F5\n",
      "P2_F6\n",
      "P1_A1\n",
      "(1097923, 8)\n",
      "P1_A2\n",
      "(1312790, 8)\n",
      "P1_A3\n",
      "(474212, 8)\n"
     ]
    },
    {
     "name": "stderr",
     "output_type": "stream",
     "text": [
      "100%|███████████████████████████████████████████████████████████████████████████████████████████████████████████████████████████████████████████████████████████████████████████████████████████████████████████████████████████████████████████████████████████████████████████████████████████████████████████████████████████████████████████████████████████████████████████████████████████████████| 68/68 [01:06<00:00,  1.02it/s]\n"
     ]
    },
    {
     "name": "stdout",
     "output_type": "stream",
     "text": [
      "P2_F10\n",
      "P2_F11\n",
      "P2_F12\n",
      "P2_G4\n",
      "P2_G5\n",
      "P2_G6\n",
      "P2_G10\n",
      "P2_G11\n",
      "P2_G12\n",
      "P2_H4\n",
      "P2_H5\n",
      "P2_H6\n",
      "P3_C4\n",
      "P3_C5\n",
      "P3_C6\n",
      "P3_A4\n",
      "P3_A5\n",
      "P3_A6\n",
      "P3_A10\n",
      "P3_A11\n",
      "P3_A12\n",
      "P3_B4\n",
      "P3_B5\n",
      "P3_B6\n",
      "P3_B10\n",
      "P3_B11\n",
      "P3_B12\n",
      "P2_F10\n",
      "P2_F11\n",
      "P2_F12\n",
      "P2_F11\n",
      "P2_F12\n",
      "P2_F750\n",
      "P2_F11\n",
      "P2_F12\n",
      "P2_Fcy5\n",
      "P3_B10\n",
      "P3_B11\n",
      "P3_B12\n"
     ]
    }
   ],
   "source": [
    "dec = decoder_simple(save_folder=r'C:\\Scripts\\NMERFISH_Jenny\\analysis_031524_v1_acry_37C_pilot',fov='Conv_zscan__05',set_='')\n",
    "get_XH(dec)"
   ]
  },
  {
   "cell_type": "code",
   "execution_count": 11,
   "id": "5731e559-b537-473a-9902-39f8c294449c",
   "metadata": {},
   "outputs": [],
   "source": [
    "#dec.XH.shape # concat all spots from all rounds (with drift correction)"
   ]
  },
  {
   "cell_type": "code",
   "execution_count": 24,
   "id": "ec6de9cc-4cc0-48e8-b3ce-37bdeb8a4da6",
   "metadata": {},
   "outputs": [],
   "source": [
    "XhT = dec.XH[dec.XH[:,-1]==38,:-2]"
   ]
  },
  {
   "cell_type": "code",
   "execution_count": 23,
   "id": "f2558bb4-f922-408b-af06-26e7291474b4",
   "metadata": {},
   "outputs": [
    {
     "data": {
      "text/plain": [
       "1"
      ]
     },
     "execution_count": 23,
     "metadata": {},
     "output_type": "execute_result"
    }
   ],
   "source": [
    "#np.min(XhT[:,-1])\n",
    "19%3"
   ]
  },
  {
   "cell_type": "code",
   "execution_count": 25,
   "id": "5dde30f5-c1bb-4498-96fd-3e348d956ce7",
   "metadata": {},
   "outputs": [
    {
     "data": {
      "text/plain": [
       "Viewer(axes=Axes(visible=False, labels=True, colored=True, dashed=False, arrows=True), camera=Camera(center=(0.0, 1399.5, 1399.5), zoom=0.44751785714285713, angles=(0.0, 0.0, 90.0), perspective=0.0, interactive=True), cursor=Cursor(position=(1.0, 1.0), scaled=True, size=1, style=<CursorStyle.STANDARD: 'standard'>), dims=Dims(ndim=2, ndisplay=2, last_used=0, range=((0.0, 2800.0, 1.0), (0.0, 2800.0, 1.0)), current_step=(1400, 1400), order=(0, 1), axis_labels=('0', '1')), grid=GridCanvas(stride=1, shape=(-1, -1), enabled=False), layers=[<Image layer 'imT' at 0x13c54f52fa0>], scale_bar=ScaleBar(visible=False, colored=False, color=array([1., 0., 1., 1.], dtype=float32), ticks=True, position=<Position.BOTTOM_RIGHT: 'bottom_right'>, font_size=10.0, box=False, box_color=array([0. , 0. , 0. , 0.6], dtype=float32), unit=None), text_overlay=TextOverlay(visible=False, color=array([0.5, 0.5, 0.5, 1. ], dtype=float32), font_size=10.0, position=<TextOverlayPosition.TOP_LEFT: 'top_left'>, text=''), overlays=Overlays(interaction_box=InteractionBox(points=None, show=False, show_handle=False, show_vertices=False, selection_box_drag=None, selection_box_final=None, transform_start=<napari.utils.transforms.transforms.Affine object at 0x0000013C540B19A0>, transform_drag=<napari.utils.transforms.transforms.Affine object at 0x0000013C540B1A00>, transform_final=<napari.utils.transforms.transforms.Affine object at 0x0000013C540B1A60>, transform=<napari.utils.transforms.transforms.Affine object at 0x0000013C540B1AC0>, allow_new_selection=True, selected_vertex=None)), help='', status='Ready', tooltip=Tooltip(visible=False, text=''), theme='dark', title='napari', mouse_over_canvas=False, mouse_move_callbacks=[<function InteractionBoxMouseBindings.initialize_mouse_events.<locals>.mouse_move at 0x0000013C54F29160>], mouse_drag_callbacks=[<function InteractionBoxMouseBindings.initialize_mouse_events.<locals>.mouse_drag at 0x0000013C54F13F70>], mouse_double_click_callbacks=[], mouse_wheel_callbacks=[<function dims_scroll at 0x0000013C52E0BCA0>], _persisted_mouse_event={}, _mouse_drag_gen={}, _mouse_wheel_gen={}, keymap={'Shift': <function InteractionBoxMouseBindings.initialize_key_events.<locals>.hold_to_lock_aspect_ratio at 0x0000013C54F131F0>, 'Control-Shift-R': <function InteractionBoxMouseBindings._reset_active_layer_affine at 0x0000013C54F13AF0>, 'Control-Shift-A': <function InteractionBoxMouseBindings._transform_active_layer at 0x0000013C54F133A0>})"
      ]
     },
     "execution_count": 25,
     "metadata": {},
     "output_type": "execute_result"
    }
   ],
   "source": [
    "imT = im_max__from_Xh(XhT,ds=5)\n",
    "import napari\n",
    "napari.view_image(imT)"
   ]
  },
  {
   "cell_type": "code",
   "execution_count": 5,
   "id": "628b2fea-0bca-4c80-9ae7-16077a0d4887",
   "metadata": {},
   "outputs": [],
   "source": [
    "XH_save = dec.XH.copy()"
   ]
  },
  {
   "cell_type": "code",
   "execution_count": 6,
   "id": "37ea72d9-d0b9-439b-9fe7-37a10b981c17",
   "metadata": {},
   "outputs": [],
   "source": [
    "dec.XH = XH_save[XH_save[:,-3]>3000]"
   ]
  },
  {
   "cell_type": "code",
   "execution_count": 7,
   "id": "e34d5a96-96a6-472c-9edb-82cae3672d5d",
   "metadata": {},
   "outputs": [
    {
     "data": {
      "text/plain": [
       "((29439206, 10), (95776499, 10))"
      ]
     },
     "execution_count": 7,
     "metadata": {},
     "output_type": "execute_result"
    }
   ],
   "source": [
    "dec.XH.shape,XH_save.shape"
   ]
  },
  {
   "cell_type": "code",
   "execution_count": 8,
   "id": "d44cd1e9-68ce-43cf-a17d-bad1478315dc",
   "metadata": {},
   "outputs": [],
   "source": [
    "def get_intersV2_Jenny(self,nmin_bits=3,dinstance_th=2,enforce_set=20,redo=False):\n",
    "    \"\"\"Get an initial intersection of points and save in self.res\"\"\"\n",
    "    self.res_fl = self.decoded_fl.replace('decoded','res')\n",
    "    if not os.path.exists(self.res_fl) or redo:\n",
    "        \n",
    "        res =[]\n",
    "        ibits = self.XH[:,-1].astype(int)\n",
    "        isets = ibits//enforce_set\n",
    "        XH = self.XH\n",
    "        for iset in tqdm(np.unique(isets)):\n",
    "            inds = np.where((isets==iset))[0]\n",
    "            Xs = XH[inds,:3]\n",
    "            Ts = cKDTree(Xs)\n",
    "            res_ = Ts.query_ball_tree(Ts,dinstance_th)\n",
    "            res += [inds[r] for r in res_] # find all pairs where distance is at most distance_th\n",
    "        print(\"Calculating lengths of clusters...\")\n",
    "        lens = np.array(list(map(len,res))) #an array where each element is the count of points within the distance_th from each respective point in Xs.\n",
    "        Mlen = np.max(lens)\n",
    "        print(\"Unfolding indexes...\")\n",
    "        res_unfolder = np.concatenate(res) #res is a list of list, storing indicies in XH\n",
    "        print(\"Saving to file:\",self.res_fl)\n",
    "        self.res_unfolder=res_unfolder\n",
    "        self.lens=lens\n",
    "        \n",
    "        #np.savez(self.res_fl,res_unfolder=res_unfolder,lens=lens)\n",
    "    else:\n",
    "        dic = np.load(self.res_fl)\n",
    "        self.res_unfolder=dic['res_unfolder']\n",
    "        self.lens=dic['lens']\n",
    "        #self.res = res\n",
    "    lens =self.lens\n",
    "    self.res_unfolder = self.res_unfolder[np.repeat(lens, lens)>=nmin_bits]\n",
    "    self.lens = self.lens[lens>=nmin_bits]"
   ]
  },
  {
   "cell_type": "code",
   "execution_count": 9,
   "id": "5f9b4f6f-3e80-4097-9dd4-40df34f4e240",
   "metadata": {},
   "outputs": [
    {
     "name": "stderr",
     "output_type": "stream",
     "text": [
      "100%|█████████████████████████████████████████████████████████████████████████████████████████████████████████████████████████████████████████████████████████████████████████████████████████████████████████████████████████████████████████████████████████████████████████████████████████████████████████████████████████████████████████████████████████████████████████████████████████████████████| 5/5 [02:34<00:00, 30.91s/it]\n"
     ]
    },
    {
     "name": "stdout",
     "output_type": "stream",
     "text": [
      "Calculating lengths of clusters...\n",
      "Unfolding indexes...\n",
      "Saving to file: C:\\Scripts\\NMERFISH_Jenny\\analysis_031524_v1_acry_37C_pilot\\resNew_Conv_zscan__05--.npz\n"
     ]
    }
   ],
   "source": [
    "\n",
    "#dec.XH = dec.XH[dec.XH[:,-4]>0.25] ### keep the spots that are correlated with the expected PSF for 60X\n",
    "lib_fl = r'C:\\Scripts\\NMERFISH_Jenny\\JennyV1Codebook_blank.csv'\n",
    "dec.load_library(lib_fl,nblanks=-1)\n",
    "dec.ncols = 3\n",
    "get_intersV2_Jenny(dec,nmin_bits=3,dinstance_th=2,enforce_set=20,redo=False)\n",
    "#get_icodesV3(dec,nmin_bits=3,iH=-3)"
   ]
  },
  {
   "cell_type": "code",
   "execution_count": 12,
   "id": "77734b35-b3f8-46d7-8021-8a09dce41231",
   "metadata": {},
   "outputs": [
    {
     "data": {
      "text/plain": [
       "19784951"
      ]
     },
     "execution_count": 12,
     "metadata": {},
     "output_type": "execute_result"
    }
   ],
   "source": [
    "len(dec.lens)"
   ]
  },
  {
   "cell_type": "code",
   "execution_count": 11,
   "id": "fd6dc24a-318b-45f7-af2f-23f2b672cf6d",
   "metadata": {},
   "outputs": [
    {
     "name": "stdout",
     "output_type": "stream",
     "text": [
      "Calculating indexes within cluster...\n",
      "Calculating index of molecule...\n",
      "Calculating index of first molecule...\n",
      "Total time unfolded molecules: 5.097686290740967\n",
      "Computing score...\n",
      "Total time computing score: 0.24184513092041016\n",
      "Computing sorting...\n",
      "Total time sorting molecules by score: 10.047157526016235\n",
      "Finding best bits per molecules...\n",
      "Finding best code...\n"
     ]
    },
    {
     "name": "stderr",
     "output_type": "stream",
     "text": [
      "100%|███████████████████████████████████████████████████████████████████████████████████████████████████████████████████████████████████████████████████████████████████████████████████████████████████████████████████████████████████████████████████████████████████████████████████████████████████████████████████████████████████████████████████████████████████████████████████████████████| 1979/1979 [01:07<00:00, 29.35it/s]\n"
     ]
    },
    {
     "name": "stdout",
     "output_type": "stream",
     "text": [
      "Total time best bits per molecule: 245.9902696609497\n"
     ]
    }
   ],
   "source": [
    "get_icodesV3(dec,nmin_bits=3,iH=-3)"
   ]
  },
  {
   "cell_type": "markdown",
   "id": "6e853808-6415-434f-8b5c-3ab830cab125",
   "metadata": {},
   "source": [
    "# ---- END of BB decoding -------"
   ]
  },
  {
   "cell_type": "markdown",
   "id": "44ed9431-73ca-4695-a6d0-d088dd81cf8d",
   "metadata": {},
   "source": [
    "# --- START Jenny decoding ---- "
   ]
  },
  {
   "cell_type": "code",
   "execution_count": 23,
   "id": "a33ea52d-1d79-421d-8533-2ef6f5871ed2",
   "metadata": {},
   "outputs": [],
   "source": [
    "def get_XH_Jenny(self, ncols=3,th_h=0,bits = ['P1_A1', 'P1_A2', 'P1_A3', 'P1_A4', 'P1_A5', 'P1_A6', 'P1_A7', 'P1_A8', 'P1_A9', 'P1_A10', 'P1_A11', 'P1_A12', 'P1_B1', 'P1_B2', 'P1_B3', 'P1_B4', 'P1_B5', 'P1_B6', 'P1_B7', 'P1_B8', 'P1_G9', 'P1_G10', 'P1_G11', 'P1_G12', 'P1_H1', 'P1_H2', 'P1_H3', 'P1_H4', 'P1_H5', 'P1_H6', 'P1_H7', 'P1_H8', 'P1_H9', 'P1_H10', 'P1_H11', 'P1_H12', 'P2_A1', 'P2_A2', 'P2_A3', 'P2_A4', 'P2_A5', 'P2_A6', 'P2_A7', 'P2_A8', 'P2_A9', 'P2_A10', 'P2_A11', 'P2_A12', 'P2_B1', 'P2_B2', 'P2_B3', 'P2_B4', 'P2_B5', 'P2_B6', 'P2_B7', 'P2_B8', 'P2_B9', 'P2_B10', 'P2_B11', 'P2_B12', 'P2_C1', 'P2_C2', 'P2_C3', 'P2_C4', 'P2_C5', 'P2_C6', 'P2_C7', 'P2_C8', 'P2_C9', 'P2_C10', 'P2_C11', 'P2_C12', 'P2_D1', 'P2_D2', 'P2_D3', 'P2_D4', 'P2_D5', 'P2_D6', 'P2_D7', 'P2_D8', 'P2_D9', 'P2_D10', 'P2_D11', 'P2_D12', 'P2_E1', 'P2_E2', 'P2_E3', 'P2_E4', 'P2_E5', 'P2_E6', 'P2_E7', 'P2_E8', 'P2_E9', 'P2_E10', 'P2_E11', 'P2_E12', 'P2_F1', 'P2_F2', 'P2_F3', 'P2_F4'],\n",
    "          chrom_fl=r'C:\\Scripts\\NMERFISH_Jenny\\dic_chromatic_abberation_Jenny_Scope4_4_17_2024.pkl'):\n",
    "        set_ = self.set_\n",
    "        fov = self.fov\n",
    "        save_folder = self.save_folder\n",
    "        drift_fl = save_folder+os.sep+'driftNew_'+fov.split('.')[0]+'--'+set_+'.pkl'\n",
    "    \n",
    "        drifts,all_flds,fov,fl_ref = pickle.load(open(drift_fl,'rb'))\n",
    "        self.drifts,self.all_flds,self.fov,self.fl_ref = drifts,all_flds,fov,fl_ref\n",
    "\n",
    "        XH = []\n",
    "\n",
    "        # have dictionary to allow first time the bit occurs\n",
    "        dic_bits = {bit:0 for bit in bits}\n",
    "        for iH in tqdm(np.arange(len(all_flds))):\n",
    "            fld = all_flds[iH]\n",
    "            #if 'MER' in os.path.basename(fld):\n",
    "            for icol in range(ncols):\n",
    "                tag = os.path.basename(fld)\n",
    "                save_fl = save_folder+os.sep+fov.split('.')[0]+'--'+tag+'--col'+str(icol)+'__Xhfits.npz'\n",
    "                letter = tag.split('_')[2][0]\n",
    "                plate = 'P'+tag.split('_P')[-1].split('_')[0]+'_'\n",
    "                wells = tag.replace(letter,'').split('_')[-ncols:]\n",
    "                well = wells[icol]\n",
    "\n",
    "                R = int(tag.split('_')[0][1:]) # H8\n",
    "                bit_name = plate+letter+well#;H8_P1_B10_11_12\n",
    "                print(f'bit: {bit_name}, H: {R}')\n",
    "                \n",
    "                if bit_name in bits:\n",
    "                    if dic_bits[bit_name] == 0:\n",
    "                    #if True:\n",
    "                        bit = bits.index(bit_name)\n",
    "                        Xh = np.load(save_fl,allow_pickle=True)['Xh']### load the fits\n",
    "                        x3d = Xh[:,:3]\n",
    "                        # chromatic abb\n",
    "                        if chrom_fl is not None:\n",
    "                            dic_chrom = pickle.load(open(chrom_fl,'rb'))\n",
    "                            m = dic_chrom.get('m'+str(icol),None)\n",
    "                            hfactor = dic_chrom.get('hfactor'+str(icol),1)\n",
    "                            x3dT = apply_colorcor(x3d,m=m)\n",
    "                            Xh[:,:3] = x3dT\n",
    "                            Xh[:,-1] = Xh[:,-1]*hfactor\n",
    "                        print(Xh.shape)\n",
    "                        if len(Xh.shape):\n",
    "                            Xh = Xh[Xh[:,-1]>th_h]\n",
    "                            if len(Xh):\n",
    "                                tzxy = drifts[R-1][0] # fetching the correct drift files\n",
    "                                Xh[:,:3]+=tzxy# drift correction\n",
    "                                icolR = np.array([[icol,bit]]*len(Xh))\n",
    "                                #icolR = np.array([[icol,bit, R]]*len(Xh))\n",
    "                                XH_ = np.concatenate([Xh,icolR],axis=-1)\n",
    "                                XH.extend(XH_)\n",
    "                        dic_bits[bit_name] = 1\n",
    "        self.XH = np.array(XH)"
   ]
  },
  {
   "cell_type": "code",
   "execution_count": 24,
   "id": "404cdc2a-60df-42fb-84c1-00ff30dd3f0b",
   "metadata": {},
   "outputs": [
    {
     "name": "stderr",
     "output_type": "stream",
     "text": [
      "  0%|                                                                                                                                                                                                                                                                                                                                                                                                            | 0/68 [00:00<?, ?it/s]"
     ]
    },
    {
     "name": "stdout",
     "output_type": "stream",
     "text": [
      "bit: P1_A1, H: 1\n",
      "(1185229, 8)\n",
      "bit: P1_A2, H: 1\n",
      "(1581887, 8)\n",
      "bit: P1_A3, H: 1\n",
      "(540592, 8)\n"
     ]
    },
    {
     "name": "stderr",
     "output_type": "stream",
     "text": [
      "  1%|█████▋                                                                                                                                                                                                                                                                                                                                                                                              | 1/68 [00:02<02:29,  2.22s/it]"
     ]
    },
    {
     "name": "stdout",
     "output_type": "stream",
     "text": [
      "bit: P1_A4, H: 2\n",
      "(1226412, 8)\n",
      "bit: P1_A5, H: 2\n",
      "(1485967, 8)\n",
      "bit: P1_A6, H: 2\n",
      "(573201, 8)\n"
     ]
    },
    {
     "name": "stderr",
     "output_type": "stream",
     "text": [
      "  3%|███████████▍                                                                                                                                                                                                                                                                                                                                                                                        | 2/68 [00:04<02:28,  2.25s/it]"
     ]
    },
    {
     "name": "stdout",
     "output_type": "stream",
     "text": [
      "bit: P1_A7, H: 3\n",
      "(1217556, 8)\n",
      "bit: P1_A8, H: 3\n",
      "(1370725, 8)\n",
      "bit: P1_A9, H: 3\n",
      "(471840, 8)\n"
     ]
    },
    {
     "name": "stderr",
     "output_type": "stream",
     "text": [
      "  4%|█████████████████                                                                                                                                                                                                                                                                                                                                                                                   | 3/68 [00:06<02:22,  2.20s/it]"
     ]
    },
    {
     "name": "stdout",
     "output_type": "stream",
     "text": [
      "bit: P1_A10, H: 4\n",
      "(1409493, 8)\n",
      "bit: P1_A11, H: 4\n",
      "(1645388, 8)\n",
      "bit: P1_A12, H: 4\n",
      "(714310, 8)\n"
     ]
    },
    {
     "name": "stderr",
     "output_type": "stream",
     "text": [
      "  6%|██████████████████████▊                                                                                                                                                                                                                                                                                                                                                                             | 4/68 [00:09<02:31,  2.37s/it]"
     ]
    },
    {
     "name": "stdout",
     "output_type": "stream",
     "text": [
      "bit: P1_B1, H: 5\n",
      "(1119296, 8)\n",
      "bit: P1_B2, H: 5\n",
      "(1331428, 8)\n",
      "bit: P1_B3, H: 5\n",
      "(556881, 8)\n"
     ]
    },
    {
     "name": "stderr",
     "output_type": "stream",
     "text": [
      "  7%|████████████████████████████▌                                                                                                                                                                                                                                                                                                                                                                       | 5/68 [00:11<02:23,  2.28s/it]"
     ]
    },
    {
     "name": "stdout",
     "output_type": "stream",
     "text": [
      "bit: P1_B4, H: 6\n",
      "(1220665, 8)\n",
      "bit: P1_B5, H: 6\n",
      "(1245687, 8)\n",
      "bit: P1_B6, H: 6\n",
      "(610596, 8)\n"
     ]
    },
    {
     "name": "stderr",
     "output_type": "stream",
     "text": [
      "  9%|██████████████████████████████████▏                                                                                                                                                                                                                                                                                                                                                                 | 6/68 [00:13<02:18,  2.24s/it]"
     ]
    },
    {
     "name": "stdout",
     "output_type": "stream",
     "text": [
      "bit: P1_B7, H: 7\n",
      "(1062197, 8)\n",
      "bit: P1_B8, H: 7\n",
      "(1448374, 8)\n"
     ]
    },
    {
     "name": "stderr",
     "output_type": "stream",
     "text": [
      " 10%|███████████████████████████████████████▉                                                                                                                                                                                                                                                                                                                                                            | 7/68 [00:15<02:05,  2.06s/it]"
     ]
    },
    {
     "name": "stdout",
     "output_type": "stream",
     "text": [
      "bit: P1_B9, H: 7\n",
      "bit: P1_B10, H: 8\n",
      "bit: P1_B11, H: 8\n",
      "bit: P1_B12, H: 8\n",
      "bit: P1_C1, H: 9\n",
      "bit: P1_C2, H: 9\n",
      "bit: P1_C3, H: 9\n",
      "bit: P1_C4, H: 10\n",
      "bit: P1_C5, H: 10\n",
      "bit: P1_C6, H: 10\n",
      "bit: P1_C7, H: 11\n",
      "bit: P1_C8, H: 11\n",
      "bit: P1_C9, H: 11\n",
      "bit: P1_C10, H: 12\n",
      "bit: P1_C11, H: 12\n",
      "bit: P1_C12, H: 12\n",
      "bit: P1_D1, H: 13\n",
      "bit: P1_D2, H: 13\n",
      "bit: P1_D3, H: 13\n",
      "bit: P1_D4, H: 14\n",
      "bit: P1_D5, H: 14\n",
      "bit: P1_D6, H: 14\n",
      "bit: P1_D7, H: 15\n",
      "bit: P1_D8, H: 15\n",
      "bit: P1_D9, H: 15\n",
      "bit: P1_D10, H: 16\n",
      "bit: P1_D11, H: 16\n",
      "bit: P1_D12, H: 16\n",
      "bit: P1_E1, H: 17\n",
      "bit: P1_E2, H: 17\n",
      "bit: P1_E3, H: 17\n",
      "bit: P1_E4, H: 18\n",
      "bit: P1_E5, H: 18\n",
      "bit: P1_E6, H: 18\n",
      "bit: P1_E7, H: 19\n",
      "bit: P1_E8, H: 19\n",
      "bit: P1_E9, H: 19\n",
      "bit: P1_E10, H: 20\n",
      "bit: P1_E11, H: 20\n",
      "bit: P1_E12, H: 20\n",
      "bit: P1_F1, H: 21\n",
      "bit: P1_F2, H: 21\n",
      "bit: P1_F3, H: 21\n",
      "bit: P1_F4, H: 22\n",
      "bit: P1_F5, H: 22\n",
      "bit: P1_F6, H: 22\n",
      "bit: P1_F7, H: 23\n",
      "bit: P1_F8, H: 23\n",
      "bit: P1_F9, H: 23\n",
      "bit: P1_F10, H: 24\n",
      "bit: P1_F11, H: 24\n",
      "bit: P1_F12, H: 24\n",
      "bit: P1_G1, H: 25\n",
      "bit: P1_G2, H: 25\n",
      "bit: P1_G3, H: 25\n",
      "bit: P1_G4, H: 26\n",
      "bit: P1_G5, H: 26\n",
      "bit: P1_G6, H: 26\n",
      "bit: P1_G7, H: 27\n",
      "bit: P1_G8, H: 27\n",
      "bit: P1_G9, H: 27\n",
      "(411598, 8)\n"
     ]
    },
    {
     "name": "stderr",
     "output_type": "stream",
     "text": [
      " 40%|█████████████████████████████████████████████████████████████████████████████████████████████████████████████████████████████████████████████████████████▋                                                                                                                                                                                                                                         | 27/68 [00:15<00:08,  4.68it/s]"
     ]
    },
    {
     "name": "stdout",
     "output_type": "stream",
     "text": [
      "bit: P1_G10, H: 28\n",
      "(1328802, 8)\n",
      "bit: P1_G11, H: 28\n",
      "(1155778, 8)\n",
      "bit: P1_G12, H: 28\n",
      "(526003, 8)\n",
      "bit: P1_H1, H: 29\n",
      "(1208513, 8)\n",
      "bit: P1_H2, H: 29\n",
      "(1241805, 8)\n",
      "bit: P1_H3, H: 29\n",
      "(425590, 8)\n",
      "bit: P1_H4, H: 30\n",
      "(1135423, 8)\n",
      "bit: P1_H5, H: 30\n",
      "(1085052, 8)\n",
      "bit: P1_H6, H: 30\n",
      "(529323, 8)\n"
     ]
    },
    {
     "name": "stderr",
     "output_type": "stream",
     "text": [
      " 44%|██████████████████████████████████████████████████████████████████████████████████████████████████████████████████████████████████████████████████████████████████████████▋                                                                                                                                                                                                                        | 30/68 [00:22<00:20,  1.87it/s]"
     ]
    },
    {
     "name": "stdout",
     "output_type": "stream",
     "text": [
      "bit: P1_H7, H: 31\n",
      "(1131299, 8)\n",
      "bit: P1_H8, H: 31\n",
      "(1198753, 8)\n",
      "bit: P1_H9, H: 31\n",
      "(407445, 8)\n",
      "bit: P1_H10, H: 32\n",
      "(1194559, 8)\n",
      "bit: P1_H11, H: 32\n",
      "(1200878, 8)\n",
      "bit: P1_H12, H: 32\n",
      "(425917, 8)\n"
     ]
    },
    {
     "name": "stderr",
     "output_type": "stream",
     "text": [
      " 47%|██████████████████████████████████████████████████████████████████████████████████████████████████████████████████████████████████████████████████████████████████████████████████████                                                                                                                                                                                                             | 32/68 [00:26<00:26,  1.34it/s]"
     ]
    },
    {
     "name": "stdout",
     "output_type": "stream",
     "text": [
      "bit: P2_A1, H: 33\n",
      "(1353292, 8)\n",
      "bit: P2_A2, H: 33\n",
      "(1258693, 8)\n",
      "bit: P2_A3, H: 33\n",
      "(372616, 8)\n"
     ]
    },
    {
     "name": "stderr",
     "output_type": "stream",
     "text": [
      " 49%|███████████████████████████████████████████████████████████████████████████████████████████████████████████████████████████████████████████████████████████████████████████████████████████▊                                                                                                                                                                                                       | 33/68 [00:28<00:30,  1.16it/s]"
     ]
    },
    {
     "name": "stdout",
     "output_type": "stream",
     "text": [
      "bit: P2_A4, H: 34\n",
      "(1226530, 8)\n",
      "bit: P2_A5, H: 34\n",
      "(1111942, 8)\n",
      "bit: P2_A6, H: 34\n",
      "(431786, 8)\n"
     ]
    },
    {
     "name": "stderr",
     "output_type": "stream",
     "text": [
      " 50%|█████████████████████████████████████████████████████████████████████████████████████████████████████████████████████████████████████████████████████████████████████████████████████████████████▌                                                                                                                                                                                                 | 34/68 [00:30<00:34,  1.00s/it]"
     ]
    },
    {
     "name": "stdout",
     "output_type": "stream",
     "text": [
      "bit: P2_A7, H: 35\n",
      "(1133709, 8)\n",
      "bit: P2_A8, H: 35\n",
      "(1227824, 8)\n",
      "bit: P2_A9, H: 35\n",
      "(339040, 8)\n"
     ]
    },
    {
     "name": "stderr",
     "output_type": "stream",
     "text": [
      " 51%|███████████████████████████████████████████████████████████████████████████████████████████████████████████████████████████████████████████████████████████████████████████████████████████████████████▏                                                                                                                                                                                           | 35/68 [00:32<00:37,  1.13s/it]"
     ]
    },
    {
     "name": "stdout",
     "output_type": "stream",
     "text": [
      "bit: P2_A10, H: 36\n",
      "(1157514, 8)\n",
      "bit: P2_A11, H: 36\n",
      "(1012477, 8)\n",
      "bit: P2_A12, H: 36\n",
      "(348041, 8)\n"
     ]
    },
    {
     "name": "stderr",
     "output_type": "stream",
     "text": [
      " 53%|████████████████████████████████████████████████████████████████████████████████████████████████████████████████████████████████████████████████████████████████████████████████████████████████████████████▉                                                                                                                                                                                      | 36/68 [00:34<00:40,  1.27s/it]"
     ]
    },
    {
     "name": "stdout",
     "output_type": "stream",
     "text": [
      "bit: P2_B1, H: 37\n",
      "(1052682, 8)\n",
      "bit: P2_B2, H: 37\n",
      "(1214262, 8)\n",
      "bit: P2_B3, H: 37\n",
      "(474858, 8)\n"
     ]
    },
    {
     "name": "stderr",
     "output_type": "stream",
     "text": [
      " 54%|██████████████████████████████████████████████████████████████████████████████████████████████████████████████████████████████████████████████████████████████████████████████████████████████████████████████████▌                                                                                                                                                                                | 37/68 [00:36<00:43,  1.42s/it]"
     ]
    },
    {
     "name": "stdout",
     "output_type": "stream",
     "text": [
      "bit: P2_B4, H: 38\n",
      "(1242139, 8)\n",
      "bit: P2_B5, H: 38\n",
      "(1124256, 8)\n",
      "bit: P2_B6, H: 38\n",
      "(422637, 8)\n"
     ]
    },
    {
     "name": "stderr",
     "output_type": "stream",
     "text": [
      " 56%|████████████████████████████████████████████████████████████████████████████████████████████████████████████████████████████████████████████████████████████████████████████████████████████████████████████████████████▎                                                                                                                                                                          | 38/68 [00:38<00:46,  1.55s/it]"
     ]
    },
    {
     "name": "stdout",
     "output_type": "stream",
     "text": [
      "bit: P2_B7, H: 39\n",
      "(1152759, 8)\n",
      "bit: P2_B8, H: 39\n",
      "(1195939, 8)\n",
      "bit: P2_B9, H: 39\n",
      "(395994, 8)\n"
     ]
    },
    {
     "name": "stderr",
     "output_type": "stream",
     "text": [
      " 57%|█████████████████████████████████████████████████████████████████████████████████████████████████████████████████████████████████████████████████████████████████████████████████████████████████████████████████████████████▉                                                                                                                                                                     | 39/68 [00:40<00:48,  1.69s/it]"
     ]
    },
    {
     "name": "stdout",
     "output_type": "stream",
     "text": [
      "bit: P2_B10, H: 40\n",
      "(1192641, 8)\n",
      "bit: P2_B11, H: 40\n",
      "(805036, 8)\n",
      "bit: P2_B12, H: 40\n",
      "(365429, 8)\n"
     ]
    },
    {
     "name": "stderr",
     "output_type": "stream",
     "text": [
      " 59%|███████████████████████████████████████████████████████████████████████████████████████████████████████████████████████████████████████████████████████████████████████████████████████████████████████████████████████████████████▋                                                                                                                                                               | 40/68 [00:42<00:48,  1.72s/it]"
     ]
    },
    {
     "name": "stdout",
     "output_type": "stream",
     "text": [
      "bit: P2_C1, H: 41\n",
      "(1106172, 8)\n",
      "bit: P2_C2, H: 41\n",
      "(1234922, 8)\n",
      "bit: P2_C3, H: 41\n",
      "(373096, 8)\n"
     ]
    },
    {
     "name": "stderr",
     "output_type": "stream",
     "text": [
      " 60%|█████████████████████████████████████████████████████████████████████████████████████████████████████████████████████████████████████████████████████████████████████████████████████████████████████████████████████████████████████████▎                                                                                                                                                         | 41/68 [00:44<00:48,  1.80s/it]"
     ]
    },
    {
     "name": "stdout",
     "output_type": "stream",
     "text": [
      "bit: P2_C4, H: 42\n",
      "(1252732, 8)\n",
      "bit: P2_C5, H: 42\n",
      "(1098438, 8)\n",
      "bit: P2_C6, H: 42\n",
      "(398923, 8)\n"
     ]
    },
    {
     "name": "stderr",
     "output_type": "stream",
     "text": [
      " 62%|███████████████████████████████████████████████████████████████████████████████████████████████████████████████████████████████████████████████████████████████████████████████████████████████████████████████████████████████████████████████                                                                                                                                                    | 42/68 [00:46<00:48,  1.88s/it]"
     ]
    },
    {
     "name": "stdout",
     "output_type": "stream",
     "text": [
      "bit: P2_C7, H: 43\n",
      "(1030217, 8)\n",
      "bit: P2_C8, H: 43\n",
      "(1170922, 8)\n",
      "bit: P2_C9, H: 43\n",
      "(377063, 8)\n"
     ]
    },
    {
     "name": "stderr",
     "output_type": "stream",
     "text": [
      " 63%|████████████████████████████████████████████████████████████████████████████████████████████████████████████████████████████████████████████████████████████████████████████████████████████████████████████████████████████████████████████████████▋                                                                                                                                              | 43/68 [00:48<00:47,  1.89s/it]"
     ]
    },
    {
     "name": "stdout",
     "output_type": "stream",
     "text": [
      "bit: P2_C10, H: 44\n",
      "(1042763, 8)\n",
      "bit: P2_C11, H: 44\n",
      "(1134428, 8)\n",
      "bit: P2_C12, H: 44\n",
      "(460003, 8)\n"
     ]
    },
    {
     "name": "stderr",
     "output_type": "stream",
     "text": [
      " 65%|██████████████████████████████████████████████████████████████████████████████████████████████████████████████████████████████████████████████████████████████████████████████████████████████████████████████████████████████████████████████████████████▍                                                                                                                                        | 44/68 [00:50<00:45,  1.90s/it]"
     ]
    },
    {
     "name": "stdout",
     "output_type": "stream",
     "text": [
      "bit: P2_D1, H: 45\n",
      "(1039212, 8)\n",
      "bit: P2_D2, H: 45\n",
      "(1173490, 8)\n",
      "bit: P2_D3, H: 45\n",
      "(298538, 8)\n"
     ]
    },
    {
     "name": "stderr",
     "output_type": "stream",
     "text": [
      " 66%|████████████████████████████████████████████████████████████████████████████████████████████████████████████████████████████████████████████████████████████████████████████████████████████████████████████████████████████████████████████████████████████████                                                                                                                                   | 45/68 [00:52<00:44,  1.93s/it]"
     ]
    },
    {
     "name": "stdout",
     "output_type": "stream",
     "text": [
      "bit: P2_D4, H: 46\n",
      "(1158495, 8)\n",
      "bit: P2_D5, H: 46\n",
      "(1193049, 8)\n",
      "bit: P2_D6, H: 46\n",
      "(371052, 8)\n"
     ]
    },
    {
     "name": "stderr",
     "output_type": "stream",
     "text": [
      " 68%|█████████████████████████████████████████████████████████████████████████████████████████████████████████████████████████████████████████████████████████████████████████████████████████████████████████████████████████████████████████████████████████████████████▊                                                                                                                             | 46/68 [00:54<00:42,  1.93s/it]"
     ]
    },
    {
     "name": "stdout",
     "output_type": "stream",
     "text": [
      "bit: P2_D7, H: 47\n",
      "(763495, 8)\n",
      "bit: P2_D8, H: 47\n",
      "(1038138, 8)\n",
      "bit: P2_D9, H: 47\n",
      "(428108, 8)\n"
     ]
    },
    {
     "name": "stderr",
     "output_type": "stream",
     "text": [
      " 69%|███████████████████████████████████████████████████████████████████████████████████████████████████████████████████████████████████████████████████████████████████████████████████████████████████████████████████████████████████████████████████████████████████████████▍                                                                                                                       | 47/68 [00:56<00:38,  1.84s/it]"
     ]
    },
    {
     "name": "stdout",
     "output_type": "stream",
     "text": [
      "bit: P2_D10, H: 48\n",
      "(1245517, 8)\n",
      "bit: P2_D11, H: 48\n",
      "(1079920, 8)\n",
      "bit: P2_D12, H: 48\n",
      "(398448, 8)\n"
     ]
    },
    {
     "name": "stderr",
     "output_type": "stream",
     "text": [
      " 71%|█████████████████████████████████████████████████████████████████████████████████████████████████████████████████████████████████████████████████████████████████████████████████████████████████████████████████████████████████████████████████████████████████████████████████▏                                                                                                                 | 48/68 [00:58<00:37,  1.89s/it]"
     ]
    },
    {
     "name": "stdout",
     "output_type": "stream",
     "text": [
      "bit: P2_E1, H: 49\n",
      "(1022125, 8)\n",
      "bit: P2_E2, H: 49\n",
      "(1041838, 8)\n",
      "bit: P2_E3, H: 49\n",
      "(246189, 8)\n"
     ]
    },
    {
     "name": "stderr",
     "output_type": "stream",
     "text": [
      " 72%|██████████████████████████████████████████████████████████████████████████████████████████████████████████████████████████████████████████████████████████████████████████████████████████████████████████████████████████████████████████████████████████████████████████████████████▊                                                                                                            | 49/68 [00:59<00:35,  1.88s/it]"
     ]
    },
    {
     "name": "stdout",
     "output_type": "stream",
     "text": [
      "bit: P2_E4, H: 50\n",
      "(984359, 8)\n",
      "bit: P2_E5, H: 50\n",
      "(1246957, 8)\n",
      "bit: P2_E6, H: 50\n",
      "(440584, 8)\n"
     ]
    },
    {
     "name": "stderr",
     "output_type": "stream",
     "text": [
      " 74%|████████████████████████████████████████████████████████████████████████████████████████████████████████████████████████████████████████████████████████████████████████████████████████████████████████████████████████████████████████████████████████████████████████████████████████████▌                                                                                                      | 50/68 [01:01<00:34,  1.90s/it]"
     ]
    },
    {
     "name": "stdout",
     "output_type": "stream",
     "text": [
      "bit: P2_E7, H: 51\n",
      "(1256087, 8)\n",
      "bit: P2_E8, H: 51\n",
      "(1257986, 8)\n",
      "bit: P2_E9, H: 51\n",
      "(399099, 8)\n"
     ]
    },
    {
     "name": "stderr",
     "output_type": "stream",
     "text": [
      " 75%|██████████████████████████████████████████████████████████████████████████████████████████████████████████████████████████████████████████████████████████████████████████████████████████████████████████████████████████████████████████████████████████████████████████████████████████████████▎                                                                                                | 51/68 [01:03<00:33,  1.96s/it]"
     ]
    },
    {
     "name": "stdout",
     "output_type": "stream",
     "text": [
      "bit: P2_E10, H: 52\n",
      "(936530, 8)\n",
      "bit: P2_E11, H: 52\n",
      "(992288, 8)\n",
      "bit: P2_E12, H: 52\n",
      "(350027, 8)\n"
     ]
    },
    {
     "name": "stderr",
     "output_type": "stream",
     "text": [
      " 76%|███████████████████████████████████████████████████████████████████████████████████████████████████████████████████████████████████████████████████████████████████████████████████████████████████████████████████████████████████████████████████████████████████████████████████████████████████████▉                                                                                           | 52/68 [01:05<00:29,  1.87s/it]"
     ]
    },
    {
     "name": "stdout",
     "output_type": "stream",
     "text": [
      "bit: P2_F1, H: 53\n",
      "(1119894, 8)\n",
      "bit: P2_F2, H: 53\n",
      "(1083489, 8)\n",
      "bit: P2_F3, H: 53\n",
      "(276148, 8)\n"
     ]
    },
    {
     "name": "stderr",
     "output_type": "stream",
     "text": [
      " 78%|█████████████████████████████████████████████████████████████████████████████████████████████████████████████████████████████████████████████████████████████████████████████████████████████████████████████████████████████████████████████████████████████████████████████████████████████████████████████▋                                                                                     | 53/68 [01:07<00:29,  1.98s/it]"
     ]
    },
    {
     "name": "stdout",
     "output_type": "stream",
     "text": [
      "bit: P2_F4, H: 54\n",
      "(1134275, 8)\n"
     ]
    },
    {
     "name": "stderr",
     "output_type": "stream",
     "text": [
      "100%|███████████████████████████████████████████████████████████████████████████████████████████████████████████████████████████████████████████████████████████████████████████████████████████████████████████████████████████████████████████████████████████████████████████████████████████████████████████████████████████████████████████████████████████████████████████████████████████████████| 68/68 [01:08<00:00,  1.01s/it]"
     ]
    },
    {
     "name": "stdout",
     "output_type": "stream",
     "text": [
      "bit: P2_F5, H: 54\n",
      "bit: P2_F6, H: 54\n",
      "bit: P1_A1, H: 55\n",
      "bit: P1_A2, H: 55\n",
      "bit: P1_A3, H: 55\n",
      "bit: P2_F10, H: 56\n",
      "bit: P2_F11, H: 56\n",
      "bit: P2_F12, H: 56\n",
      "bit: P2_G4, H: 57\n",
      "bit: P2_G5, H: 57\n",
      "bit: P2_G6, H: 57\n",
      "bit: P2_G10, H: 58\n",
      "bit: P2_G11, H: 58\n",
      "bit: P2_G12, H: 58\n",
      "bit: P2_H4, H: 59\n",
      "bit: P2_H5, H: 59\n",
      "bit: P2_H6, H: 59\n",
      "bit: P3_C4, H: 60\n",
      "bit: P3_C5, H: 60\n",
      "bit: P3_C6, H: 60\n",
      "bit: P3_A4, H: 61\n",
      "bit: P3_A5, H: 61\n",
      "bit: P3_A6, H: 61\n",
      "bit: P3_A10, H: 62\n",
      "bit: P3_A11, H: 62\n",
      "bit: P3_A12, H: 62\n",
      "bit: P3_B4, H: 63\n",
      "bit: P3_B5, H: 63\n",
      "bit: P3_B6, H: 63\n",
      "bit: P3_B10, H: 64\n",
      "bit: P3_B11, H: 64\n",
      "bit: P3_B12, H: 64\n",
      "bit: P2_F10, H: 65\n",
      "bit: P2_F11, H: 65\n",
      "bit: P2_F12, H: 65\n",
      "bit: P2_F11, H: 66\n",
      "bit: P2_F12, H: 66\n",
      "bit: P2_F750, H: 66\n",
      "bit: P2_F11, H: 67\n",
      "bit: P2_F12, H: 67\n",
      "bit: P2_Fcy5, H: 67\n",
      "bit: P3_B10, H: 68\n",
      "bit: P3_B11, H: 68\n",
      "bit: P3_B12, H: 68\n"
     ]
    },
    {
     "name": "stderr",
     "output_type": "stream",
     "text": [
      "\n"
     ]
    }
   ],
   "source": [
    "dec_ = decoder_simple(save_folder=r'C:\\Scripts\\NMERFISH_Jenny\\analysis_031524_v1_acry_37C_pilot',fov='Conv_zscan__05',set_='')\n",
    "get_XH_Jenny(dec_)"
   ]
  },
  {
   "cell_type": "code",
   "execution_count": 30,
   "id": "547a204e-e06d-40c9-855c-56ed3ca0e034",
   "metadata": {},
   "outputs": [
    {
     "data": {
      "text/plain": [
       "((95776499, 10), (92891574, 10))"
      ]
     },
     "execution_count": 30,
     "metadata": {},
     "output_type": "execute_result"
    }
   ],
   "source": [
    "XH_save.shape, dec_.XH.shape"
   ]
  },
  {
   "cell_type": "code",
   "execution_count": 31,
   "id": "11aeb029-3cd7-4376-824e-683e0c426091",
   "metadata": {},
   "outputs": [
    {
     "data": {
      "text/plain": [
       "(28496133, 10)"
      ]
     },
     "execution_count": 31,
     "metadata": {},
     "output_type": "execute_result"
    }
   ],
   "source": [
    "XH_save_ = dec_.XH.copy()\n",
    "dec_.XH = XH_save_[XH_save_[:,-3]>3000]\n",
    "dec_.XH.shape"
   ]
  },
  {
   "cell_type": "code",
   "execution_count": 33,
   "id": "bd8260a2-15d4-4c50-a102-426b69e37fe6",
   "metadata": {},
   "outputs": [
    {
     "name": "stderr",
     "output_type": "stream",
     "text": [
      "100%|█████████████████████████████████████████████████████████████████████████████████████████████████████████████████████████████████████████████████████████████████████████████████████████████████████████████████████████████████████████████████████████████████████████████████████████████████████████████████████████████████████████████████████████████████████████████████████████████████████| 5/5 [02:32<00:00, 30.56s/it]\n"
     ]
    },
    {
     "name": "stdout",
     "output_type": "stream",
     "text": [
      "Calculating lengths of clusters...\n",
      "Unfolding indexes...\n",
      "Saving to file: C:\\Scripts\\NMERFISH_Jenny\\analysis_031524_v1_acry_37C_pilot\\resNew_Conv_zscan__05--.npz\n"
     ]
    }
   ],
   "source": [
    "lib_fl = r'C:\\Scripts\\NMERFISH_Jenny\\JennyV1Codebook_blank.csv'\n",
    "dec_.load_library(lib_fl,nblanks=-1)\n",
    "dec_.ncols = 3\n",
    "get_intersV2_Jenny(dec_,nmin_bits=3,dinstance_th=2,enforce_set=20,redo=False)"
   ]
  },
  {
   "cell_type": "code",
   "execution_count": 34,
   "id": "34af3343-cbec-4360-89c6-5cb71762dba8",
   "metadata": {},
   "outputs": [
    {
     "data": {
      "text/plain": [
       "18879744"
      ]
     },
     "execution_count": 34,
     "metadata": {},
     "output_type": "execute_result"
    }
   ],
   "source": [
    "len(dec_.lens) #dec.lens: 19784951"
   ]
  },
  {
   "cell_type": "code",
   "execution_count": 37,
   "id": "bfaa6628-4d0e-4e77-bae3-8cf2a8809684",
   "metadata": {},
   "outputs": [
    {
     "name": "stdout",
     "output_type": "stream",
     "text": [
      "Calculating indexes within cluster...\n",
      "Calculating index of molecule...\n",
      "Calculating index of first molecule...\n",
      "Total time unfolded molecules: 4.781010150909424\n",
      "Computing score...\n",
      "Total time computing score: 0.2306373119354248\n",
      "Computing sorting...\n",
      "Total time sorting molecules by score: 11.398844242095947\n",
      "Finding best bits per molecules...\n",
      "Finding best code...\n"
     ]
    },
    {
     "name": "stderr",
     "output_type": "stream",
     "text": [
      "100%|███████████████████████████████████████████████████████████████████████████████████████████████████████████████████████████████████████████████████████████████████████████████████████████████████████████████████████████████████████████████████████████████████████████████████████████████████████████████████████████████████████████████████████████████████████████████████████████████| 1888/1888 [01:05<00:00, 29.00it/s]\n"
     ]
    },
    {
     "name": "stdout",
     "output_type": "stream",
     "text": [
      "Total time best bits per molecule: 238.75146770477295\n"
     ]
    }
   ],
   "source": [
    "get_icodesV3(dec_,nmin_bits=3,iH=-3)"
   ]
  },
  {
   "cell_type": "markdown",
   "id": "00e4a4d8-17bc-4d31-adad-ab8212db79ea",
   "metadata": {},
   "source": [
    "## Examine result: get_intersV2"
   ]
  },
  {
   "cell_type": "code",
   "execution_count": 39,
   "id": "58006304-1cec-4697-aac2-68e79198bc8c",
   "metadata": {},
   "outputs": [
    {
     "data": {
      "text/plain": [
       "(29439206, 10)"
      ]
     },
     "execution_count": 39,
     "metadata": {},
     "output_type": "execute_result"
    }
   ],
   "source": [
    "dec.XH.shape"
   ]
  },
  {
   "cell_type": "code",
   "execution_count": 12,
   "id": "83ba449b-38dd-483f-bf2b-bb09bf57bb73",
   "metadata": {},
   "outputs": [
    {
     "data": {
      "text/plain": [
       "(1622593623,)"
      ]
     },
     "execution_count": 12,
     "metadata": {},
     "output_type": "execute_result"
    }
   ],
   "source": [
    "dec.res_unfolder.shape"
   ]
  },
  {
   "cell_type": "code",
   "execution_count": 49,
   "id": "45e61d5c-f1f8-4b77-8929-88eda2d8282d",
   "metadata": {},
   "outputs": [
    {
     "data": {
      "text/plain": [
       "95776498"
      ]
     },
     "execution_count": 49,
     "metadata": {},
     "output_type": "execute_result"
    }
   ],
   "source": [
    "np.max(dec.res_unfolder) # stores index in XH"
   ]
  },
  {
   "cell_type": "code",
   "execution_count": 11,
   "id": "33a05ebf-e7f9-4df6-b293-febead713a1d",
   "metadata": {},
   "outputs": [
    {
     "data": {
      "text/plain": [
       "(93621603,)"
      ]
     },
     "execution_count": 11,
     "metadata": {},
     "output_type": "execute_result"
    }
   ],
   "source": [
    "dec.lens.shape"
   ]
  },
  {
   "cell_type": "code",
   "execution_count": 16,
   "id": "0068b30d-7c77-4a2c-a700-2671aef5e930",
   "metadata": {},
   "outputs": [
    {
     "data": {
      "text/plain": [
       "(3, 183)"
      ]
     },
     "execution_count": 16,
     "metadata": {},
     "output_type": "execute_result"
    }
   ],
   "source": [
    "np.min(dec.lens), np.max(dec.lens) # stores counts"
   ]
  },
  {
   "cell_type": "markdown",
   "id": "9636ffad-2150-42de-afa4-af13a25650ab",
   "metadata": {},
   "source": [
    "# Examine result: get_icodesV3"
   ]
  },
  {
   "cell_type": "code",
   "execution_count": 13,
   "id": "732bc156-f3c6-4255-aa97-b58ddac3c6a5",
   "metadata": {},
   "outputs": [],
   "source": [
    "decode = np.load(dec.decoded_fl)"
   ]
  },
  {
   "cell_type": "code",
   "execution_count": null,
   "id": "4aa3cfbe-5e61-48fd-abfb-90a50e36ff4f",
   "metadata": {},
   "outputs": [],
   "source": [
    "## np.savez_compressed(dec.decoded_fl,XH_pruned=dec.XH_pruned,icodesN=dec.icodesN,gns_names = np.array(dec.gns_names),dist_best=dec.dist_best)"
   ]
  },
  {
   "cell_type": "code",
   "execution_count": 14,
   "id": "1579f7ed-f51b-4105-97ef-c1e4f3052735",
   "metadata": {},
   "outputs": [
    {
     "data": {
      "text/plain": [
       "(8234885, 4, 10)"
      ]
     },
     "execution_count": 14,
     "metadata": {},
     "output_type": "execute_result"
    }
   ],
   "source": [
    "decode['XH_pruned'].shape #pre chom abb:(47462802, 4, 10)"
   ]
  },
  {
   "cell_type": "code",
   "execution_count": 75,
   "id": "f4fa4b86-d244-4010-8e00-e38909b25985",
   "metadata": {},
   "outputs": [
    {
     "data": {
      "text/plain": [
       "array([[            nan,             nan,             nan,\n",
       "                    nan,             nan,             nan,\n",
       "                    nan,             nan,             nan,\n",
       "                    nan],\n",
       "       [-8.39516371e-02,  1.11311768e+02, -1.47561531e+01,\n",
       "        -2.76183179e+03,  5.56043796e-02,  2.09454150e+03,\n",
       "         4.66451466e-01,  2.21602637e+03,  0.00000000e+00,\n",
       "         0.00000000e+00],\n",
       "       [-8.17196369e-02,  1.08636086e+02, -1.44951324e+01,\n",
       "        -4.68757178e+03,  3.16157818e-01,  3.60260474e+03,\n",
       "         4.82277840e-01,  4.24965576e+03,  1.00000000e+00,\n",
       "         4.00000000e+00],\n",
       "       [-3.15670706e-02,  1.09575172e+02, -1.38604851e+01,\n",
       "        -1.62486938e+03,  2.60725707e-01,  1.09894141e+03,\n",
       "         5.85789263e-01,  1.75953564e+03,  2.00000000e+00,\n",
       "         1.40000000e+01]])"
      ]
     },
     "execution_count": 75,
     "metadata": {},
     "output_type": "execute_result"
    }
   ],
   "source": [
    "decode['XH_pruned'][0]"
   ]
  },
  {
   "cell_type": "code",
   "execution_count": 24,
   "id": "ceb8340c-0b99-479e-9b72-e4559b44fde1",
   "metadata": {},
   "outputs": [
    {
     "data": {
      "text/plain": [
       "47462802"
      ]
     },
     "execution_count": 24,
     "metadata": {},
     "output_type": "execute_result"
    }
   ],
   "source": [
    "len(decode['icodesN'])"
   ]
  },
  {
   "cell_type": "code",
   "execution_count": 15,
   "id": "676ab344-2899-4138-ab8e-303ffeeb12a7",
   "metadata": {},
   "outputs": [
    {
     "data": {
      "text/plain": [
       "1142"
      ]
     },
     "execution_count": 15,
     "metadata": {},
     "output_type": "execute_result"
    }
   ],
   "source": [
    "np.max(decode['icodesN']) # value is loci_id"
   ]
  },
  {
   "cell_type": "code",
   "execution_count": 16,
   "id": "a396913e-a819-4fe1-bfd1-84e6f55f3fa2",
   "metadata": {},
   "outputs": [
    {
     "data": {
      "text/plain": [
       "290     70648\n",
       "157     65359\n",
       "534     62340\n",
       "12      52040\n",
       "330     51712\n",
       "        ...  \n",
       "656      1590\n",
       "1101     1416\n",
       "888      1353\n",
       "1100     1264\n",
       "861       239\n",
       "Name: count, Length: 619, dtype: int64"
      ]
     },
     "execution_count": 16,
     "metadata": {},
     "output_type": "execute_result"
    }
   ],
   "source": [
    "pd.Series(decode['icodesN']).value_counts()"
   ]
  },
  {
   "cell_type": "code",
   "execution_count": 17,
   "id": "f56df515-69a6-42a2-b537-f8b57e8142d4",
   "metadata": {},
   "outputs": [],
   "source": [
    "## check how many spots were decoded\n",
    "decode_ident = decode['icodesN']"
   ]
  },
  {
   "cell_type": "code",
   "execution_count": 18,
   "id": "ad362bfb-8a76-458b-bf46-f6cf7e812d81",
   "metadata": {},
   "outputs": [
    {
     "data": {
      "text/plain": [
       "0.9875535602500825"
      ]
     },
     "execution_count": 18,
     "metadata": {},
     "output_type": "execute_result"
    }
   ],
   "source": [
    "iblank_start = np.where(decode['gns_names'] == 'blank0000')[0][0]\n",
    "np.sum(decode_ident < iblank_start) / len(decode_ident) #pre chrom abb: 0.7486079098322093"
   ]
  },
  {
   "cell_type": "code",
   "execution_count": 19,
   "id": "d9fd872e-309c-440c-b7e2-e7a36b799b92",
   "metadata": {},
   "outputs": [],
   "source": [
    "import matplotlib.pyplot as plt"
   ]
  },
  {
   "cell_type": "code",
   "execution_count": 46,
   "id": "b2c3ee00-3506-4576-b32f-d85452a45f91",
   "metadata": {},
   "outputs": [
    {
     "data": {
      "text/plain": [
       "Text(0, 0.5, 'Number of decoded spots')"
      ]
     },
     "execution_count": 46,
     "metadata": {},
     "output_type": "execute_result"
    },
    {
     "data": {
      "image/png": "[encoded data removed]",
      "text/plain": [
       "<Figure size 640x480 with 1 Axes>"
      ]
     },
     "metadata": {},
     "output_type": "display_data"
    }
   ],
   "source": [
    "## pre chrom ab\n",
    "uniq_gene_names, uniq_counts = np.unique(decode_ident[decode_ident < iblank_start], return_counts = True)\n",
    "plt.bar(uniq_gene_names, uniq_counts)\n",
    "plt.xlabel('DNA loci id')\n",
    "plt.ylabel('Number of decoded spots')"
   ]
  },
  {
   "cell_type": "code",
   "execution_count": 20,
   "id": "c440ddf1-7cb6-4cdb-9b14-18e476a8382d",
   "metadata": {},
   "outputs": [
    {
     "data": {
      "text/plain": [
       "Text(0, 0.5, 'Number of decoded spots')"
      ]
     },
     "execution_count": 20,
     "metadata": {},
     "output_type": "execute_result"
    },
    {
     "data": {
      "image/png": "[encoded data removed]",
      "text/plain": [
       "<Figure size 640x480 with 1 Axes>"
      ]
     },
     "metadata": {},
     "output_type": "display_data"
    }
   ],
   "source": [
    "## pre chrom ab\n",
    "uniq_gene_names, uniq_counts = np.unique(decode_ident[decode_ident < iblank_start], return_counts = True)\n",
    "plt.bar(uniq_gene_names, uniq_counts)\n",
    "plt.xlabel('DNA loci id')\n",
    "plt.ylabel('Number of decoded spots')"
   ]
  },
  {
   "cell_type": "code",
   "execution_count": 64,
   "id": "74e8a72a-9947-4b8f-b219-c73a40bd0f36",
   "metadata": {},
   "outputs": [
    {
     "data": {
      "text/plain": [
       "42630.0"
      ]
     },
     "execution_count": 64,
     "metadata": {},
     "output_type": "execute_result"
    }
   ],
   "source": [
    "np.median(uniq_counts)"
   ]
  },
  {
   "cell_type": "code",
   "execution_count": 90,
   "id": "981aff1f-9a98-4d0b-af7c-7a8691c35318",
   "metadata": {},
   "outputs": [],
   "source": [
    "# manually inspect the locus with lots of spots"
   ]
  },
  {
   "cell_type": "code",
   "execution_count": 92,
   "id": "5be796b5-4d15-4a37-953a-2395de3db93c",
   "metadata": {},
   "outputs": [
    {
     "data": {
      "text/plain": [
       "'chr1_03864-chr1_03875'"
      ]
     },
     "execution_count": 92,
     "metadata": {},
     "output_type": "execute_result"
    }
   ],
   "source": [
    "# locus with most decoded spots\n",
    "decode['gns_names'][uniq_gene_names[225]]"
   ]
  },
  {
   "cell_type": "code",
   "execution_count": 89,
   "id": "a43cdc74-cb24-4ada-bf4d-7f50ea8ba610",
   "metadata": {},
   "outputs": [
    {
     "data": {
      "text/plain": [
       "643895"
      ]
     },
     "execution_count": 89,
     "metadata": {},
     "output_type": "execute_result"
    }
   ],
   "source": [
    "uniq_counts[225]"
   ]
  },
  {
   "cell_type": "code",
   "execution_count": 94,
   "id": "6f75a4c7-70cc-4fdc-a4ec-97b1c305e5eb",
   "metadata": {},
   "outputs": [],
   "source": [
    "most_decode_XH = decode['XH_pruned'][np.where(decode['icodesN'] == 225)[0]] #all molecules matching loci "
   ]
  },
  {
   "cell_type": "code",
   "execution_count": 96,
   "id": "975f4da3-8dac-461e-8f65-f7130ebc6008",
   "metadata": {},
   "outputs": [
    {
     "data": {
      "text/plain": [
       "(643895, 4, 10)"
      ]
     },
     "execution_count": 96,
     "metadata": {},
     "output_type": "execute_result"
    }
   ],
   "source": [
    "most_decode_XH.shape"
   ]
  },
  {
   "cell_type": "code",
   "execution_count": 98,
   "id": "7faaf8d8-92a3-44dc-aaa0-cb8b1c19f6b1",
   "metadata": {},
   "outputs": [
    {
     "data": {
      "text/plain": [
       "array([[            nan,             nan,             nan,\n",
       "                    nan,             nan,             nan,\n",
       "                    nan,             nan,             nan,\n",
       "                    nan],\n",
       "       [-8.39516446e-02,  1.90215332e+02,  7.32269821e+01,\n",
       "        -2.29284302e+03,  2.71205962e-01,  2.05712305e+03,\n",
       "         5.49888909e-01,  2.40542529e+03,  0.00000000e+00,\n",
       "         0.00000000e+00],\n",
       "       [ 8.26806843e-01,  1.88353714e+02,  7.29865341e+01,\n",
       "        -3.42985522e+03,  4.38183732e-02,  2.99584253e+03,\n",
       "         2.59783179e-01,  1.52522729e+03,  1.00000000e+00,\n",
       "         1.00000000e+00],\n",
       "       [ 6.82106316e-01,  1.89094208e+02,  7.46651459e+01,\n",
       "        -1.65326831e+03,  1.57851383e-01,  2.15143384e+03,\n",
       "         5.00975251e-01,  3.45855957e+03,  0.00000000e+00,\n",
       "         9.00000000e+00]])"
      ]
     },
     "execution_count": 98,
     "metadata": {},
     "output_type": "execute_result"
    }
   ],
   "source": [
    "most_decode_XH[100]"
   ]
  },
  {
   "cell_type": "code",
   "execution_count": 108,
   "id": "e739c0bc-b66f-44d3-9c51-6b107d0746b6",
   "metadata": {},
   "outputs": [
    {
     "name": "stdout",
     "output_type": "stream",
     "text": [
      "Percent non na: 0.2872129772711389\n"
     ]
    }
   ],
   "source": [
    "# Assuming most_decode_XH is your numpy array\n",
    "na_mask = np.isnan(most_decode_XH)  # Step 1: Create a mask of where NaNs are\n",
    "any_na = np.any(na_mask, axis=1)   # Step 2: Check along the second axis\n",
    "print(f'Percent non na: {1- np.sum(any_na, axis = 0)[0] / len(most_decode_XH)}')"
   ]
  },
  {
   "cell_type": "code",
   "execution_count": null,
   "id": "2ab9b191-89d6-4f78-b8bd-5e8eb58a714e",
   "metadata": {},
   "outputs": [],
   "source": []
  }
 ],
 "metadata": {
  "kernelspec": {
   "display_name": "Python 3 (ipykernel)",
   "language": "python",
   "name": "python3"
  },
  "language_info": {
   "codemirror_mode": {
    "name": "ipython",
    "version": 3
   },
   "file_extension": ".py",
   "mimetype": "text/x-python",
   "name": "python",
   "nbconvert_exporter": "python",
   "pygments_lexer": "ipython3",
   "version": "3.9.16"
  }
 },
 "nbformat": 4,
 "nbformat_minor": 5
}
