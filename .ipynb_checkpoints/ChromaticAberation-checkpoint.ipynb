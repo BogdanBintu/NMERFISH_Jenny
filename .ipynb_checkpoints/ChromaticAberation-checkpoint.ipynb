{
 "cells": [
  {
   "cell_type": "code",
   "execution_count": 37,
   "id": "25a4ac83-fa08-461a-a785-6ea661ae415d",
   "metadata": {},
   "outputs": [],
   "source": [
    "from ioMicro import *\n",
    "\n"
   ]
  },
  {
   "cell_type": "code",
   "execution_count": 38,
   "id": "a6b1992a-8770-4577-9262-da6976c3cafb",
   "metadata": {},
   "outputs": [],
   "source": [
    "fls2 = np.sort(glob.glob(r'C:\\Scripts\\NMERFISH_Jenny\\analysis_031524_v1_acry_37C_pilot\\*--*H65*col2*'))\n",
    "fls0 = np.sort(glob.glob(r'C:\\Scripts\\NMERFISH_Jenny\\analysis_031524_v1_acry_37C_pilot\\*--*H66*col0*'))\n",
    "fls1 = np.sort(glob.glob(r'C:\\Scripts\\NMERFISH_Jenny\\analysis_031524_v1_acry_37C_pilot\\*--*H67*col1*'))"
   ]
  },
  {
   "cell_type": "code",
   "execution_count": 39,
   "id": "99f14021-fba9-401a-a016-fb4bf925afde",
   "metadata": {},
   "outputs": [
    {
     "data": {
      "text/plain": [
       "[32, 32, 32]"
      ]
     },
     "execution_count": 39,
     "metadata": {},
     "output_type": "execute_result"
    }
   ],
   "source": [
    "list(map(len,[fls1,fls2,fls0]))"
   ]
  },
  {
   "cell_type": "code",
   "execution_count": 94,
   "id": "364fb5c4-0278-4936-aa79-c24424e1054a",
   "metadata": {},
   "outputs": [
    {
     "name": "stderr",
     "output_type": "stream",
     "text": [
      "100%|███████████████████████████████████████████████████████████████████████████████████████████████████████████████████████████████████████████████████████████████████████████████████████████████████████████████████████████████████████████████████████████████████████████████████████████████████████████████████████████████████████████████████████████████████████████████████████████████████| 32/32 [01:50<00:00,  3.47s/it]\n"
     ]
    }
   ],
   "source": [
    "def redefine_name(fl): \n",
    "    fov,hfld,col = os.path.basename(fl).split('--')\n",
    "    return hfld+os.sep+fov+'.zarr'\n",
    "save_folder = r'C:\\Scripts\\NMERFISH_Jenny\\analysis_031524_v1_acry_37C_pilot'\n",
    "Xh12s = [[],[]]\n",
    "Xh10s = [[],[]]\n",
    "for fl1,fl2,fl0 in zip(tqdm(fls1),fls2,fls0):\n",
    "    res2 = get_best_translation_pointsV2(redefine_name(fl2),redefine_name(fl1),save_folder,resc=5,th=4) ### color2 drift relative to color1\n",
    "    res0 = get_best_translation_pointsV2(redefine_name(fl0),redefine_name(fl1),save_folder,resc=5,th=4) ### color0 drift relative to color1\n",
    "    dic_th = {0:12000,1:15000,2:5000}\n",
    "    Xh1 = np.load(fl1)['Xh']\n",
    "    Xh2 = np.load(fl2)['Xh']\n",
    "    Xh0 = np.load(fl0)['Xh']\n",
    "    Xh1=Xh1[Xh1[:,-1]>dic_th[1]]\n",
    "    Xh2=Xh2[Xh2[:,-1]>dic_th[2]]\n",
    "    Xh0=Xh0[Xh0[:,-1]>dic_th[0]]\n",
    "    X1 = Xh1[:,:3]\n",
    "    X2 = Xh2[:,:3]+res2[0]\n",
    "    X0 = Xh0[:,:3]+res0[0]\n",
    "    from scipy.spatial import KDTree\n",
    "    dpix=5\n",
    "    ds,ind1 = KDTree(X1).query(X2)\n",
    "    ind2 = np.where(ds<dpix)[0]\n",
    "    ind1=ind1[ind2]\n",
    "    h1,h2 = Xh1[ind1,-1],Xh2[ind2,-1]\n",
    "    Xh1_ = Xh1[ind1]\n",
    "    Xh2_ = Xh2[ind2]\n",
    "    Xh2_[:,:3]+=res2[0]\n",
    "    Xh12s[0].extend(Xh1_)\n",
    "    Xh12s[1].extend(Xh2_)\n",
    "    hfactor2 = np.median(h1/h2)\n",
    "    \n",
    "    ds,ind1 = KDTree(X1).query(X0)\n",
    "    ind0 = np.where(ds<dpix)[0]\n",
    "    ind1=ind1[ind0]\n",
    "    h1,h0 = Xh1[ind1,-1],Xh0[ind0,-1]\n",
    "    hfactor0 = np.median(h1/h0)\n",
    "\n",
    "    Xh1_ = Xh1[ind1]\n",
    "    Xh0_ = Xh0[ind0]\n",
    "    Xh0_[:,:3]+=res0[0]\n",
    "    Xh10s[0].extend(Xh1_)\n",
    "    Xh10s[1].extend(Xh0_)"
   ]
  },
  {
   "cell_type": "code",
   "execution_count": 105,
   "id": "ec922c4b-1a05-4883-8e38-157664e33cca",
   "metadata": {},
   "outputs": [],
   "source": [
    "resc = 50\n",
    "dic_pos = {}\n",
    "Xh10s = np.array(Xh10s)\n",
    "for x1,x2 in np.rollaxis(Xh10s,1):\n",
    "    x2d1 = x1[1:3]\n",
    "    key = tuple(np.round(x2d1/resc).astype(int))\n",
    "    if key not in dic_pos: dic_pos[key]=[]\n",
    "    dic_pos[key].append([x1[:3],x2[:3]])\n",
    "keys = list(dic_pos.keys())\n",
    "key = keys[0]\n",
    "paired_array = []\n",
    "for key in keys:\n",
    "    paired_array.append(np.mean(dic_pos[key],axis=0))\n",
    "    #paired_array.extend(dic_pos[key])\n",
    "paired_array = np.array(paired_array) "
   ]
  },
  {
   "cell_type": "code",
   "execution_count": 116,
   "id": "94d6d856-a552-4500-908d-b62f1ea7f596",
   "metadata": {},
   "outputs": [
    {
     "name": "stderr",
     "output_type": "stream",
     "text": [
      "C:\\Users\\ClevelandLab\\AppData\\Local\\Temp\\ipykernel_2268\\2685118863.py:31: FutureWarning: `rcond` parameter will change to the default of machine precision times ``max(M, N)`` where M and N are the input matrix dimensions.\n",
      "To use the future default and silence this warning we advise to pass `rcond=None`, to keep using the old, explicitly pass `rcond=-1`.\n",
      "  m_ = [np.linalg.lstsq(A, y_[:,iy])[0] for iy in range(len(x_[0]))]\n"
     ]
    }
   ],
   "source": [
    "x1 = paired_array[:,0]\n",
    "x0 = paired_array[:,1]\n",
    "m0 = calc_color_matrix(x1,x0,order=2,ransac=False) ###use 1 as a reference\n",
    "x01 = apply_colorcor(x0,m=m0)\n",
    "if False:\n",
    "    import napari\n",
    "    V = napari.view_points(x0[:,1:],size=1,face_color='r',edge_width=0)\n",
    "    V.add_points(x1[:,1:],size=1,face_color='g',edge_width=0)\n",
    "    V.add_points(x01[:,1:],size=1,face_color='b',edge_width=0)\n",
    "dic_chrom = {'m0':m0}"
   ]
  },
  {
   "cell_type": "code",
   "execution_count": null,
   "id": "bf07923c-4c58-4f03-94a4-95b10c630b61",
   "metadata": {},
   "outputs": [],
   "source": []
  },
  {
   "cell_type": "code",
   "execution_count": null,
   "id": "b3b7fbf4-7015-49a8-8340-b061a835e218",
   "metadata": {},
   "outputs": [],
   "source": []
  },
  {
   "cell_type": "code",
   "execution_count": 112,
   "id": "ac2f55d9-448a-4b8c-a430-b53f66af7ac2",
   "metadata": {},
   "outputs": [
    {
     "data": {
      "text/plain": [
       "array([[-4.98086315e-01, -2.72232492e-04, -2.01770393e-04,\n",
       "        -4.07837020e-04,  7.30850588e-08,  3.09364375e-09,\n",
       "         7.52969673e-08,  1.85154437e-06,  8.41469566e-07,\n",
       "        -9.94407841e-05],\n",
       "       [ 2.39345071e-01,  4.30281202e-05, -1.76625102e-04,\n",
       "         1.33984596e-02, -7.53639890e-09, -6.47028394e-09,\n",
       "        -3.57654622e-09, -3.30770455e-07,  2.62134928e-06,\n",
       "        -5.56524760e-04],\n",
       "       [-4.84382805e-02, -1.08029224e-04,  1.33120956e-05,\n",
       "         1.71612879e-02, -3.10052966e-08, -1.29797587e-09,\n",
       "         4.19437509e-09,  2.14154665e-06, -1.09776435e-06,\n",
       "        -6.04212188e-04]])"
      ]
     },
     "execution_count": 112,
     "metadata": {},
     "output_type": "execute_result"
    }
   ],
   "source": [
    "m0"
   ]
  },
  {
   "cell_type": "code",
   "execution_count": 106,
   "id": "3a34e9e1-bb96-4677-8c46-0a27bc29cc32",
   "metadata": {},
   "outputs": [
    {
     "data": {
      "text/plain": [
       "(3179, 2, 3)"
      ]
     },
     "execution_count": 106,
     "metadata": {},
     "output_type": "execute_result"
    }
   ],
   "source": [
    "paired_array.shape"
   ]
  },
  {
   "cell_type": "code",
   "execution_count": 108,
   "id": "fa754b7c-bcc5-48a3-ad18-4ee8854ebc51",
   "metadata": {},
   "outputs": [],
   "source": [
    "def calc_color_matrix(x,y,order=2,ransac=False):\n",
    "    \"\"\"This gives a quadratic color transformation (in matrix form)\n",
    "    x is Nx3 vector of positions in the reference channel (typically cy5)\n",
    "    y is the Nx3 vector of positions in another channel (i.e. cy7)\n",
    "    return m_ a 3x7 matrix which when multipled with x,x**2,1 returns y-x\n",
    "    This m_ is indended to be used with apply_colorcor\n",
    "    \"\"\" \n",
    "    x_ = np.array(y)# ref zxy\n",
    "    y_ = np.array(x)-x_# dif zxy\n",
    "    # get a list of exponents\n",
    "    exps = []\n",
    "    for p in range(order+1):\n",
    "        for i in range(p+1):\n",
    "            for j in range(p+1):\n",
    "                if i+j<=p:\n",
    "                    exps.append([i,j,p-i-j])\n",
    "    # construct A matrix\n",
    "    A = np.zeros([len(x_),len(exps)])\n",
    "    for iA,(ix,iy,iz) in enumerate(exps):\n",
    "        s = (x_[:,0]**ix*x_[:,1]**iy*x_[:,2]**iz)\n",
    "        A[:,iA]=s\n",
    "    if ransac:\n",
    "        ransac = linear_model.RANSACRegressor()\n",
    "        ransac.base_estimator = linear_model.LinearRegression(fit_intercept=False)\n",
    "        m_ = []\n",
    "        for iy in range(len(x_[0])):\n",
    "            ransac.fit(A, y_[:,iy])\n",
    "            m_.append(ransac.estimator_.coef_)\n",
    "        m_=np.array(m_)\n",
    "    else:\n",
    "        m_ = [np.linalg.lstsq(A, y_[:,iy])[0] for iy in range(len(x_[0]))]\n",
    "    m_=np.array(m_)\n",
    "    return m_\n",
    "def apply_colorcor(x,m=None):\n",
    "    \"\"\"This applies chromatic abberation correction to order 2\n",
    "    x is a Nx3 vector of positions (typically 750(-->647))\n",
    "    m is a matrix computed by function calc_color_matrix\n",
    "    y is the corrected vector in another channel\"\"\"\n",
    "    if m is None:\n",
    "        return x\n",
    "    exps = []\n",
    "    order_max=10\n",
    "    for p in range(order_max+1):\n",
    "        for i in range(p+1):\n",
    "            for j in range(p+1):\n",
    "                if i+j<=p:\n",
    "                    exps.append([i,j,p-i-j])\n",
    "    #find the order\n",
    "    mx,my = m.shape\n",
    "    order = int((my-1)/mx)\n",
    "    assert(my<len(exps))\n",
    "    x_ = np.array(x)\n",
    "    # construct A matrix\n",
    "    exps = exps[:my]\n",
    "    A = np.zeros([len(x_),len(exps)])\n",
    "    for iA,(ix,iy,iz) in enumerate(exps):\n",
    "        s = (x_[:,0]**ix*x_[:,1]**iy*x_[:,2]**iz)\n",
    "        A[:,iA]=s\n",
    "    diff = [np.dot(A,m_) for m_ in m]\n",
    "    return x_+np.array(diff).T"
   ]
  },
  {
   "cell_type": "code",
   "execution_count": null,
   "id": "28986994-af6b-4552-9be7-46604b1f595c",
   "metadata": {},
   "outputs": [],
   "source": []
  },
  {
   "cell_type": "code",
   "execution_count": null,
   "id": "b415d922-f7c6-4f34-94f0-9fdfdb838b5b",
   "metadata": {},
   "outputs": [],
   "source": []
  },
  {
   "cell_type": "code",
   "execution_count": null,
   "id": "bc1b6563-f1c8-4b36-b51d-956526c0c3b8",
   "metadata": {},
   "outputs": [],
   "source": []
  },
  {
   "cell_type": "code",
   "execution_count": null,
   "id": "e86e7fff-9e9a-4e3e-b534-a95e3f8eb68c",
   "metadata": {},
   "outputs": [],
   "source": []
  },
  {
   "cell_type": "code",
   "execution_count": null,
   "id": "d4f0ba31-a500-411a-8888-dd51b5bda8ed",
   "metadata": {},
   "outputs": [],
   "source": []
  },
  {
   "cell_type": "code",
   "execution_count": null,
   "id": "b311e0c7-626b-4af4-994d-5b0d94d8731b",
   "metadata": {},
   "outputs": [],
   "source": []
  },
  {
   "cell_type": "code",
   "execution_count": null,
   "id": "79f53e21-d2e8-4644-b93f-edf2ea8c29b6",
   "metadata": {},
   "outputs": [],
   "source": []
  },
  {
   "cell_type": "code",
   "execution_count": 91,
   "id": "fc761804-ca34-4d50-b4c6-eb359c614e06",
   "metadata": {},
   "outputs": [],
   "source": [
    "dic_th = {0:12000,1:15000,2:5000}\n",
    "Xh1 = np.load(fl1)['Xh']\n",
    "Xh2 = np.load(fl2)['Xh']\n",
    "Xh0 = np.load(fl0)['Xh']\n",
    "Xh1=Xh1[Xh1[:,-1]>dic_th[1]]\n",
    "Xh2=Xh2[Xh2[:,-1]>dic_th[2]]\n",
    "Xh0=Xh0[Xh0[:,-1]>dic_th[0]]\n",
    "X1 = Xh1[:,:3]\n",
    "X2 = Xh2[:,:3]+res2[0]\n",
    "X0 = Xh0[:,:3]+res0[0]\n"
   ]
  },
  {
   "cell_type": "code",
   "execution_count": 93,
   "id": "f16e2067-6432-4a0b-b2b4-60d6d09177af",
   "metadata": {},
   "outputs": [
    {
     "data": {
      "text/plain": [
       "<Points layer 'X0' at 0x252e24b85e0>"
      ]
     },
     "execution_count": 93,
     "metadata": {},
     "output_type": "execute_result"
    }
   ],
   "source": [
    "V = napari.view_points(X1,face_color='r',edge_width=0,blending='Additive',size=2)\n",
    "V.add_points(X2,face_color='g',edge_width=0,blending='Additive',size=2)\n",
    "V.add_points(X0,face_color='b',edge_width=0,blending='Additive',size=2)"
   ]
  },
  {
   "cell_type": "code",
   "execution_count": null,
   "id": "64d16de6-9002-4e0c-bc75-9fe4af7bb136",
   "metadata": {},
   "outputs": [],
   "source": []
  },
  {
   "cell_type": "code",
   "execution_count": 96,
   "id": "66e78cea-0e08-410d-b029-2f7feb59f2ef",
   "metadata": {},
   "outputs": [],
   "source": []
  },
  {
   "cell_type": "code",
   "execution_count": 97,
   "id": "2bf22852-be61-489b-a97b-cbfdf44bfcda",
   "metadata": {},
   "outputs": [
    {
     "data": {
      "text/plain": [
       "(72865, 2, 8)"
      ]
     },
     "execution_count": 97,
     "metadata": {},
     "output_type": "execute_result"
    }
   ],
   "source": [
    "np.rollaxis(Xh10s,1).shape"
   ]
  },
  {
   "cell_type": "code",
   "execution_count": 98,
   "id": "cd06436f-3f0c-4f72-817a-48954e174450",
   "metadata": {},
   "outputs": [],
   "source": [
    "resc = 50\n",
    "dic_pos = {}\n",
    "Xh10s = np.array(Xh10s)\n",
    "for x1,x2 in np.rollaxis(Xh10s,1):\n",
    "    x2d1 = x1[1:3]\n",
    "    key = tuple(np.round(x2d1/resc).astype(int))\n",
    "    if key not in dic_pos: dic_pos[key]=[]\n",
    "    dic_pos[key].append([x1[:3],x2[:3]])\n",
    "keys = list(dic_pos.keys())\n",
    "key = keys[0]\n",
    "paired_array = []\n",
    "for key in keys:\n",
    "    paired_array.append(np.mean(dic_pos[key],axis=0))\n",
    "    #paired_array.extend(dic_pos[key])\n",
    "paired_array = np.array(paired_array) "
   ]
  },
  {
   "cell_type": "code",
   "execution_count": 102,
   "id": "b30c9996-2d17-4aab-aa88-8d96e987d599",
   "metadata": {},
   "outputs": [],
   "source": [
    "resc = 50\n",
    "dic_pos = {}\n",
    "Xh12s = np.array(Xh12s)\n",
    "for x1,x2 in np.rollaxis(Xh12s,1):\n",
    "    x2d1 = x1[1:3]\n",
    "    key = tuple(np.round(x2d1/resc).astype(int))\n",
    "    if key not in dic_pos: dic_pos[key]=[]\n",
    "    dic_pos[key].append([x1[:3],x2[:3]])\n",
    "keys = list(dic_pos.keys())\n",
    "key = keys[0]\n",
    "paired_array = []\n",
    "for key in keys:\n",
    "    paired_array.append(np.mean(dic_pos[key],axis=0))\n",
    "    #paired_array.extend(dic_pos[key])\n",
    "paired_array = np.array(paired_array) "
   ]
  },
  {
   "cell_type": "code",
   "execution_count": null,
   "id": "afba2234-70b7-41d7-b15d-63a08d8f39d2",
   "metadata": {},
   "outputs": [],
   "source": []
  },
  {
   "cell_type": "code",
   "execution_count": 104,
   "id": "3fe9dde3-1a1b-4316-9922-6055ee4eeab8",
   "metadata": {},
   "outputs": [
    {
     "data": {
      "text/plain": [
       "<Points layer 'Points [1]' at 0x252b5f70ac0>"
      ]
     },
     "execution_count": 104,
     "metadata": {},
     "output_type": "execute_result"
    }
   ],
   "source": [
    "import napari\n",
    "V = napari.view_points(paired_array[:,0,1:],size=2,face_color='r',edge_width=0)\n",
    "V.add_points(paired_array[:,1,1:],size=2,face_color='g',edge_width=0)"
   ]
  },
  {
   "cell_type": "code",
   "execution_count": 28,
   "id": "f713e999-5bbb-4fda-a835-4cfc199b5d36",
   "metadata": {},
   "outputs": [],
   "source": [
    "\n",
    "Xh1 = np.load(fl1)['Xh']\n",
    "Xh2 = np.load(fl2)['Xh']\n",
    "Xh0 = np.load(fl0)['Xh']\n",
    "im1 = im_max__from_Xh(Xh1,ds=5)\n",
    "im2 = im_max__from_Xh(Xh2,ds=5)\n",
    "im0 = im_max__from_Xh(Xh0,ds=5)"
   ]
  },
  {
   "cell_type": "code",
   "execution_count": 47,
   "id": "3fc8c16c-3866-4f8f-9427-42c1e8bafd3b",
   "metadata": {},
   "outputs": [],
   "source": [
    "dic_th = {0:7500,1:10000,2:5000}\n",
    "Xh1 = np.load(fl1)['Xh']\n",
    "Xh2 = np.load(fl2)['Xh']\n",
    "Xh0 = np.load(fl0)['Xh']\n",
    "Xh1=Xh1[Xh1[:,-1]>dic_th[1]]\n",
    "Xh2=Xh2[Xh2[:,-1]>dic_th[2]]\n",
    "Xh0=Xh0[Xh0[:,-1]>dic_th[0]]\n",
    "X1 = Xh1[:,:3]\n",
    "X2 = Xh2[:,:3]+res2[0]\n",
    "X0 = Xh0[:,:3]+res0[0]\n",
    "from scipy.spatial import KDTree\n",
    "dpix=5\n",
    "ds,ind1 = KDTree(X1).query(X2)\n",
    "ind2 = np.where(ds<dpix)[0]\n",
    "ind1=ind1[ind2]\n",
    "h1,h2 = Xh1[ind1,-1],Xh2[ind2,-1]\n",
    "hfactor2 = np.median(h1/h2)\n",
    "\n",
    "ds,ind1 = KDTree(X1).query(X0)\n",
    "ind0 = np.where(ds<dpix)[0]\n",
    "ind1=ind1[ind0]\n",
    "h1,h0 = Xh1[ind1,-1],Xh0[ind0,-1]\n",
    "hfactor0 = np.median(h1/h0)"
   ]
  },
  {
   "cell_type": "code",
   "execution_count": 48,
   "id": "8b31aa4d-a0d7-441a-b8e0-b3e213f28e80",
   "metadata": {},
   "outputs": [
    {
     "data": {
      "text/plain": [
       "(3.0938606, 1.285618)"
      ]
     },
     "execution_count": 48,
     "metadata": {},
     "output_type": "execute_result"
    }
   ],
   "source": [
    "hfactor2,hfactor0"
   ]
  },
  {
   "cell_type": "code",
   "execution_count": 44,
   "id": "6bfa9709-4450-4fdc-b922-b69916c76200",
   "metadata": {},
   "outputs": [
    {
     "data": {
      "text/plain": [
       "[<matplotlib.lines.Line2D at 0x2528f350100>]"
      ]
     },
     "execution_count": 44,
     "metadata": {},
     "output_type": "execute_result"
    },
    {
     "data": {
      "image/png": "[encoded data removed]",
      "text/plain": [
       "<Figure size 640x480 with 1 Axes>"
      ]
     },
     "metadata": {},
     "output_type": "display_data"
    }
   ],
   "source": [
    "plt.loglog(h1,h2,'o')"
   ]
  },
  {
   "cell_type": "code",
   "execution_count": 29,
   "id": "6636334e-7c24-4935-a70d-5f1bc5a8b686",
   "metadata": {},
   "outputs": [
    {
     "data": {
      "text/plain": [
       "<Image layer 'im0' at 0x2528dedda00>"
      ]
     },
     "execution_count": 29,
     "metadata": {},
     "output_type": "execute_result"
    }
   ],
   "source": [
    "import napari\n",
    "V = napari.view_image(im1)\n",
    "V.add_image(im2,translate=res2[0][1:].astype(int))\n",
    "V.add_image(im0,translate=res0[0][1:].astype(int))"
   ]
  },
  {
   "cell_type": "code",
   "execution_count": 25,
   "id": "e9580826-c844-4842-bbc9-f8ece8ed84cb",
   "metadata": {},
   "outputs": [
    {
     "data": {
      "text/plain": [
       "Viewer(axes=Axes(visible=False, labels=True, colored=True, dashed=False, arrows=True), camera=Camera(center=(0.0, 1399.5, 1400.0), zoom=0.2096785714285714, angles=(0.0, 0.0, 90.0), perspective=0.0, interactive=True), cursor=Cursor(position=(1.0, 1.0), scaled=True, size=1, style=<CursorStyle.STANDARD: 'standard'>), dims=Dims(ndim=2, ndisplay=2, last_used=0, range=((0.0, 2800.0, 1.0), (0.0, 2801.0, 1.0)), current_step=(1400, 1400), order=(0, 1), axis_labels=('0', '1')), grid=GridCanvas(stride=1, shape=(-1, -1), enabled=False), layers=[<Image layer 'im' at 0x2528c7d37f0>], scale_bar=ScaleBar(visible=False, colored=False, color=array([1., 0., 1., 1.], dtype=float32), ticks=True, position=<Position.BOTTOM_RIGHT: 'bottom_right'>, font_size=10.0, box=False, box_color=array([0. , 0. , 0. , 0.6], dtype=float32), unit=None), text_overlay=TextOverlay(visible=False, color=array([0.5, 0.5, 0.5, 1. ], dtype=float32), font_size=10.0, position=<TextOverlayPosition.TOP_LEFT: 'top_left'>, text=''), overlays=Overlays(interaction_box=InteractionBox(points=None, show=False, show_handle=False, show_vertices=False, selection_box_drag=None, selection_box_final=None, transform_start=<napari.utils.transforms.transforms.Affine object at 0x000002528A0EE640>, transform_drag=<napari.utils.transforms.transforms.Affine object at 0x000002528A0EE6A0>, transform_final=<napari.utils.transforms.transforms.Affine object at 0x000002528A0EE700>, transform=<napari.utils.transforms.transforms.Affine object at 0x000002528A0EE760>, allow_new_selection=True, selected_vertex=None)), help='', status='Ready', tooltip=Tooltip(visible=False, text=''), theme='dark', title='napari', mouse_over_canvas=False, mouse_move_callbacks=[<function InteractionBoxMouseBindings.initialize_mouse_events.<locals>.mouse_move at 0x000002528C7A30D0>], mouse_drag_callbacks=[<function InteractionBoxMouseBindings.initialize_mouse_events.<locals>.mouse_drag at 0x000002528C78FCA0>], mouse_double_click_callbacks=[], mouse_wheel_callbacks=[<function dims_scroll at 0x000002526A0049D0>], _persisted_mouse_event={}, _mouse_drag_gen={}, _mouse_wheel_gen={}, keymap={'Shift': <function InteractionBoxMouseBindings.initialize_key_events.<locals>.hold_to_lock_aspect_ratio at 0x000002528C78F5E0>, 'Control-Shift-R': <function InteractionBoxMouseBindings._reset_active_layer_affine at 0x000002528C78F3A0>, 'Control-Shift-A': <function InteractionBoxMouseBindings._transform_active_layer at 0x000002528C78F160>})"
      ]
     },
     "execution_count": 25,
     "metadata": {},
     "output_type": "execute_result"
    }
   ],
   "source": [
    "im = im_max__from_Xh(Xh,ds=5)\n",
    "import napari\n",
    "napari.view_image(im)"
   ]
  },
  {
   "cell_type": "code",
   "execution_count": 9,
   "id": "815d2a2e-dd87-408e-baae-3f24e47e563f",
   "metadata": {},
   "outputs": [
    {
     "data": {
      "text/plain": [
       "('C:\\\\Scripts\\\\NMERFISH_Jenny\\\\analysis_031524_v1_acry_37C_pilot\\\\Conv_zscan__05--H67_P2_F10_11_12_cy5--col1__Xhfits.npz',\n",
       " 'H67_P2_F10_11_12_cy5\\\\Conv_zscan__05.zarr')"
      ]
     },
     "execution_count": 9,
     "metadata": {},
     "output_type": "execute_result"
    }
   ],
   "source": [
    "fl1,redefine_name(fl1)"
   ]
  },
  {
   "cell_type": "code",
   "execution_count": null,
   "id": "f216458b-11a0-4004-975b-38a020c177f7",
   "metadata": {},
   "outputs": [],
   "source": [
    "compute_drift_V2(save_folder,fov,all_flds,redo=redo_drift,gpu=True)"
   ]
  },
  {
   "cell_type": "code",
   "execution_count": 10,
   "id": "9531bb53-fdd5-4974-84d0-f11c8fe65cd4",
   "metadata": {},
   "outputs": [
    {
     "data": {
      "text/plain": [
       "[array([-0.05190681, 13.788449  ,  3.5036564 ], dtype=float32),\n",
       " array([  0.05856021, -13.79427   ,  -3.5155792 ], dtype=float32),\n",
       " array([  0.04034138, -13.778335  ,  -3.482931  ], dtype=float32),\n",
       " 14824,\n",
       " 8528]"
      ]
     },
     "execution_count": 10,
     "metadata": {},
     "output_type": "execute_result"
    }
   ],
   "source": [
    "res"
   ]
  }
 ],
 "metadata": {
  "kernelspec": {
   "display_name": "Python 3 (ipykernel)",
   "language": "python",
   "name": "python3"
  },
  "language_info": {
   "codemirror_mode": {
    "name": "ipython",
    "version": 3
   },
   "file_extension": ".py",
   "mimetype": "text/x-python",
   "name": "python",
   "nbconvert_exporter": "python",
   "pygments_lexer": "ipython3",
   "version": "3.9.16"
  }
 },
 "nbformat": 4,
 "nbformat_minor": 5
}
